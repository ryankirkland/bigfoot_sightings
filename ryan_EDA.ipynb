{
 "cells": [
  {
   "cell_type": "code",
   "execution_count": 1,
   "metadata": {},
   "outputs": [],
   "source": [
    "import pandas as pd\n",
    "import numpy as np\n",
    "import matplotlib.pyplot as plt"
   ]
  },
  {
   "cell_type": "code",
   "execution_count": 61,
   "metadata": {},
   "outputs": [],
   "source": [
    "df = pd.read_csv('df.csv')"
   ]
  },
  {
   "cell_type": "code",
   "execution_count": 62,
   "metadata": {},
   "outputs": [],
   "source": [
    "df = df.drop('Unnamed: 0', axis=1)"
   ]
  },
  {
   "cell_type": "code",
   "execution_count": 63,
   "metadata": {},
   "outputs": [
    {
     "data": {
      "text/html": [
       "<div>\n",
       "<style scoped>\n",
       "    .dataframe tbody tr th:only-of-type {\n",
       "        vertical-align: middle;\n",
       "    }\n",
       "\n",
       "    .dataframe tbody tr th {\n",
       "        vertical-align: top;\n",
       "    }\n",
       "\n",
       "    .dataframe thead th {\n",
       "        text-align: right;\n",
       "    }\n",
       "</style>\n",
       "<table border=\"1\" class=\"dataframe\">\n",
       "  <thead>\n",
       "    <tr style=\"text-align: right;\">\n",
       "      <th></th>\n",
       "      <th>submission_date</th>\n",
       "      <th>submission_title</th>\n",
       "      <th>observations</th>\n",
       "      <th>classification</th>\n",
       "      <th>nearest_town</th>\n",
       "      <th>state</th>\n",
       "      <th>county</th>\n",
       "      <th>time_and_condition</th>\n",
       "      <th>other_witness</th>\n",
       "      <th>season</th>\n",
       "    </tr>\n",
       "  </thead>\n",
       "  <tbody>\n",
       "    <tr>\n",
       "      <th>0</th>\n",
       "      <td>Submitted  by  witness   on Saturday, November...</td>\n",
       "      <td>Snowmobiler has encounter in deep snow near Po...</td>\n",
       "      <td>OBSERVED: I and two of my friends were bored o...</td>\n",
       "      <td>(Class A)</td>\n",
       "      <td>NEAREST TOWN: Anchorage / Hillside</td>\n",
       "      <td>STATE: Alaska</td>\n",
       "      <td>COUNTY: Anchorage County</td>\n",
       "      <td>TIME AND CONDITIONS: Middle of the night. The ...</td>\n",
       "      <td>OTHER WITNESSES: My two friends were snowmachi...</td>\n",
       "      <td>SEASON: Winter</td>\n",
       "    </tr>\n",
       "    <tr>\n",
       "      <th>1</th>\n",
       "      <td>Submitted  by  witness   on Thursday, June 3, ...</td>\n",
       "      <td>Four nocturnal hikers get pelted with snow nea...</td>\n",
       "      <td>OBSERVED: Me and a couple of friends had been ...</td>\n",
       "      <td>(Class B)</td>\n",
       "      <td>NEAREST TOWN: Anchorage</td>\n",
       "      <td>STATE: Alaska</td>\n",
       "      <td>COUNTY: Anchorage County</td>\n",
       "      <td>TIME AND CONDITIONS: Started at 11, ended at a...</td>\n",
       "      <td>OTHER WITNESSES: 4. Me, w-man, warren and sean...</td>\n",
       "      <td>SEASON: Winter</td>\n",
       "    </tr>\n",
       "    <tr>\n",
       "      <th>2</th>\n",
       "      <td>Submitted  by  witness A. M. on Tuesday, Octob...</td>\n",
       "      <td>Creature observed walking back and forth by wi...</td>\n",
       "      <td>OBSERVED: My hunting buddy and I were sitting ...</td>\n",
       "      <td>(Class B)</td>\n",
       "      <td>NaN</td>\n",
       "      <td>STATE: Alaska</td>\n",
       "      <td>COUNTY: Bethel County</td>\n",
       "      <td>NaN</td>\n",
       "      <td>OTHER WITNESSES: Scouting for caribou with hig...</td>\n",
       "      <td>SEASON: Fall</td>\n",
       "    </tr>\n",
       "    <tr>\n",
       "      <th>3</th>\n",
       "      <td>Submitted  by  witness   on Friday, May 6, 2005.</td>\n",
       "      <td>Fishermen find footprints east of Egegik</td>\n",
       "      <td>OBSERVED: To whom it may concern, I am a comme...</td>\n",
       "      <td>(Class B)</td>\n",
       "      <td>NEAREST TOWN: Egegik</td>\n",
       "      <td>STATE: Alaska</td>\n",
       "      <td>COUNTY: Bristol Bay County</td>\n",
       "      <td>TIME AND CONDITIONS: Approximately 12:30 pm, p...</td>\n",
       "      <td>OTHER WITNESSES: One other witness, and he was...</td>\n",
       "      <td>SEASON: Summer</td>\n",
       "    </tr>\n",
       "    <tr>\n",
       "      <th>4</th>\n",
       "      <td>Submitted  by  witness   on Monday, November 1...</td>\n",
       "      <td>Campers' encounter just after dark in the Wran...</td>\n",
       "      <td>OBSERVED: My hiking partner and I arrived late...</td>\n",
       "      <td>(Class A)</td>\n",
       "      <td>NEAREST TOWN: Kennikot, Alaska</td>\n",
       "      <td>STATE: Alaska</td>\n",
       "      <td>COUNTY: Cordova-McCarthy County</td>\n",
       "      <td>TIME AND CONDITIONS: About 12:00 Midnight / fu...</td>\n",
       "      <td>OTHER WITNESSES: I was the only witness, there...</td>\n",
       "      <td>SEASON: Summer</td>\n",
       "    </tr>\n",
       "  </tbody>\n",
       "</table>\n",
       "</div>"
      ],
      "text/plain": [
       "                                     submission_date  \\\n",
       "0  Submitted  by  witness   on Saturday, November...   \n",
       "1  Submitted  by  witness   on Thursday, June 3, ...   \n",
       "2  Submitted  by  witness A. M. on Tuesday, Octob...   \n",
       "3   Submitted  by  witness   on Friday, May 6, 2005.   \n",
       "4  Submitted  by  witness   on Monday, November 1...   \n",
       "\n",
       "                                    submission_title  \\\n",
       "0  Snowmobiler has encounter in deep snow near Po...   \n",
       "1  Four nocturnal hikers get pelted with snow nea...   \n",
       "2  Creature observed walking back and forth by wi...   \n",
       "3           Fishermen find footprints east of Egegik   \n",
       "4  Campers' encounter just after dark in the Wran...   \n",
       "\n",
       "                                        observations classification  \\\n",
       "0  OBSERVED: I and two of my friends were bored o...      (Class A)   \n",
       "1  OBSERVED: Me and a couple of friends had been ...      (Class B)   \n",
       "2  OBSERVED: My hunting buddy and I were sitting ...      (Class B)   \n",
       "3  OBSERVED: To whom it may concern, I am a comme...      (Class B)   \n",
       "4  OBSERVED: My hiking partner and I arrived late...      (Class A)   \n",
       "\n",
       "                         nearest_town          state  \\\n",
       "0  NEAREST TOWN: Anchorage / Hillside  STATE: Alaska   \n",
       "1             NEAREST TOWN: Anchorage  STATE: Alaska   \n",
       "2                                 NaN  STATE: Alaska   \n",
       "3               NEAREST TOWN: Egegik   STATE: Alaska   \n",
       "4      NEAREST TOWN: Kennikot, Alaska  STATE: Alaska   \n",
       "\n",
       "                            county  \\\n",
       "0         COUNTY: Anchorage County   \n",
       "1         COUNTY: Anchorage County   \n",
       "2            COUNTY: Bethel County   \n",
       "3       COUNTY: Bristol Bay County   \n",
       "4  COUNTY: Cordova-McCarthy County   \n",
       "\n",
       "                                  time_and_condition  \\\n",
       "0  TIME AND CONDITIONS: Middle of the night. The ...   \n",
       "1  TIME AND CONDITIONS: Started at 11, ended at a...   \n",
       "2                                                NaN   \n",
       "3  TIME AND CONDITIONS: Approximately 12:30 pm, p...   \n",
       "4  TIME AND CONDITIONS: About 12:00 Midnight / fu...   \n",
       "\n",
       "                                       other_witness          season  \n",
       "0  OTHER WITNESSES: My two friends were snowmachi...  SEASON: Winter  \n",
       "1  OTHER WITNESSES: 4. Me, w-man, warren and sean...  SEASON: Winter  \n",
       "2  OTHER WITNESSES: Scouting for caribou with hig...    SEASON: Fall  \n",
       "3  OTHER WITNESSES: One other witness, and he was...  SEASON: Summer  \n",
       "4  OTHER WITNESSES: I was the only witness, there...  SEASON: Summer  "
      ]
     },
     "execution_count": 63,
     "metadata": {},
     "output_type": "execute_result"
    }
   ],
   "source": [
    "df.head()"
   ]
  },
  {
   "cell_type": "code",
   "execution_count": 64,
   "metadata": {},
   "outputs": [],
   "source": [
    "df['classification'] = df['classification'].astype(str).apply(lambda x: x[1:8])"
   ]
  },
  {
   "cell_type": "code",
   "execution_count": 65,
   "metadata": {},
   "outputs": [
    {
     "data": {
      "text/html": [
       "<div>\n",
       "<style scoped>\n",
       "    .dataframe tbody tr th:only-of-type {\n",
       "        vertical-align: middle;\n",
       "    }\n",
       "\n",
       "    .dataframe tbody tr th {\n",
       "        vertical-align: top;\n",
       "    }\n",
       "\n",
       "    .dataframe thead th {\n",
       "        text-align: right;\n",
       "    }\n",
       "</style>\n",
       "<table border=\"1\" class=\"dataframe\">\n",
       "  <thead>\n",
       "    <tr style=\"text-align: right;\">\n",
       "      <th></th>\n",
       "      <th>submission_date</th>\n",
       "      <th>submission_title</th>\n",
       "      <th>observations</th>\n",
       "      <th>classification</th>\n",
       "      <th>nearest_town</th>\n",
       "      <th>state</th>\n",
       "      <th>county</th>\n",
       "      <th>time_and_condition</th>\n",
       "      <th>other_witness</th>\n",
       "      <th>season</th>\n",
       "    </tr>\n",
       "  </thead>\n",
       "  <tbody>\n",
       "    <tr>\n",
       "      <th>0</th>\n",
       "      <td>Submitted  by  witness   on Saturday, November...</td>\n",
       "      <td>Snowmobiler has encounter in deep snow near Po...</td>\n",
       "      <td>OBSERVED: I and two of my friends were bored o...</td>\n",
       "      <td>Class A</td>\n",
       "      <td>NEAREST TOWN: Anchorage / Hillside</td>\n",
       "      <td>STATE: Alaska</td>\n",
       "      <td>COUNTY: Anchorage County</td>\n",
       "      <td>TIME AND CONDITIONS: Middle of the night. The ...</td>\n",
       "      <td>OTHER WITNESSES: My two friends were snowmachi...</td>\n",
       "      <td>SEASON: Winter</td>\n",
       "    </tr>\n",
       "    <tr>\n",
       "      <th>1</th>\n",
       "      <td>Submitted  by  witness   on Thursday, June 3, ...</td>\n",
       "      <td>Four nocturnal hikers get pelted with snow nea...</td>\n",
       "      <td>OBSERVED: Me and a couple of friends had been ...</td>\n",
       "      <td>Class B</td>\n",
       "      <td>NEAREST TOWN: Anchorage</td>\n",
       "      <td>STATE: Alaska</td>\n",
       "      <td>COUNTY: Anchorage County</td>\n",
       "      <td>TIME AND CONDITIONS: Started at 11, ended at a...</td>\n",
       "      <td>OTHER WITNESSES: 4. Me, w-man, warren and sean...</td>\n",
       "      <td>SEASON: Winter</td>\n",
       "    </tr>\n",
       "    <tr>\n",
       "      <th>2</th>\n",
       "      <td>Submitted  by  witness A. M. on Tuesday, Octob...</td>\n",
       "      <td>Creature observed walking back and forth by wi...</td>\n",
       "      <td>OBSERVED: My hunting buddy and I were sitting ...</td>\n",
       "      <td>Class B</td>\n",
       "      <td>NaN</td>\n",
       "      <td>STATE: Alaska</td>\n",
       "      <td>COUNTY: Bethel County</td>\n",
       "      <td>NaN</td>\n",
       "      <td>OTHER WITNESSES: Scouting for caribou with hig...</td>\n",
       "      <td>SEASON: Fall</td>\n",
       "    </tr>\n",
       "    <tr>\n",
       "      <th>3</th>\n",
       "      <td>Submitted  by  witness   on Friday, May 6, 2005.</td>\n",
       "      <td>Fishermen find footprints east of Egegik</td>\n",
       "      <td>OBSERVED: To whom it may concern, I am a comme...</td>\n",
       "      <td>Class B</td>\n",
       "      <td>NEAREST TOWN: Egegik</td>\n",
       "      <td>STATE: Alaska</td>\n",
       "      <td>COUNTY: Bristol Bay County</td>\n",
       "      <td>TIME AND CONDITIONS: Approximately 12:30 pm, p...</td>\n",
       "      <td>OTHER WITNESSES: One other witness, and he was...</td>\n",
       "      <td>SEASON: Summer</td>\n",
       "    </tr>\n",
       "    <tr>\n",
       "      <th>4</th>\n",
       "      <td>Submitted  by  witness   on Monday, November 1...</td>\n",
       "      <td>Campers' encounter just after dark in the Wran...</td>\n",
       "      <td>OBSERVED: My hiking partner and I arrived late...</td>\n",
       "      <td>Class A</td>\n",
       "      <td>NEAREST TOWN: Kennikot, Alaska</td>\n",
       "      <td>STATE: Alaska</td>\n",
       "      <td>COUNTY: Cordova-McCarthy County</td>\n",
       "      <td>TIME AND CONDITIONS: About 12:00 Midnight / fu...</td>\n",
       "      <td>OTHER WITNESSES: I was the only witness, there...</td>\n",
       "      <td>SEASON: Summer</td>\n",
       "    </tr>\n",
       "  </tbody>\n",
       "</table>\n",
       "</div>"
      ],
      "text/plain": [
       "                                     submission_date  \\\n",
       "0  Submitted  by  witness   on Saturday, November...   \n",
       "1  Submitted  by  witness   on Thursday, June 3, ...   \n",
       "2  Submitted  by  witness A. M. on Tuesday, Octob...   \n",
       "3   Submitted  by  witness   on Friday, May 6, 2005.   \n",
       "4  Submitted  by  witness   on Monday, November 1...   \n",
       "\n",
       "                                    submission_title  \\\n",
       "0  Snowmobiler has encounter in deep snow near Po...   \n",
       "1  Four nocturnal hikers get pelted with snow nea...   \n",
       "2  Creature observed walking back and forth by wi...   \n",
       "3           Fishermen find footprints east of Egegik   \n",
       "4  Campers' encounter just after dark in the Wran...   \n",
       "\n",
       "                                        observations classification  \\\n",
       "0  OBSERVED: I and two of my friends were bored o...        Class A   \n",
       "1  OBSERVED: Me and a couple of friends had been ...        Class B   \n",
       "2  OBSERVED: My hunting buddy and I were sitting ...        Class B   \n",
       "3  OBSERVED: To whom it may concern, I am a comme...        Class B   \n",
       "4  OBSERVED: My hiking partner and I arrived late...        Class A   \n",
       "\n",
       "                         nearest_town          state  \\\n",
       "0  NEAREST TOWN: Anchorage / Hillside  STATE: Alaska   \n",
       "1             NEAREST TOWN: Anchorage  STATE: Alaska   \n",
       "2                                 NaN  STATE: Alaska   \n",
       "3               NEAREST TOWN: Egegik   STATE: Alaska   \n",
       "4      NEAREST TOWN: Kennikot, Alaska  STATE: Alaska   \n",
       "\n",
       "                            county  \\\n",
       "0         COUNTY: Anchorage County   \n",
       "1         COUNTY: Anchorage County   \n",
       "2            COUNTY: Bethel County   \n",
       "3       COUNTY: Bristol Bay County   \n",
       "4  COUNTY: Cordova-McCarthy County   \n",
       "\n",
       "                                  time_and_condition  \\\n",
       "0  TIME AND CONDITIONS: Middle of the night. The ...   \n",
       "1  TIME AND CONDITIONS: Started at 11, ended at a...   \n",
       "2                                                NaN   \n",
       "3  TIME AND CONDITIONS: Approximately 12:30 pm, p...   \n",
       "4  TIME AND CONDITIONS: About 12:00 Midnight / fu...   \n",
       "\n",
       "                                       other_witness          season  \n",
       "0  OTHER WITNESSES: My two friends were snowmachi...  SEASON: Winter  \n",
       "1  OTHER WITNESSES: 4. Me, w-man, warren and sean...  SEASON: Winter  \n",
       "2  OTHER WITNESSES: Scouting for caribou with hig...    SEASON: Fall  \n",
       "3  OTHER WITNESSES: One other witness, and he was...  SEASON: Summer  \n",
       "4  OTHER WITNESSES: I was the only witness, there...  SEASON: Summer  "
      ]
     },
     "execution_count": 65,
     "metadata": {},
     "output_type": "execute_result"
    }
   ],
   "source": [
    "df.head()"
   ]
  },
  {
   "cell_type": "code",
   "execution_count": 66,
   "metadata": {},
   "outputs": [],
   "source": [
    "def clean_string(column, beg, end):\n",
    "    df[column] = df[column].astype(str).apply(lambda x: x[beg:end])"
   ]
  },
  {
   "cell_type": "code",
   "execution_count": 67,
   "metadata": {},
   "outputs": [],
   "source": [
    "clean_string('season', 8, None)"
   ]
  },
  {
   "cell_type": "code",
   "execution_count": 68,
   "metadata": {},
   "outputs": [
    {
     "data": {
      "text/html": [
       "<div>\n",
       "<style scoped>\n",
       "    .dataframe tbody tr th:only-of-type {\n",
       "        vertical-align: middle;\n",
       "    }\n",
       "\n",
       "    .dataframe tbody tr th {\n",
       "        vertical-align: top;\n",
       "    }\n",
       "\n",
       "    .dataframe thead th {\n",
       "        text-align: right;\n",
       "    }\n",
       "</style>\n",
       "<table border=\"1\" class=\"dataframe\">\n",
       "  <thead>\n",
       "    <tr style=\"text-align: right;\">\n",
       "      <th></th>\n",
       "      <th>submission_date</th>\n",
       "      <th>submission_title</th>\n",
       "      <th>observations</th>\n",
       "      <th>classification</th>\n",
       "      <th>nearest_town</th>\n",
       "      <th>state</th>\n",
       "      <th>county</th>\n",
       "      <th>time_and_condition</th>\n",
       "      <th>other_witness</th>\n",
       "      <th>season</th>\n",
       "    </tr>\n",
       "  </thead>\n",
       "  <tbody>\n",
       "    <tr>\n",
       "      <th>0</th>\n",
       "      <td>Submitted  by  witness   on Saturday, November...</td>\n",
       "      <td>Snowmobiler has encounter in deep snow near Po...</td>\n",
       "      <td>OBSERVED: I and two of my friends were bored o...</td>\n",
       "      <td>Class A</td>\n",
       "      <td>NEAREST TOWN: Anchorage / Hillside</td>\n",
       "      <td>STATE: Alaska</td>\n",
       "      <td>COUNTY: Anchorage County</td>\n",
       "      <td>TIME AND CONDITIONS: Middle of the night. The ...</td>\n",
       "      <td>OTHER WITNESSES: My two friends were snowmachi...</td>\n",
       "      <td>Winter</td>\n",
       "    </tr>\n",
       "    <tr>\n",
       "      <th>1</th>\n",
       "      <td>Submitted  by  witness   on Thursday, June 3, ...</td>\n",
       "      <td>Four nocturnal hikers get pelted with snow nea...</td>\n",
       "      <td>OBSERVED: Me and a couple of friends had been ...</td>\n",
       "      <td>Class B</td>\n",
       "      <td>NEAREST TOWN: Anchorage</td>\n",
       "      <td>STATE: Alaska</td>\n",
       "      <td>COUNTY: Anchorage County</td>\n",
       "      <td>TIME AND CONDITIONS: Started at 11, ended at a...</td>\n",
       "      <td>OTHER WITNESSES: 4. Me, w-man, warren and sean...</td>\n",
       "      <td>Winter</td>\n",
       "    </tr>\n",
       "    <tr>\n",
       "      <th>2</th>\n",
       "      <td>Submitted  by  witness A. M. on Tuesday, Octob...</td>\n",
       "      <td>Creature observed walking back and forth by wi...</td>\n",
       "      <td>OBSERVED: My hunting buddy and I were sitting ...</td>\n",
       "      <td>Class B</td>\n",
       "      <td>NaN</td>\n",
       "      <td>STATE: Alaska</td>\n",
       "      <td>COUNTY: Bethel County</td>\n",
       "      <td>NaN</td>\n",
       "      <td>OTHER WITNESSES: Scouting for caribou with hig...</td>\n",
       "      <td>Fall</td>\n",
       "    </tr>\n",
       "    <tr>\n",
       "      <th>3</th>\n",
       "      <td>Submitted  by  witness   on Friday, May 6, 2005.</td>\n",
       "      <td>Fishermen find footprints east of Egegik</td>\n",
       "      <td>OBSERVED: To whom it may concern, I am a comme...</td>\n",
       "      <td>Class B</td>\n",
       "      <td>NEAREST TOWN: Egegik</td>\n",
       "      <td>STATE: Alaska</td>\n",
       "      <td>COUNTY: Bristol Bay County</td>\n",
       "      <td>TIME AND CONDITIONS: Approximately 12:30 pm, p...</td>\n",
       "      <td>OTHER WITNESSES: One other witness, and he was...</td>\n",
       "      <td>Summer</td>\n",
       "    </tr>\n",
       "    <tr>\n",
       "      <th>4</th>\n",
       "      <td>Submitted  by  witness   on Monday, November 1...</td>\n",
       "      <td>Campers' encounter just after dark in the Wran...</td>\n",
       "      <td>OBSERVED: My hiking partner and I arrived late...</td>\n",
       "      <td>Class A</td>\n",
       "      <td>NEAREST TOWN: Kennikot, Alaska</td>\n",
       "      <td>STATE: Alaska</td>\n",
       "      <td>COUNTY: Cordova-McCarthy County</td>\n",
       "      <td>TIME AND CONDITIONS: About 12:00 Midnight / fu...</td>\n",
       "      <td>OTHER WITNESSES: I was the only witness, there...</td>\n",
       "      <td>Summer</td>\n",
       "    </tr>\n",
       "  </tbody>\n",
       "</table>\n",
       "</div>"
      ],
      "text/plain": [
       "                                     submission_date  \\\n",
       "0  Submitted  by  witness   on Saturday, November...   \n",
       "1  Submitted  by  witness   on Thursday, June 3, ...   \n",
       "2  Submitted  by  witness A. M. on Tuesday, Octob...   \n",
       "3   Submitted  by  witness   on Friday, May 6, 2005.   \n",
       "4  Submitted  by  witness   on Monday, November 1...   \n",
       "\n",
       "                                    submission_title  \\\n",
       "0  Snowmobiler has encounter in deep snow near Po...   \n",
       "1  Four nocturnal hikers get pelted with snow nea...   \n",
       "2  Creature observed walking back and forth by wi...   \n",
       "3           Fishermen find footprints east of Egegik   \n",
       "4  Campers' encounter just after dark in the Wran...   \n",
       "\n",
       "                                        observations classification  \\\n",
       "0  OBSERVED: I and two of my friends were bored o...        Class A   \n",
       "1  OBSERVED: Me and a couple of friends had been ...        Class B   \n",
       "2  OBSERVED: My hunting buddy and I were sitting ...        Class B   \n",
       "3  OBSERVED: To whom it may concern, I am a comme...        Class B   \n",
       "4  OBSERVED: My hiking partner and I arrived late...        Class A   \n",
       "\n",
       "                         nearest_town          state  \\\n",
       "0  NEAREST TOWN: Anchorage / Hillside  STATE: Alaska   \n",
       "1             NEAREST TOWN: Anchorage  STATE: Alaska   \n",
       "2                                 NaN  STATE: Alaska   \n",
       "3               NEAREST TOWN: Egegik   STATE: Alaska   \n",
       "4      NEAREST TOWN: Kennikot, Alaska  STATE: Alaska   \n",
       "\n",
       "                            county  \\\n",
       "0         COUNTY: Anchorage County   \n",
       "1         COUNTY: Anchorage County   \n",
       "2            COUNTY: Bethel County   \n",
       "3       COUNTY: Bristol Bay County   \n",
       "4  COUNTY: Cordova-McCarthy County   \n",
       "\n",
       "                                  time_and_condition  \\\n",
       "0  TIME AND CONDITIONS: Middle of the night. The ...   \n",
       "1  TIME AND CONDITIONS: Started at 11, ended at a...   \n",
       "2                                                NaN   \n",
       "3  TIME AND CONDITIONS: Approximately 12:30 pm, p...   \n",
       "4  TIME AND CONDITIONS: About 12:00 Midnight / fu...   \n",
       "\n",
       "                                       other_witness  season  \n",
       "0  OTHER WITNESSES: My two friends were snowmachi...  Winter  \n",
       "1  OTHER WITNESSES: 4. Me, w-man, warren and sean...  Winter  \n",
       "2  OTHER WITNESSES: Scouting for caribou with hig...    Fall  \n",
       "3  OTHER WITNESSES: One other witness, and he was...  Summer  \n",
       "4  OTHER WITNESSES: I was the only witness, there...  Summer  "
      ]
     },
     "execution_count": 68,
     "metadata": {},
     "output_type": "execute_result"
    }
   ],
   "source": [
    "df.head()"
   ]
  },
  {
   "cell_type": "code",
   "execution_count": 69,
   "metadata": {},
   "outputs": [],
   "source": [
    "classes = df.groupby('classification').count()"
   ]
  },
  {
   "cell_type": "code",
   "execution_count": 70,
   "metadata": {},
   "outputs": [
    {
     "data": {
      "text/html": [
       "<div>\n",
       "<style scoped>\n",
       "    .dataframe tbody tr th:only-of-type {\n",
       "        vertical-align: middle;\n",
       "    }\n",
       "\n",
       "    .dataframe tbody tr th {\n",
       "        vertical-align: top;\n",
       "    }\n",
       "\n",
       "    .dataframe thead th {\n",
       "        text-align: right;\n",
       "    }\n",
       "</style>\n",
       "<table border=\"1\" class=\"dataframe\">\n",
       "  <thead>\n",
       "    <tr style=\"text-align: right;\">\n",
       "      <th></th>\n",
       "      <th>submission_date</th>\n",
       "      <th>submission_title</th>\n",
       "      <th>observations</th>\n",
       "      <th>nearest_town</th>\n",
       "      <th>state</th>\n",
       "      <th>county</th>\n",
       "      <th>time_and_condition</th>\n",
       "      <th>other_witness</th>\n",
       "      <th>season</th>\n",
       "    </tr>\n",
       "    <tr>\n",
       "      <th>classification</th>\n",
       "      <th></th>\n",
       "      <th></th>\n",
       "      <th></th>\n",
       "      <th></th>\n",
       "      <th></th>\n",
       "      <th></th>\n",
       "      <th></th>\n",
       "      <th></th>\n",
       "      <th></th>\n",
       "    </tr>\n",
       "  </thead>\n",
       "  <tbody>\n",
       "    <tr>\n",
       "      <th>Class A</th>\n",
       "      <td>2393</td>\n",
       "      <td>2393</td>\n",
       "      <td>2372</td>\n",
       "      <td>2177</td>\n",
       "      <td>2270</td>\n",
       "      <td>2270</td>\n",
       "      <td>2098</td>\n",
       "      <td>2103</td>\n",
       "      <td>2393</td>\n",
       "    </tr>\n",
       "    <tr>\n",
       "      <th>Class B</th>\n",
       "      <td>2370</td>\n",
       "      <td>2370</td>\n",
       "      <td>2359</td>\n",
       "      <td>2239</td>\n",
       "      <td>2240</td>\n",
       "      <td>2240</td>\n",
       "      <td>2185</td>\n",
       "      <td>2202</td>\n",
       "      <td>2370</td>\n",
       "    </tr>\n",
       "    <tr>\n",
       "      <th>Class C</th>\n",
       "      <td>36</td>\n",
       "      <td>36</td>\n",
       "      <td>36</td>\n",
       "      <td>24</td>\n",
       "      <td>30</td>\n",
       "      <td>30</td>\n",
       "      <td>9</td>\n",
       "      <td>20</td>\n",
       "      <td>36</td>\n",
       "    </tr>\n",
       "  </tbody>\n",
       "</table>\n",
       "</div>"
      ],
      "text/plain": [
       "                submission_date  submission_title  observations  nearest_town  \\\n",
       "classification                                                                  \n",
       "Class A                    2393              2393          2372          2177   \n",
       "Class B                    2370              2370          2359          2239   \n",
       "Class C                      36                36            36            24   \n",
       "\n",
       "                state  county  time_and_condition  other_witness  season  \n",
       "classification                                                            \n",
       "Class A          2270    2270                2098           2103    2393  \n",
       "Class B          2240    2240                2185           2202    2370  \n",
       "Class C            30      30                   9             20      36  "
      ]
     },
     "execution_count": 70,
     "metadata": {},
     "output_type": "execute_result"
    }
   ],
   "source": [
    "classes[:3]"
   ]
  },
  {
   "cell_type": "code",
   "execution_count": 221,
   "metadata": {},
   "outputs": [
    {
     "data": {
      "image/png": "[encoded data removed]",
      "text/plain": [
       "<Figure size 864x360 with 1 Axes>"
      ]
     },
     "metadata": {
      "needs_background": "light"
     },
     "output_type": "display_data"
    }
   ],
   "source": [
    "fig, ax = plt.subplots(figsize=(12,5))\n",
    "ax.bar(classes[:3].index, classes[:3].submission_date)\n",
    "ax.set_title('Classification of Submission')\n",
    "plt.savefig('img/class.png')"
   ]
  },
  {
   "cell_type": "code",
   "execution_count": 72,
   "metadata": {},
   "outputs": [
    {
     "data": {
      "text/html": [
       "<div>\n",
       "<style scoped>\n",
       "    .dataframe tbody tr th:only-of-type {\n",
       "        vertical-align: middle;\n",
       "    }\n",
       "\n",
       "    .dataframe tbody tr th {\n",
       "        vertical-align: top;\n",
       "    }\n",
       "\n",
       "    .dataframe thead th {\n",
       "        text-align: right;\n",
       "    }\n",
       "</style>\n",
       "<table border=\"1\" class=\"dataframe\">\n",
       "  <thead>\n",
       "    <tr style=\"text-align: right;\">\n",
       "      <th></th>\n",
       "      <th>submission_date</th>\n",
       "      <th>submission_title</th>\n",
       "      <th>observations</th>\n",
       "      <th>classification</th>\n",
       "      <th>nearest_town</th>\n",
       "      <th>state</th>\n",
       "      <th>county</th>\n",
       "      <th>time_and_condition</th>\n",
       "      <th>other_witness</th>\n",
       "    </tr>\n",
       "    <tr>\n",
       "      <th>season</th>\n",
       "      <th></th>\n",
       "      <th></th>\n",
       "      <th></th>\n",
       "      <th></th>\n",
       "      <th></th>\n",
       "      <th></th>\n",
       "      <th></th>\n",
       "      <th></th>\n",
       "      <th></th>\n",
       "    </tr>\n",
       "  </thead>\n",
       "  <tbody>\n",
       "    <tr>\n",
       "      <th>Fall</th>\n",
       "      <td>1417</td>\n",
       "      <td>1417</td>\n",
       "      <td>1411</td>\n",
       "      <td>1417</td>\n",
       "      <td>1326</td>\n",
       "      <td>1347</td>\n",
       "      <td>1347</td>\n",
       "      <td>1282</td>\n",
       "      <td>1280</td>\n",
       "    </tr>\n",
       "    <tr>\n",
       "      <th>Spring</th>\n",
       "      <td>777</td>\n",
       "      <td>777</td>\n",
       "      <td>768</td>\n",
       "      <td>777</td>\n",
       "      <td>727</td>\n",
       "      <td>734</td>\n",
       "      <td>734</td>\n",
       "      <td>697</td>\n",
       "      <td>711</td>\n",
       "    </tr>\n",
       "    <tr>\n",
       "      <th>Summer</th>\n",
       "      <td>1792</td>\n",
       "      <td>1792</td>\n",
       "      <td>1781</td>\n",
       "      <td>1792</td>\n",
       "      <td>1645</td>\n",
       "      <td>1680</td>\n",
       "      <td>1680</td>\n",
       "      <td>1612</td>\n",
       "      <td>1626</td>\n",
       "    </tr>\n",
       "    <tr>\n",
       "      <th>Unknown</th>\n",
       "      <td>97</td>\n",
       "      <td>97</td>\n",
       "      <td>96</td>\n",
       "      <td>97</td>\n",
       "      <td>67</td>\n",
       "      <td>91</td>\n",
       "      <td>91</td>\n",
       "      <td>42</td>\n",
       "      <td>63</td>\n",
       "    </tr>\n",
       "    <tr>\n",
       "      <th>Winter</th>\n",
       "      <td>716</td>\n",
       "      <td>716</td>\n",
       "      <td>711</td>\n",
       "      <td>716</td>\n",
       "      <td>675</td>\n",
       "      <td>688</td>\n",
       "      <td>688</td>\n",
       "      <td>659</td>\n",
       "      <td>645</td>\n",
       "    </tr>\n",
       "  </tbody>\n",
       "</table>\n",
       "</div>"
      ],
      "text/plain": [
       "         submission_date  submission_title  observations  classification  \\\n",
       "season                                                                     \n",
       "Fall                1417              1417          1411            1417   \n",
       "Spring               777               777           768             777   \n",
       "Summer              1792              1792          1781            1792   \n",
       "Unknown               97                97            96              97   \n",
       "Winter               716               716           711             716   \n",
       "\n",
       "         nearest_town  state  county  time_and_condition  other_witness  \n",
       "season                                                                   \n",
       "Fall             1326   1347    1347                1282           1280  \n",
       "Spring            727    734     734                 697            711  \n",
       "Summer           1645   1680    1680                1612           1626  \n",
       "Unknown            67     91      91                  42             63  \n",
       "Winter            675    688     688                 659            645  "
      ]
     },
     "execution_count": 72,
     "metadata": {},
     "output_type": "execute_result"
    }
   ],
   "source": [
    "seasons = df.groupby('season').count()\n",
    "seasons = seasons[1:]\n",
    "seasons"
   ]
  },
  {
   "cell_type": "code",
   "execution_count": 229,
   "metadata": {},
   "outputs": [
    {
     "data": {
      "image/png": "[encoded data removed]",
      "text/plain": [
       "<Figure size 720x360 with 1 Axes>"
      ]
     },
     "metadata": {
      "needs_background": "light"
     },
     "output_type": "display_data"
    }
   ],
   "source": [
    "fig, ax = plt.subplots(figsize=(10,5))\n",
    "ax.bar(seasons.index, seasons.submission_date)\n",
    "ax.set_title('Season of Submission')\n",
    "fig.savefig('img/seasons.png')"
   ]
  },
  {
   "cell_type": "code",
   "execution_count": 78,
   "metadata": {},
   "outputs": [],
   "source": [
    "submissions = df['submission_date']"
   ]
  },
  {
   "cell_type": "code",
   "execution_count": 79,
   "metadata": {},
   "outputs": [
    {
     "data": {
      "text/plain": [
       "0       Submitted  by  witness   on Saturday, November...\n",
       "1       Submitted  by  witness   on Thursday, June 3, ...\n",
       "2       Submitted  by  witness A. M. on Tuesday, Octob...\n",
       "3        Submitted  by  witness   on Friday, May 6, 2005.\n",
       "4       Submitted  by  witness   on Monday, November 1...\n",
       "                              ...                        \n",
       "4852    Submitted  by  witness   on Monday, July 16, 2...\n",
       "4853    Submitted  by  witness   on Saturday, August 3...\n",
       "4854    Submitted  by  witness   on Monday, November 2...\n",
       "4855    Submitted  by  witness   on Wednesday, July 13...\n",
       "4856    Submitted  by  witness   on Wednesday, Novembe...\n",
       "Name: submission_date, Length: 4857, dtype: object"
      ]
     },
     "execution_count": 79,
     "metadata": {},
     "output_type": "execute_result"
    }
   ],
   "source": [
    "submissions"
   ]
  },
  {
   "cell_type": "code",
   "execution_count": 84,
   "metadata": {},
   "outputs": [],
   "source": [
    "submissions = submissions.astype(str).str.replace(',', '')\n",
    "submissions = submissions.astype(str).str.replace('.', '')"
   ]
  },
  {
   "cell_type": "code",
   "execution_count": 87,
   "metadata": {},
   "outputs": [],
   "source": [
    "submissions = submissions.apply(lambda x: x.split())"
   ]
  },
  {
   "cell_type": "code",
   "execution_count": 114,
   "metadata": {},
   "outputs": [
    {
     "data": {
      "text/plain": [
       "0    [Saturday, November, 12, 2005]\n",
       "1         [Thursday, June, 3, 2004]\n",
       "2       [Tuesday, October, 5, 1999]\n",
       "3            [Friday, May, 6, 2005]\n",
       "4      [Monday, November, 13, 2000]\n",
       "Name: submission_date, dtype: object"
      ]
     },
     "execution_count": 114,
     "metadata": {},
     "output_type": "execute_result"
    }
   ],
   "source": [
    "submissions = submissions.apply(lambda x: x[-4:])\n",
    "submissions.head()"
   ]
  },
  {
   "cell_type": "code",
   "execution_count": 92,
   "metadata": {},
   "outputs": [],
   "source": [
    "submission_year = submissions.apply(lambda x: x[-1])"
   ]
  },
  {
   "cell_type": "code",
   "execution_count": 115,
   "metadata": {},
   "outputs": [
    {
     "data": {
      "text/plain": [
       "0        Saturday\n",
       "1        Thursday\n",
       "2         Tuesday\n",
       "3          Friday\n",
       "4          Monday\n",
       "          ...    \n",
       "4852       Monday\n",
       "4853     Saturday\n",
       "4854       Monday\n",
       "4855    Wednesday\n",
       "4856    Wednesday\n",
       "Name: submission_date, Length: 4857, dtype: object"
      ]
     },
     "execution_count": 115,
     "metadata": {},
     "output_type": "execute_result"
    }
   ],
   "source": [
    "day_of_week = submissions.apply(lambda x: x[0])\n",
    "day_of_week"
   ]
  },
  {
   "cell_type": "code",
   "execution_count": null,
   "metadata": {},
   "outputs": [],
   "source": []
  },
  {
   "cell_type": "code",
   "execution_count": null,
   "metadata": {},
   "outputs": [],
   "source": []
  },
  {
   "cell_type": "code",
   "execution_count": 231,
   "metadata": {},
   "outputs": [],
   "source": [
    "df3 = df.merge(submission_year, left_index=True, right_index=True)"
   ]
  },
  {
   "cell_type": "code",
   "execution_count": 238,
   "metadata": {},
   "outputs": [],
   "source": [
    "import plotly\n",
    "import plotly.express as px\n",
    "import plotly.graph_objects as go\n",
    "import plotly.figure_factory as ff"
   ]
  },
  {
   "cell_type": "code",
   "execution_count": 237,
   "metadata": {},
   "outputs": [
    {
     "data": {
      "text/html": [
       "<div>\n",
       "<style scoped>\n",
       "    .dataframe tbody tr th:only-of-type {\n",
       "        vertical-align: middle;\n",
       "    }\n",
       "\n",
       "    .dataframe tbody tr th {\n",
       "        vertical-align: top;\n",
       "    }\n",
       "\n",
       "    .dataframe thead th {\n",
       "        text-align: right;\n",
       "    }\n",
       "</style>\n",
       "<table border=\"1\" class=\"dataframe\">\n",
       "  <thead>\n",
       "    <tr style=\"text-align: right;\">\n",
       "      <th></th>\n",
       "      <th>submission_date_x</th>\n",
       "      <th>submission_title</th>\n",
       "      <th>observations</th>\n",
       "      <th>classification</th>\n",
       "      <th>nearest_town</th>\n",
       "      <th>state</th>\n",
       "      <th>county</th>\n",
       "      <th>time_and_condition</th>\n",
       "      <th>other_witness</th>\n",
       "      <th>season</th>\n",
       "      <th>submission_date_y</th>\n",
       "    </tr>\n",
       "  </thead>\n",
       "  <tbody>\n",
       "    <tr>\n",
       "      <th>5</th>\n",
       "      <td>Submitted  by  witness   on Thursday, Septembe...</td>\n",
       "      <td>Daytime sighting of reddish-colored bigfoot ne...</td>\n",
       "      <td>OBSERVED: It was the month of July, 2009 in Fa...</td>\n",
       "      <td>Class A</td>\n",
       "      <td>NEAREST TOWN: Fairbanks Alaska</td>\n",
       "      <td>STATE: Alaska</td>\n",
       "      <td>COUNTY: Fairbanks County</td>\n",
       "      <td>TIME AND CONDITIONS: around 6pmLighting was ex...</td>\n",
       "      <td>OTHER WITNESSES: No other witnesses</td>\n",
       "      <td>Summer</td>\n",
       "      <td>2009</td>\n",
       "    </tr>\n",
       "    <tr>\n",
       "      <th>16</th>\n",
       "      <td>Submitted  by  witness   on Sunday, February 8...</td>\n",
       "      <td>Hunter describes powerful wood knocks at a cab...</td>\n",
       "      <td>OBSERVED: This is an excerpt from a short stor...</td>\n",
       "      <td>Class B</td>\n",
       "      <td>NEAREST TOWN: Chicken, Alaska</td>\n",
       "      <td>STATE: Alaska</td>\n",
       "      <td>COUNTY: Southeast Fairbanks County</td>\n",
       "      <td>TIME AND CONDITIONS: about 0215 hours</td>\n",
       "      <td>OTHER WITNESSES: No, Bill slept through it.</td>\n",
       "      <td>Fall</td>\n",
       "      <td>2009</td>\n",
       "    </tr>\n",
       "    <tr>\n",
       "      <th>17</th>\n",
       "      <td>Submitted  by  witness   on Thursday, April 24...</td>\n",
       "      <td>Passenger on the Alcan Highway sees a tall bip...</td>\n",
       "      <td>OBSERVED: Around 6:45pm on April 23rd, 2008, a...</td>\n",
       "      <td>Class A</td>\n",
       "      <td>NEAREST TOWN: Tok</td>\n",
       "      <td>STATE: Alaska</td>\n",
       "      <td>COUNTY: Southeast Fairbanks County</td>\n",
       "      <td>TIME AND CONDITIONS: 6:45ish pm.  Clear condit...</td>\n",
       "      <td>OTHER WITNESSES: just me.</td>\n",
       "      <td>Spring</td>\n",
       "      <td>2008</td>\n",
       "    </tr>\n",
       "    <tr>\n",
       "      <th>21</th>\n",
       "      <td>Submitted  by  witness   on Sunday, August 30,...</td>\n",
       "      <td>Man recalls a sighting after Hurricane Frederi...</td>\n",
       "      <td>OBSERVED: It was a few days after hurricane fr...</td>\n",
       "      <td>Class A</td>\n",
       "      <td>NEAREST TOWN: hurricane landing, what is now p...</td>\n",
       "      <td>STATE: Alabama</td>\n",
       "      <td>COUNTY: Baldwin County</td>\n",
       "      <td>TIME AND CONDITIONS: approximately 11:00 pm, i...</td>\n",
       "      <td>OTHER WITNESSES: 1, walking down the road</td>\n",
       "      <td>Summer</td>\n",
       "      <td>2009</td>\n",
       "    </tr>\n",
       "    <tr>\n",
       "      <th>22</th>\n",
       "      <td>Submitted  by  witness   on Monday, December 2...</td>\n",
       "      <td>Motorists pulled over on a rural highway at ni...</td>\n",
       "      <td>OBSERVED: I have been reluctant to share my st...</td>\n",
       "      <td>Class A</td>\n",
       "      <td>NEAREST TOWN: Clayton</td>\n",
       "      <td>STATE: Alabama</td>\n",
       "      <td>COUNTY: Barbour County</td>\n",
       "      <td>TIME AND CONDITIONS: Around 9pm at night. It w...</td>\n",
       "      <td>OTHER WITNESSES: There were 7 witnesses in the...</td>\n",
       "      <td>Winter</td>\n",
       "      <td>2009</td>\n",
       "    </tr>\n",
       "  </tbody>\n",
       "</table>\n",
       "</div>"
      ],
      "text/plain": [
       "                                    submission_date_x  \\\n",
       "5   Submitted  by  witness   on Thursday, Septembe...   \n",
       "16  Submitted  by  witness   on Sunday, February 8...   \n",
       "17  Submitted  by  witness   on Thursday, April 24...   \n",
       "21  Submitted  by  witness   on Sunday, August 30,...   \n",
       "22  Submitted  by  witness   on Monday, December 2...   \n",
       "\n",
       "                                     submission_title  \\\n",
       "5   Daytime sighting of reddish-colored bigfoot ne...   \n",
       "16  Hunter describes powerful wood knocks at a cab...   \n",
       "17  Passenger on the Alcan Highway sees a tall bip...   \n",
       "21  Man recalls a sighting after Hurricane Frederi...   \n",
       "22  Motorists pulled over on a rural highway at ni...   \n",
       "\n",
       "                                         observations classification  \\\n",
       "5   OBSERVED: It was the month of July, 2009 in Fa...        Class A   \n",
       "16  OBSERVED: This is an excerpt from a short stor...        Class B   \n",
       "17  OBSERVED: Around 6:45pm on April 23rd, 2008, a...        Class A   \n",
       "21  OBSERVED: It was a few days after hurricane fr...        Class A   \n",
       "22  OBSERVED: I have been reluctant to share my st...        Class A   \n",
       "\n",
       "                                         nearest_town           state  \\\n",
       "5                      NEAREST TOWN: Fairbanks Alaska   STATE: Alaska   \n",
       "16                      NEAREST TOWN: Chicken, Alaska   STATE: Alaska   \n",
       "17                                  NEAREST TOWN: Tok   STATE: Alaska   \n",
       "21  NEAREST TOWN: hurricane landing, what is now p...  STATE: Alabama   \n",
       "22                              NEAREST TOWN: Clayton  STATE: Alabama   \n",
       "\n",
       "                                county  \\\n",
       "5             COUNTY: Fairbanks County   \n",
       "16  COUNTY: Southeast Fairbanks County   \n",
       "17  COUNTY: Southeast Fairbanks County   \n",
       "21              COUNTY: Baldwin County   \n",
       "22              COUNTY: Barbour County   \n",
       "\n",
       "                                   time_and_condition  \\\n",
       "5   TIME AND CONDITIONS: around 6pmLighting was ex...   \n",
       "16              TIME AND CONDITIONS: about 0215 hours   \n",
       "17  TIME AND CONDITIONS: 6:45ish pm.  Clear condit...   \n",
       "21  TIME AND CONDITIONS: approximately 11:00 pm, i...   \n",
       "22  TIME AND CONDITIONS: Around 9pm at night. It w...   \n",
       "\n",
       "                                        other_witness  season  \\\n",
       "5                 OTHER WITNESSES: No other witnesses  Summer   \n",
       "16        OTHER WITNESSES: No, Bill slept through it.    Fall   \n",
       "17                         OTHER WITNESSES: just me.   Spring   \n",
       "21          OTHER WITNESSES: 1, walking down the road  Summer   \n",
       "22  OTHER WITNESSES: There were 7 witnesses in the...  Winter   \n",
       "\n",
       "   submission_date_y  \n",
       "5               2009  \n",
       "16              2009  \n",
       "17              2008  \n",
       "21              2009  \n",
       "22              2009  "
      ]
     },
     "execution_count": 237,
     "metadata": {},
     "output_type": "execute_result"
    }
   ],
   "source": [
    "last_10 = df3[df3['submission_date_y'] > '2006']\n",
    "last_10.head()"
   ]
  },
  {
   "cell_type": "code",
   "execution_count": 239,
   "metadata": {},
   "outputs": [],
   "source": [
    "us_state_abbrev = {\n",
    "    'Alabama': 'AL',\n",
    "    'Alaska': 'AK',\n",
    "    'American Samoa': 'AS',\n",
    "    'Arizona': 'AZ',\n",
    "    'Arkansas': 'AR',\n",
    "    'California': 'CA',\n",
    "    'Colorado': 'CO',\n",
    "    'Connecticut': 'CT',\n",
    "    'Delaware': 'DE',\n",
    "    'District of Columbia': 'DC',\n",
    "    'Florida': 'FL',\n",
    "    'Georgia': 'GA',\n",
    "    'Guam': 'GU',\n",
    "    'Hawaii': 'HI',\n",
    "    'Idaho': 'ID',\n",
    "    'Illinois': 'IL',\n",
    "    'Indiana': 'IN',\n",
    "    'Iowa': 'IA',\n",
    "    'Kansas': 'KS',\n",
    "    'Kentucky': 'KY',\n",
    "    'Louisiana': 'LA',\n",
    "    'Maine': 'ME',\n",
    "    'Maryland': 'MD',\n",
    "    'Massachusetts': 'MA',\n",
    "    'Michigan': 'MI',\n",
    "    'Minnesota': 'MN',\n",
    "    'Mississippi': 'MS',\n",
    "    'Missouri': 'MO',\n",
    "    'Montana': 'MT',\n",
    "    'Nebraska': 'NE',\n",
    "    'Nevada': 'NV',\n",
    "    'New Hampshire': 'NH',\n",
    "    'New Jersey': 'NJ',\n",
    "    'New Mexico': 'NM',\n",
    "    'New York': 'NY',\n",
    "    'North Carolina': 'NC',\n",
    "    'North Dakota': 'ND',\n",
    "    'Northern Mariana Islands':'MP',\n",
    "    'Ohio': 'OH',\n",
    "    'Oklahoma': 'OK',\n",
    "    'Oregon': 'OR',\n",
    "    'Pennsylvania': 'PA',\n",
    "    'Puerto Rico': 'PR',\n",
    "    'Rhode Island': 'RI',\n",
    "    'South Carolina': 'SC',\n",
    "    'South Dakota': 'SD',\n",
    "    'Tennessee': 'TN',\n",
    "    'Texas': 'TX',\n",
    "    'Utah': 'UT',\n",
    "    'Vermont': 'VT',\n",
    "    'Virgin Islands': 'VI',\n",
    "    'Virginia': 'VA',\n",
    "    'Washington': 'WA',\n",
    "    'West Virginia': 'WV',\n",
    "    'Wisconsin': 'WI',\n",
    "    'Wyoming': 'WY'\n",
    "}"
   ]
  },
  {
   "cell_type": "code",
   "execution_count": 241,
   "metadata": {},
   "outputs": [],
   "source": [
    "def clean_string(df, column, beg, end):\n",
    "    df[column] = df[column].astype(str).apply(lambda x: x[beg:end])"
   ]
  },
  {
   "cell_type": "code",
   "execution_count": 242,
   "metadata": {},
   "outputs": [],
   "source": [
    "clean_string(last_10, 'state', 7, None)"
   ]
  },
  {
   "cell_type": "code",
   "execution_count": 244,
   "metadata": {},
   "outputs": [],
   "source": [
    "last_10['state'] = last_10['state'].map(us_state_abbrev)"
   ]
  },
  {
   "cell_type": "code",
   "execution_count": 245,
   "metadata": {},
   "outputs": [
    {
     "data": {
      "text/html": [
       "<div>\n",
       "<style scoped>\n",
       "    .dataframe tbody tr th:only-of-type {\n",
       "        vertical-align: middle;\n",
       "    }\n",
       "\n",
       "    .dataframe tbody tr th {\n",
       "        vertical-align: top;\n",
       "    }\n",
       "\n",
       "    .dataframe thead th {\n",
       "        text-align: right;\n",
       "    }\n",
       "</style>\n",
       "<table border=\"1\" class=\"dataframe\">\n",
       "  <thead>\n",
       "    <tr style=\"text-align: right;\">\n",
       "      <th></th>\n",
       "      <th>submission_date_x</th>\n",
       "      <th>submission_title</th>\n",
       "      <th>observations</th>\n",
       "      <th>classification</th>\n",
       "      <th>nearest_town</th>\n",
       "      <th>state</th>\n",
       "      <th>county</th>\n",
       "      <th>time_and_condition</th>\n",
       "      <th>other_witness</th>\n",
       "      <th>season</th>\n",
       "      <th>submission_date_y</th>\n",
       "    </tr>\n",
       "  </thead>\n",
       "  <tbody>\n",
       "    <tr>\n",
       "      <th>5</th>\n",
       "      <td>Submitted  by  witness   on Thursday, Septembe...</td>\n",
       "      <td>Daytime sighting of reddish-colored bigfoot ne...</td>\n",
       "      <td>OBSERVED: It was the month of July, 2009 in Fa...</td>\n",
       "      <td>Class A</td>\n",
       "      <td>NEAREST TOWN: Fairbanks Alaska</td>\n",
       "      <td>AK</td>\n",
       "      <td>COUNTY: Fairbanks County</td>\n",
       "      <td>TIME AND CONDITIONS: around 6pmLighting was ex...</td>\n",
       "      <td>OTHER WITNESSES: No other witnesses</td>\n",
       "      <td>Summer</td>\n",
       "      <td>2009</td>\n",
       "    </tr>\n",
       "    <tr>\n",
       "      <th>16</th>\n",
       "      <td>Submitted  by  witness   on Sunday, February 8...</td>\n",
       "      <td>Hunter describes powerful wood knocks at a cab...</td>\n",
       "      <td>OBSERVED: This is an excerpt from a short stor...</td>\n",
       "      <td>Class B</td>\n",
       "      <td>NEAREST TOWN: Chicken, Alaska</td>\n",
       "      <td>AK</td>\n",
       "      <td>COUNTY: Southeast Fairbanks County</td>\n",
       "      <td>TIME AND CONDITIONS: about 0215 hours</td>\n",
       "      <td>OTHER WITNESSES: No, Bill slept through it.</td>\n",
       "      <td>Fall</td>\n",
       "      <td>2009</td>\n",
       "    </tr>\n",
       "    <tr>\n",
       "      <th>17</th>\n",
       "      <td>Submitted  by  witness   on Thursday, April 24...</td>\n",
       "      <td>Passenger on the Alcan Highway sees a tall bip...</td>\n",
       "      <td>OBSERVED: Around 6:45pm on April 23rd, 2008, a...</td>\n",
       "      <td>Class A</td>\n",
       "      <td>NEAREST TOWN: Tok</td>\n",
       "      <td>AK</td>\n",
       "      <td>COUNTY: Southeast Fairbanks County</td>\n",
       "      <td>TIME AND CONDITIONS: 6:45ish pm.  Clear condit...</td>\n",
       "      <td>OTHER WITNESSES: just me.</td>\n",
       "      <td>Spring</td>\n",
       "      <td>2008</td>\n",
       "    </tr>\n",
       "    <tr>\n",
       "      <th>21</th>\n",
       "      <td>Submitted  by  witness   on Sunday, August 30,...</td>\n",
       "      <td>Man recalls a sighting after Hurricane Frederi...</td>\n",
       "      <td>OBSERVED: It was a few days after hurricane fr...</td>\n",
       "      <td>Class A</td>\n",
       "      <td>NEAREST TOWN: hurricane landing, what is now p...</td>\n",
       "      <td>AL</td>\n",
       "      <td>COUNTY: Baldwin County</td>\n",
       "      <td>TIME AND CONDITIONS: approximately 11:00 pm, i...</td>\n",
       "      <td>OTHER WITNESSES: 1, walking down the road</td>\n",
       "      <td>Summer</td>\n",
       "      <td>2009</td>\n",
       "    </tr>\n",
       "    <tr>\n",
       "      <th>22</th>\n",
       "      <td>Submitted  by  witness   on Monday, December 2...</td>\n",
       "      <td>Motorists pulled over on a rural highway at ni...</td>\n",
       "      <td>OBSERVED: I have been reluctant to share my st...</td>\n",
       "      <td>Class A</td>\n",
       "      <td>NEAREST TOWN: Clayton</td>\n",
       "      <td>AL</td>\n",
       "      <td>COUNTY: Barbour County</td>\n",
       "      <td>TIME AND CONDITIONS: Around 9pm at night. It w...</td>\n",
       "      <td>OTHER WITNESSES: There were 7 witnesses in the...</td>\n",
       "      <td>Winter</td>\n",
       "      <td>2009</td>\n",
       "    </tr>\n",
       "  </tbody>\n",
       "</table>\n",
       "</div>"
      ],
      "text/plain": [
       "                                    submission_date_x  \\\n",
       "5   Submitted  by  witness   on Thursday, Septembe...   \n",
       "16  Submitted  by  witness   on Sunday, February 8...   \n",
       "17  Submitted  by  witness   on Thursday, April 24...   \n",
       "21  Submitted  by  witness   on Sunday, August 30,...   \n",
       "22  Submitted  by  witness   on Monday, December 2...   \n",
       "\n",
       "                                     submission_title  \\\n",
       "5   Daytime sighting of reddish-colored bigfoot ne...   \n",
       "16  Hunter describes powerful wood knocks at a cab...   \n",
       "17  Passenger on the Alcan Highway sees a tall bip...   \n",
       "21  Man recalls a sighting after Hurricane Frederi...   \n",
       "22  Motorists pulled over on a rural highway at ni...   \n",
       "\n",
       "                                         observations classification  \\\n",
       "5   OBSERVED: It was the month of July, 2009 in Fa...        Class A   \n",
       "16  OBSERVED: This is an excerpt from a short stor...        Class B   \n",
       "17  OBSERVED: Around 6:45pm on April 23rd, 2008, a...        Class A   \n",
       "21  OBSERVED: It was a few days after hurricane fr...        Class A   \n",
       "22  OBSERVED: I have been reluctant to share my st...        Class A   \n",
       "\n",
       "                                         nearest_town state  \\\n",
       "5                      NEAREST TOWN: Fairbanks Alaska    AK   \n",
       "16                      NEAREST TOWN: Chicken, Alaska    AK   \n",
       "17                                  NEAREST TOWN: Tok    AK   \n",
       "21  NEAREST TOWN: hurricane landing, what is now p...    AL   \n",
       "22                              NEAREST TOWN: Clayton    AL   \n",
       "\n",
       "                                county  \\\n",
       "5             COUNTY: Fairbanks County   \n",
       "16  COUNTY: Southeast Fairbanks County   \n",
       "17  COUNTY: Southeast Fairbanks County   \n",
       "21              COUNTY: Baldwin County   \n",
       "22              COUNTY: Barbour County   \n",
       "\n",
       "                                   time_and_condition  \\\n",
       "5   TIME AND CONDITIONS: around 6pmLighting was ex...   \n",
       "16              TIME AND CONDITIONS: about 0215 hours   \n",
       "17  TIME AND CONDITIONS: 6:45ish pm.  Clear condit...   \n",
       "21  TIME AND CONDITIONS: approximately 11:00 pm, i...   \n",
       "22  TIME AND CONDITIONS: Around 9pm at night. It w...   \n",
       "\n",
       "                                        other_witness  season  \\\n",
       "5                 OTHER WITNESSES: No other witnesses  Summer   \n",
       "16        OTHER WITNESSES: No, Bill slept through it.    Fall   \n",
       "17                         OTHER WITNESSES: just me.   Spring   \n",
       "21          OTHER WITNESSES: 1, walking down the road  Summer   \n",
       "22  OTHER WITNESSES: There were 7 witnesses in the...  Winter   \n",
       "\n",
       "   submission_date_y  \n",
       "5               2009  \n",
       "16              2009  \n",
       "17              2008  \n",
       "21              2009  \n",
       "22              2009  "
      ]
     },
     "execution_count": 245,
     "metadata": {},
     "output_type": "execute_result"
    }
   ],
   "source": [
    "last_10.head()"
   ]
  },
  {
   "cell_type": "code",
   "execution_count": 246,
   "metadata": {},
   "outputs": [],
   "source": [
    "state_groups = last_10.groupby('state').count()"
   ]
  },
  {
   "cell_type": "code",
   "execution_count": 251,
   "metadata": {},
   "outputs": [
    {
     "data": {
      "application/vnd.plotly.v1+json": {
       "config": {
        "plotlyServerURL": "https://plot.ly"
       },
       "data": [
        {
         "colorbar": {
          "title": {
           "text": "Sighting Count"
          }
         },
         "colorscale": [
          [
           0,
           "rgb(247,251,255)"
          ],
          [
           0.125,
           "rgb(222,235,247)"
          ],
          [
           0.25,
           "rgb(198,219,239)"
          ],
          [
           0.375,
           "rgb(158,202,225)"
          ],
          [
           0.5,
           "rgb(107,174,214)"
          ],
          [
           0.625,
           "rgb(66,146,198)"
          ],
          [
           0.75,
           "rgb(33,113,181)"
          ],
          [
           0.875,
           "rgb(8,81,156)"
          ],
          [
           1,
           "rgb(8,48,107)"
          ]
         ],
         "locationmode": "USA-states",
         "locations": [
          "AK",
          "AL",
          "AR",
          "AZ",
          "CA",
          "CO",
          "CT",
          "DE",
          "FL",
          "GA",
          "IA",
          "ID",
          "IL",
          "IN",
          "KS",
          "KY",
          "LA",
          "MA",
          "MD",
          "MI",
          "MN",
          "MO",
          "MS",
          "MT",
          "NC",
          "NE",
          "NH",
          "NJ",
          "NM",
          "NV",
          "NY",
          "OH",
          "OK",
          "OR",
          "PA",
          "RI",
          "SC",
          "SD",
          "TN",
          "TX",
          "UT",
          "VA",
          "VT",
          "WA",
          "WI",
          "WV",
          "WY"
         ],
         "type": "choropleth",
         "z": [
          3,
          54,
          29,
          44,
          66,
          28,
          7,
          3,
          165,
          75,
          29,
          19,
          176,
          30,
          18,
          61,
          10,
          21,
          10,
          133,
          37,
          78,
          3,
          20,
          40,
          6,
          5,
          26,
          9,
          2,
          18,
          76,
          31,
          45,
          31,
          1,
          12,
          4,
          41,
          54,
          29,
          51,
          2,
          207,
          45,
          53,
          3
         ]
        }
       ],
       "layout": {
        "geo": {
         "scope": "usa"
        },
        "template": {
         "data": {
          "bar": [
           {
            "error_x": {
             "color": "#2a3f5f"
            },
            "error_y": {
             "color": "#2a3f5f"
            },
            "marker": {
             "line": {
              "color": "#E5ECF6",
              "width": 0.5
             }
            },
            "type": "bar"
           }
          ],
          "barpolar": [
           {
            "marker": {
             "line": {
              "color": "#E5ECF6",
              "width": 0.5
             }
            },
            "type": "barpolar"
           }
          ],
          "carpet": [
           {
            "aaxis": {
             "endlinecolor": "#2a3f5f",
             "gridcolor": "white",
             "linecolor": "white",
             "minorgridcolor": "white",
             "startlinecolor": "#2a3f5f"
            },
            "baxis": {
             "endlinecolor": "#2a3f5f",
             "gridcolor": "white",
             "linecolor": "white",
             "minorgridcolor": "white",
             "startlinecolor": "#2a3f5f"
            },
            "type": "carpet"
           }
          ],
          "choropleth": [
           {
            "colorbar": {
             "outlinewidth": 0,
             "ticks": ""
            },
            "type": "choropleth"
           }
          ],
          "contour": [
           {
            "colorbar": {
             "outlinewidth": 0,
             "ticks": ""
            },
            "colorscale": [
             [
              0,
              "#0d0887"
             ],
             [
              0.1111111111111111,
              "#46039f"
             ],
             [
              0.2222222222222222,
              "#7201a8"
             ],
             [
              0.3333333333333333,
              "#9c179e"
             ],
             [
              0.4444444444444444,
              "#bd3786"
             ],
             [
              0.5555555555555556,
              "#d8576b"
             ],
             [
              0.6666666666666666,
              "#ed7953"
             ],
             [
              0.7777777777777778,
              "#fb9f3a"
             ],
             [
              0.8888888888888888,
              "#fdca26"
             ],
             [
              1,
              "#f0f921"
             ]
            ],
            "type": "contour"
           }
          ],
          "contourcarpet": [
           {
            "colorbar": {
             "outlinewidth": 0,
             "ticks": ""
            },
            "type": "contourcarpet"
           }
          ],
          "heatmap": [
           {
            "colorbar": {
             "outlinewidth": 0,
             "ticks": ""
            },
            "colorscale": [
             [
              0,
              "#0d0887"
             ],
             [
              0.1111111111111111,
              "#46039f"
             ],
             [
              0.2222222222222222,
              "#7201a8"
             ],
             [
              0.3333333333333333,
              "#9c179e"
             ],
             [
              0.4444444444444444,
              "#bd3786"
             ],
             [
              0.5555555555555556,
              "#d8576b"
             ],
             [
              0.6666666666666666,
              "#ed7953"
             ],
             [
              0.7777777777777778,
              "#fb9f3a"
             ],
             [
              0.8888888888888888,
              "#fdca26"
             ],
             [
              1,
              "#f0f921"
             ]
            ],
            "type": "heatmap"
           }
          ],
          "heatmapgl": [
           {
            "colorbar": {
             "outlinewidth": 0,
             "ticks": ""
            },
            "colorscale": [
             [
              0,
              "#0d0887"
             ],
             [
              0.1111111111111111,
              "#46039f"
             ],
             [
              0.2222222222222222,
              "#7201a8"
             ],
             [
              0.3333333333333333,
              "#9c179e"
             ],
             [
              0.4444444444444444,
              "#bd3786"
             ],
             [
              0.5555555555555556,
              "#d8576b"
             ],
             [
              0.6666666666666666,
              "#ed7953"
             ],
             [
              0.7777777777777778,
              "#fb9f3a"
             ],
             [
              0.8888888888888888,
              "#fdca26"
             ],
             [
              1,
              "#f0f921"
             ]
            ],
            "type": "heatmapgl"
           }
          ],
          "histogram": [
           {
            "marker": {
             "colorbar": {
              "outlinewidth": 0,
              "ticks": ""
             }
            },
            "type": "histogram"
           }
          ],
          "histogram2d": [
           {
            "colorbar": {
             "outlinewidth": 0,
             "ticks": ""
            },
            "colorscale": [
             [
              0,
              "#0d0887"
             ],
             [
              0.1111111111111111,
              "#46039f"
             ],
             [
              0.2222222222222222,
              "#7201a8"
             ],
             [
              0.3333333333333333,
              "#9c179e"
             ],
             [
              0.4444444444444444,
              "#bd3786"
             ],
             [
              0.5555555555555556,
              "#d8576b"
             ],
             [
              0.6666666666666666,
              "#ed7953"
             ],
             [
              0.7777777777777778,
              "#fb9f3a"
             ],
             [
              0.8888888888888888,
              "#fdca26"
             ],
             [
              1,
              "#f0f921"
             ]
            ],
            "type": "histogram2d"
           }
          ],
          "histogram2dcontour": [
           {
            "colorbar": {
             "outlinewidth": 0,
             "ticks": ""
            },
            "colorscale": [
             [
              0,
              "#0d0887"
             ],
             [
              0.1111111111111111,
              "#46039f"
             ],
             [
              0.2222222222222222,
              "#7201a8"
             ],
             [
              0.3333333333333333,
              "#9c179e"
             ],
             [
              0.4444444444444444,
              "#bd3786"
             ],
             [
              0.5555555555555556,
              "#d8576b"
             ],
             [
              0.6666666666666666,
              "#ed7953"
             ],
             [
              0.7777777777777778,
              "#fb9f3a"
             ],
             [
              0.8888888888888888,
              "#fdca26"
             ],
             [
              1,
              "#f0f921"
             ]
            ],
            "type": "histogram2dcontour"
           }
          ],
          "mesh3d": [
           {
            "colorbar": {
             "outlinewidth": 0,
             "ticks": ""
            },
            "type": "mesh3d"
           }
          ],
          "parcoords": [
           {
            "line": {
             "colorbar": {
              "outlinewidth": 0,
              "ticks": ""
             }
            },
            "type": "parcoords"
           }
          ],
          "scatter": [
           {
            "marker": {
             "colorbar": {
              "outlinewidth": 0,
              "ticks": ""
             }
            },
            "type": "scatter"
           }
          ],
          "scatter3d": [
           {
            "line": {
             "colorbar": {
              "outlinewidth": 0,
              "ticks": ""
             }
            },
            "marker": {
             "colorbar": {
              "outlinewidth": 0,
              "ticks": ""
             }
            },
            "type": "scatter3d"
           }
          ],
          "scattercarpet": [
           {
            "marker": {
             "colorbar": {
              "outlinewidth": 0,
              "ticks": ""
             }
            },
            "type": "scattercarpet"
           }
          ],
          "scattergeo": [
           {
            "marker": {
             "colorbar": {
              "outlinewidth": 0,
              "ticks": ""
             }
            },
            "type": "scattergeo"
           }
          ],
          "scattergl": [
           {
            "marker": {
             "colorbar": {
              "outlinewidth": 0,
              "ticks": ""
             }
            },
            "type": "scattergl"
           }
          ],
          "scattermapbox": [
           {
            "marker": {
             "colorbar": {
              "outlinewidth": 0,
              "ticks": ""
             }
            },
            "type": "scattermapbox"
           }
          ],
          "scatterpolar": [
           {
            "marker": {
             "colorbar": {
              "outlinewidth": 0,
              "ticks": ""
             }
            },
            "type": "scatterpolar"
           }
          ],
          "scatterpolargl": [
           {
            "marker": {
             "colorbar": {
              "outlinewidth": 0,
              "ticks": ""
             }
            },
            "type": "scatterpolargl"
           }
          ],
          "scatterternary": [
           {
            "marker": {
             "colorbar": {
              "outlinewidth": 0,
              "ticks": ""
             }
            },
            "type": "scatterternary"
           }
          ],
          "surface": [
           {
            "colorbar": {
             "outlinewidth": 0,
             "ticks": ""
            },
            "colorscale": [
             [
              0,
              "#0d0887"
             ],
             [
              0.1111111111111111,
              "#46039f"
             ],
             [
              0.2222222222222222,
              "#7201a8"
             ],
             [
              0.3333333333333333,
              "#9c179e"
             ],
             [
              0.4444444444444444,
              "#bd3786"
             ],
             [
              0.5555555555555556,
              "#d8576b"
             ],
             [
              0.6666666666666666,
              "#ed7953"
             ],
             [
              0.7777777777777778,
              "#fb9f3a"
             ],
             [
              0.8888888888888888,
              "#fdca26"
             ],
             [
              1,
              "#f0f921"
             ]
            ],
            "type": "surface"
           }
          ],
          "table": [
           {
            "cells": {
             "fill": {
              "color": "#EBF0F8"
             },
             "line": {
              "color": "white"
             }
            },
            "header": {
             "fill": {
              "color": "#C8D4E3"
             },
             "line": {
              "color": "white"
             }
            },
            "type": "table"
           }
          ]
         },
         "layout": {
          "annotationdefaults": {
           "arrowcolor": "#2a3f5f",
           "arrowhead": 0,
           "arrowwidth": 1
          },
          "colorscale": {
           "diverging": [
            [
             0,
             "#8e0152"
            ],
            [
             0.1,
             "#c51b7d"
            ],
            [
             0.2,
             "#de77ae"
            ],
            [
             0.3,
             "#f1b6da"
            ],
            [
             0.4,
             "#fde0ef"
            ],
            [
             0.5,
             "#f7f7f7"
            ],
            [
             0.6,
             "#e6f5d0"
            ],
            [
             0.7,
             "#b8e186"
            ],
            [
             0.8,
             "#7fbc41"
            ],
            [
             0.9,
             "#4d9221"
            ],
            [
             1,
             "#276419"
            ]
           ],
           "sequential": [
            [
             0,
             "#0d0887"
            ],
            [
             0.1111111111111111,
             "#46039f"
            ],
            [
             0.2222222222222222,
             "#7201a8"
            ],
            [
             0.3333333333333333,
             "#9c179e"
            ],
            [
             0.4444444444444444,
             "#bd3786"
            ],
            [
             0.5555555555555556,
             "#d8576b"
            ],
            [
             0.6666666666666666,
             "#ed7953"
            ],
            [
             0.7777777777777778,
             "#fb9f3a"
            ],
            [
             0.8888888888888888,
             "#fdca26"
            ],
            [
             1,
             "#f0f921"
            ]
           ],
           "sequentialminus": [
            [
             0,
             "#0d0887"
            ],
            [
             0.1111111111111111,
             "#46039f"
            ],
            [
             0.2222222222222222,
             "#7201a8"
            ],
            [
             0.3333333333333333,
             "#9c179e"
            ],
            [
             0.4444444444444444,
             "#bd3786"
            ],
            [
             0.5555555555555556,
             "#d8576b"
            ],
            [
             0.6666666666666666,
             "#ed7953"
            ],
            [
             0.7777777777777778,
             "#fb9f3a"
            ],
            [
             0.8888888888888888,
             "#fdca26"
            ],
            [
             1,
             "#f0f921"
            ]
           ]
          },
          "colorway": [
           "#636efa",
           "#EF553B",
           "#00cc96",
           "#ab63fa",
           "#FFA15A",
           "#19d3f3",
           "#FF6692",
           "#B6E880",
           "#FF97FF",
           "#FECB52"
          ],
          "font": {
           "color": "#2a3f5f"
          },
          "geo": {
           "bgcolor": "white",
           "lakecolor": "white",
           "landcolor": "#E5ECF6",
           "showlakes": true,
           "showland": true,
           "subunitcolor": "white"
          },
          "hoverlabel": {
           "align": "left"
          },
          "hovermode": "closest",
          "mapbox": {
           "style": "light"
          },
          "paper_bgcolor": "white",
          "plot_bgcolor": "#E5ECF6",
          "polar": {
           "angularaxis": {
            "gridcolor": "white",
            "linecolor": "white",
            "ticks": ""
           },
           "bgcolor": "#E5ECF6",
           "radialaxis": {
            "gridcolor": "white",
            "linecolor": "white",
            "ticks": ""
           }
          },
          "scene": {
           "xaxis": {
            "backgroundcolor": "#E5ECF6",
            "gridcolor": "white",
            "gridwidth": 2,
            "linecolor": "white",
            "showbackground": true,
            "ticks": "",
            "zerolinecolor": "white"
           },
           "yaxis": {
            "backgroundcolor": "#E5ECF6",
            "gridcolor": "white",
            "gridwidth": 2,
            "linecolor": "white",
            "showbackground": true,
            "ticks": "",
            "zerolinecolor": "white"
           },
           "zaxis": {
            "backgroundcolor": "#E5ECF6",
            "gridcolor": "white",
            "gridwidth": 2,
            "linecolor": "white",
            "showbackground": true,
            "ticks": "",
            "zerolinecolor": "white"
           }
          },
          "shapedefaults": {
           "line": {
            "color": "#2a3f5f"
           }
          },
          "ternary": {
           "aaxis": {
            "gridcolor": "white",
            "linecolor": "white",
            "ticks": ""
           },
           "baxis": {
            "gridcolor": "white",
            "linecolor": "white",
            "ticks": ""
           },
           "bgcolor": "#E5ECF6",
           "caxis": {
            "gridcolor": "white",
            "linecolor": "white",
            "ticks": ""
           }
          },
          "title": {
           "x": 0.05
          },
          "xaxis": {
           "automargin": true,
           "gridcolor": "white",
           "linecolor": "white",
           "ticks": "",
           "zerolinecolor": "white",
           "zerolinewidth": 2
          },
          "yaxis": {
           "automargin": true,
           "gridcolor": "white",
           "linecolor": "white",
           "ticks": "",
           "zerolinecolor": "white",
           "zerolinewidth": 2
          }
         }
        },
        "title": {
         "text": "Sightings by State Last 10 Years"
        }
       }
      },
      "text/html": [
       "<div>\n",
       "        \n",
       "        \n",
       "            <div id=\"8a725076-1901-4f54-a9fa-874b148fd511\" class=\"plotly-graph-div\" style=\"height:525px; width:100%;\"></div>\n",
       "            <script type=\"text/javascript\">\n",
       "                require([\"plotly\"], function(Plotly) {\n",
       "                    window.PLOTLYENV=window.PLOTLYENV || {};\n",
       "                    \n",
       "                if (document.getElementById(\"8a725076-1901-4f54-a9fa-874b148fd511\")) {\n",
       "                    Plotly.newPlot(\n",
       "                        '8a725076-1901-4f54-a9fa-874b148fd511',\n",
       "                        [{\"colorbar\": {\"title\": {\"text\": \"Sighting Count\"}}, \"colorscale\": [[0.0, \"rgb(247,251,255)\"], [0.125, \"rgb(222,235,247)\"], [0.25, \"rgb(198,219,239)\"], [0.375, \"rgb(158,202,225)\"], [0.5, \"rgb(107,174,214)\"], [0.625, \"rgb(66,146,198)\"], [0.75, \"rgb(33,113,181)\"], [0.875, \"rgb(8,81,156)\"], [1.0, \"rgb(8,48,107)\"]], \"locationmode\": \"USA-states\", \"locations\": [\"AK\", \"AL\", \"AR\", \"AZ\", \"CA\", \"CO\", \"CT\", \"DE\", \"FL\", \"GA\", \"IA\", \"ID\", \"IL\", \"IN\", \"KS\", \"KY\", \"LA\", \"MA\", \"MD\", \"MI\", \"MN\", \"MO\", \"MS\", \"MT\", \"NC\", \"NE\", \"NH\", \"NJ\", \"NM\", \"NV\", \"NY\", \"OH\", \"OK\", \"OR\", \"PA\", \"RI\", \"SC\", \"SD\", \"TN\", \"TX\", \"UT\", \"VA\", \"VT\", \"WA\", \"WI\", \"WV\", \"WY\"], \"type\": \"choropleth\", \"z\": [3, 54, 29, 44, 66, 28, 7, 3, 165, 75, 29, 19, 176, 30, 18, 61, 10, 21, 10, 133, 37, 78, 3, 20, 40, 6, 5, 26, 9, 2, 18, 76, 31, 45, 31, 1, 12, 4, 41, 54, 29, 51, 2, 207, 45, 53, 3]}],\n",
       "                        {\"geo\": {\"scope\": \"usa\"}, \"template\": {\"data\": {\"bar\": [{\"error_x\": {\"color\": \"#2a3f5f\"}, \"error_y\": {\"color\": \"#2a3f5f\"}, \"marker\": {\"line\": {\"color\": \"#E5ECF6\", \"width\": 0.5}}, \"type\": \"bar\"}], \"barpolar\": [{\"marker\": {\"line\": {\"color\": \"#E5ECF6\", \"width\": 0.5}}, \"type\": \"barpolar\"}], \"carpet\": [{\"aaxis\": {\"endlinecolor\": \"#2a3f5f\", \"gridcolor\": \"white\", \"linecolor\": \"white\", \"minorgridcolor\": \"white\", \"startlinecolor\": \"#2a3f5f\"}, \"baxis\": {\"endlinecolor\": \"#2a3f5f\", \"gridcolor\": \"white\", \"linecolor\": \"white\", \"minorgridcolor\": \"white\", \"startlinecolor\": \"#2a3f5f\"}, \"type\": \"carpet\"}], \"choropleth\": [{\"colorbar\": {\"outlinewidth\": 0, \"ticks\": \"\"}, \"type\": \"choropleth\"}], \"contour\": [{\"colorbar\": {\"outlinewidth\": 0, \"ticks\": \"\"}, \"colorscale\": [[0.0, \"#0d0887\"], [0.1111111111111111, \"#46039f\"], [0.2222222222222222, \"#7201a8\"], [0.3333333333333333, \"#9c179e\"], [0.4444444444444444, \"#bd3786\"], [0.5555555555555556, \"#d8576b\"], [0.6666666666666666, \"#ed7953\"], [0.7777777777777778, \"#fb9f3a\"], [0.8888888888888888, \"#fdca26\"], [1.0, \"#f0f921\"]], \"type\": \"contour\"}], \"contourcarpet\": [{\"colorbar\": {\"outlinewidth\": 0, \"ticks\": \"\"}, \"type\": \"contourcarpet\"}], \"heatmap\": [{\"colorbar\": {\"outlinewidth\": 0, \"ticks\": \"\"}, \"colorscale\": [[0.0, \"#0d0887\"], [0.1111111111111111, \"#46039f\"], [0.2222222222222222, \"#7201a8\"], [0.3333333333333333, \"#9c179e\"], [0.4444444444444444, \"#bd3786\"], [0.5555555555555556, \"#d8576b\"], [0.6666666666666666, \"#ed7953\"], [0.7777777777777778, \"#fb9f3a\"], [0.8888888888888888, \"#fdca26\"], [1.0, \"#f0f921\"]], \"type\": \"heatmap\"}], \"heatmapgl\": [{\"colorbar\": {\"outlinewidth\": 0, \"ticks\": \"\"}, \"colorscale\": [[0.0, \"#0d0887\"], [0.1111111111111111, \"#46039f\"], [0.2222222222222222, \"#7201a8\"], [0.3333333333333333, \"#9c179e\"], [0.4444444444444444, \"#bd3786\"], [0.5555555555555556, \"#d8576b\"], [0.6666666666666666, \"#ed7953\"], [0.7777777777777778, \"#fb9f3a\"], [0.8888888888888888, \"#fdca26\"], [1.0, \"#f0f921\"]], \"type\": \"heatmapgl\"}], \"histogram\": [{\"marker\": {\"colorbar\": {\"outlinewidth\": 0, \"ticks\": \"\"}}, \"type\": \"histogram\"}], \"histogram2d\": [{\"colorbar\": {\"outlinewidth\": 0, \"ticks\": \"\"}, \"colorscale\": [[0.0, \"#0d0887\"], [0.1111111111111111, \"#46039f\"], [0.2222222222222222, \"#7201a8\"], [0.3333333333333333, \"#9c179e\"], [0.4444444444444444, \"#bd3786\"], [0.5555555555555556, \"#d8576b\"], [0.6666666666666666, \"#ed7953\"], [0.7777777777777778, \"#fb9f3a\"], [0.8888888888888888, \"#fdca26\"], [1.0, \"#f0f921\"]], \"type\": \"histogram2d\"}], \"histogram2dcontour\": [{\"colorbar\": {\"outlinewidth\": 0, \"ticks\": \"\"}, \"colorscale\": [[0.0, \"#0d0887\"], [0.1111111111111111, \"#46039f\"], [0.2222222222222222, \"#7201a8\"], [0.3333333333333333, \"#9c179e\"], [0.4444444444444444, \"#bd3786\"], [0.5555555555555556, \"#d8576b\"], [0.6666666666666666, \"#ed7953\"], [0.7777777777777778, \"#fb9f3a\"], [0.8888888888888888, \"#fdca26\"], [1.0, \"#f0f921\"]], \"type\": \"histogram2dcontour\"}], \"mesh3d\": [{\"colorbar\": {\"outlinewidth\": 0, \"ticks\": \"\"}, \"type\": \"mesh3d\"}], \"parcoords\": [{\"line\": {\"colorbar\": {\"outlinewidth\": 0, \"ticks\": \"\"}}, \"type\": \"parcoords\"}], \"scatter\": [{\"marker\": {\"colorbar\": {\"outlinewidth\": 0, \"ticks\": \"\"}}, \"type\": \"scatter\"}], \"scatter3d\": [{\"line\": {\"colorbar\": {\"outlinewidth\": 0, \"ticks\": \"\"}}, \"marker\": {\"colorbar\": {\"outlinewidth\": 0, \"ticks\": \"\"}}, \"type\": \"scatter3d\"}], \"scattercarpet\": [{\"marker\": {\"colorbar\": {\"outlinewidth\": 0, \"ticks\": \"\"}}, \"type\": \"scattercarpet\"}], \"scattergeo\": [{\"marker\": {\"colorbar\": {\"outlinewidth\": 0, \"ticks\": \"\"}}, \"type\": \"scattergeo\"}], \"scattergl\": [{\"marker\": {\"colorbar\": {\"outlinewidth\": 0, \"ticks\": \"\"}}, \"type\": \"scattergl\"}], \"scattermapbox\": [{\"marker\": {\"colorbar\": {\"outlinewidth\": 0, \"ticks\": \"\"}}, \"type\": \"scattermapbox\"}], \"scatterpolar\": [{\"marker\": {\"colorbar\": {\"outlinewidth\": 0, \"ticks\": \"\"}}, \"type\": \"scatterpolar\"}], \"scatterpolargl\": [{\"marker\": {\"colorbar\": {\"outlinewidth\": 0, \"ticks\": \"\"}}, \"type\": \"scatterpolargl\"}], \"scatterternary\": [{\"marker\": {\"colorbar\": {\"outlinewidth\": 0, \"ticks\": \"\"}}, \"type\": \"scatterternary\"}], \"surface\": [{\"colorbar\": {\"outlinewidth\": 0, \"ticks\": \"\"}, \"colorscale\": [[0.0, \"#0d0887\"], [0.1111111111111111, \"#46039f\"], [0.2222222222222222, \"#7201a8\"], [0.3333333333333333, \"#9c179e\"], [0.4444444444444444, \"#bd3786\"], [0.5555555555555556, \"#d8576b\"], [0.6666666666666666, \"#ed7953\"], [0.7777777777777778, \"#fb9f3a\"], [0.8888888888888888, \"#fdca26\"], [1.0, \"#f0f921\"]], \"type\": \"surface\"}], \"table\": [{\"cells\": {\"fill\": {\"color\": \"#EBF0F8\"}, \"line\": {\"color\": \"white\"}}, \"header\": {\"fill\": {\"color\": \"#C8D4E3\"}, \"line\": {\"color\": \"white\"}}, \"type\": \"table\"}]}, \"layout\": {\"annotationdefaults\": {\"arrowcolor\": \"#2a3f5f\", \"arrowhead\": 0, \"arrowwidth\": 1}, \"colorscale\": {\"diverging\": [[0, \"#8e0152\"], [0.1, \"#c51b7d\"], [0.2, \"#de77ae\"], [0.3, \"#f1b6da\"], [0.4, \"#fde0ef\"], [0.5, \"#f7f7f7\"], [0.6, \"#e6f5d0\"], [0.7, \"#b8e186\"], [0.8, \"#7fbc41\"], [0.9, \"#4d9221\"], [1, \"#276419\"]], \"sequential\": [[0.0, \"#0d0887\"], [0.1111111111111111, \"#46039f\"], [0.2222222222222222, \"#7201a8\"], [0.3333333333333333, \"#9c179e\"], [0.4444444444444444, \"#bd3786\"], [0.5555555555555556, \"#d8576b\"], [0.6666666666666666, \"#ed7953\"], [0.7777777777777778, \"#fb9f3a\"], [0.8888888888888888, \"#fdca26\"], [1.0, \"#f0f921\"]], \"sequentialminus\": [[0.0, \"#0d0887\"], [0.1111111111111111, \"#46039f\"], [0.2222222222222222, \"#7201a8\"], [0.3333333333333333, \"#9c179e\"], [0.4444444444444444, \"#bd3786\"], [0.5555555555555556, \"#d8576b\"], [0.6666666666666666, \"#ed7953\"], [0.7777777777777778, \"#fb9f3a\"], [0.8888888888888888, \"#fdca26\"], [1.0, \"#f0f921\"]]}, \"colorway\": [\"#636efa\", \"#EF553B\", \"#00cc96\", \"#ab63fa\", \"#FFA15A\", \"#19d3f3\", \"#FF6692\", \"#B6E880\", \"#FF97FF\", \"#FECB52\"], \"font\": {\"color\": \"#2a3f5f\"}, \"geo\": {\"bgcolor\": \"white\", \"lakecolor\": \"white\", \"landcolor\": \"#E5ECF6\", \"showlakes\": true, \"showland\": true, \"subunitcolor\": \"white\"}, \"hoverlabel\": {\"align\": \"left\"}, \"hovermode\": \"closest\", \"mapbox\": {\"style\": \"light\"}, \"paper_bgcolor\": \"white\", \"plot_bgcolor\": \"#E5ECF6\", \"polar\": {\"angularaxis\": {\"gridcolor\": \"white\", \"linecolor\": \"white\", \"ticks\": \"\"}, \"bgcolor\": \"#E5ECF6\", \"radialaxis\": {\"gridcolor\": \"white\", \"linecolor\": \"white\", \"ticks\": \"\"}}, \"scene\": {\"xaxis\": {\"backgroundcolor\": \"#E5ECF6\", \"gridcolor\": \"white\", \"gridwidth\": 2, \"linecolor\": \"white\", \"showbackground\": true, \"ticks\": \"\", \"zerolinecolor\": \"white\"}, \"yaxis\": {\"backgroundcolor\": \"#E5ECF6\", \"gridcolor\": \"white\", \"gridwidth\": 2, \"linecolor\": \"white\", \"showbackground\": true, \"ticks\": \"\", \"zerolinecolor\": \"white\"}, \"zaxis\": {\"backgroundcolor\": \"#E5ECF6\", \"gridcolor\": \"white\", \"gridwidth\": 2, \"linecolor\": \"white\", \"showbackground\": true, \"ticks\": \"\", \"zerolinecolor\": \"white\"}}, \"shapedefaults\": {\"line\": {\"color\": \"#2a3f5f\"}}, \"ternary\": {\"aaxis\": {\"gridcolor\": \"white\", \"linecolor\": \"white\", \"ticks\": \"\"}, \"baxis\": {\"gridcolor\": \"white\", \"linecolor\": \"white\", \"ticks\": \"\"}, \"bgcolor\": \"#E5ECF6\", \"caxis\": {\"gridcolor\": \"white\", \"linecolor\": \"white\", \"ticks\": \"\"}}, \"title\": {\"x\": 0.05}, \"xaxis\": {\"automargin\": true, \"gridcolor\": \"white\", \"linecolor\": \"white\", \"ticks\": \"\", \"zerolinecolor\": \"white\", \"zerolinewidth\": 2}, \"yaxis\": {\"automargin\": true, \"gridcolor\": \"white\", \"linecolor\": \"white\", \"ticks\": \"\", \"zerolinecolor\": \"white\", \"zerolinewidth\": 2}}}, \"title\": {\"text\": \"Sightings by State Last 10 Years\"}},\n",
       "                        {\"responsive\": true}\n",
       "                    ).then(function(){\n",
       "                            \n",
       "var gd = document.getElementById('8a725076-1901-4f54-a9fa-874b148fd511');\n",
       "var x = new MutationObserver(function (mutations, observer) {{\n",
       "        var display = window.getComputedStyle(gd).display;\n",
       "        if (!display || display === 'none') {{\n",
       "            console.log([gd, 'removed!']);\n",
       "            Plotly.purge(gd);\n",
       "            observer.disconnect();\n",
       "        }}\n",
       "}});\n",
       "\n",
       "// Listen for the removal of the full notebook cells\n",
       "var notebookContainer = gd.closest('#notebook-container');\n",
       "if (notebookContainer) {{\n",
       "    x.observe(notebookContainer, {childList: true});\n",
       "}}\n",
       "\n",
       "// Listen for the clearing of the current output cell\n",
       "var outputEl = gd.closest('.output');\n",
       "if (outputEl) {{\n",
       "    x.observe(outputEl, {childList: true});\n",
       "}}\n",
       "\n",
       "                        })\n",
       "                };\n",
       "                });\n",
       "            </script>\n",
       "        </div>"
      ]
     },
     "metadata": {},
     "output_type": "display_data"
    }
   ],
   "source": [
    "fig = go.Figure(data=go.Choropleth(\n",
    "    locations=state_groups.index, # Two-Letter State Codes\n",
    "    z = state_groups['observations'].astype(int), # Data to be color-coded\n",
    "    locationmode = 'USA-states', # set of locations match entries in `locations`\n",
    "    colorscale = 'Blues',\n",
    "    colorbar_title = \"Sighting Count\",\n",
    "))\n",
    "\n",
    "fig.update_layout(\n",
    "    title_text = 'Sightings by State Last 10 Years',\n",
    "    geo_scope='usa', # limite map scope to USA\n",
    ")\n",
    "fig.show()"
   ]
  },
  {
   "cell_type": "code",
   "execution_count": 116,
   "metadata": {},
   "outputs": [],
   "source": [
    "df2 = df.merge(day_of_week, left_index=True, right_index=True)"
   ]
  },
  {
   "cell_type": "code",
   "execution_count": 230,
   "metadata": {},
   "outputs": [
    {
     "data": {
      "text/html": [
       "<div>\n",
       "<style scoped>\n",
       "    .dataframe tbody tr th:only-of-type {\n",
       "        vertical-align: middle;\n",
       "    }\n",
       "\n",
       "    .dataframe tbody tr th {\n",
       "        vertical-align: top;\n",
       "    }\n",
       "\n",
       "    .dataframe thead th {\n",
       "        text-align: right;\n",
       "    }\n",
       "</style>\n",
       "<table border=\"1\" class=\"dataframe\">\n",
       "  <thead>\n",
       "    <tr style=\"text-align: right;\">\n",
       "      <th></th>\n",
       "      <th>submission_date_x</th>\n",
       "      <th>submission_title</th>\n",
       "      <th>observations</th>\n",
       "      <th>classification</th>\n",
       "      <th>nearest_town</th>\n",
       "      <th>state</th>\n",
       "      <th>county</th>\n",
       "      <th>time_and_condition</th>\n",
       "      <th>other_witness</th>\n",
       "      <th>season</th>\n",
       "      <th>submission_date_y</th>\n",
       "    </tr>\n",
       "  </thead>\n",
       "  <tbody>\n",
       "    <tr>\n",
       "      <th>0</th>\n",
       "      <td>Submitted  by  witness   on Saturday, November...</td>\n",
       "      <td>Snowmobiler has encounter in deep snow near Po...</td>\n",
       "      <td>OBSERVED: I and two of my friends were bored o...</td>\n",
       "      <td>Class A</td>\n",
       "      <td>NEAREST TOWN: Anchorage / Hillside</td>\n",
       "      <td>STATE: Alaska</td>\n",
       "      <td>COUNTY: Anchorage County</td>\n",
       "      <td>TIME AND CONDITIONS: Middle of the night. The ...</td>\n",
       "      <td>OTHER WITNESSES: My two friends were snowmachi...</td>\n",
       "      <td>Winter</td>\n",
       "      <td>Saturday</td>\n",
       "    </tr>\n",
       "    <tr>\n",
       "      <th>1</th>\n",
       "      <td>Submitted  by  witness   on Thursday, June 3, ...</td>\n",
       "      <td>Four nocturnal hikers get pelted with snow nea...</td>\n",
       "      <td>OBSERVED: Me and a couple of friends had been ...</td>\n",
       "      <td>Class B</td>\n",
       "      <td>NEAREST TOWN: Anchorage</td>\n",
       "      <td>STATE: Alaska</td>\n",
       "      <td>COUNTY: Anchorage County</td>\n",
       "      <td>TIME AND CONDITIONS: Started at 11, ended at a...</td>\n",
       "      <td>OTHER WITNESSES: 4. Me, w-man, warren and sean...</td>\n",
       "      <td>Winter</td>\n",
       "      <td>Thursday</td>\n",
       "    </tr>\n",
       "    <tr>\n",
       "      <th>2</th>\n",
       "      <td>Submitted  by  witness A. M. on Tuesday, Octob...</td>\n",
       "      <td>Creature observed walking back and forth by wi...</td>\n",
       "      <td>OBSERVED: My hunting buddy and I were sitting ...</td>\n",
       "      <td>Class B</td>\n",
       "      <td>NaN</td>\n",
       "      <td>STATE: Alaska</td>\n",
       "      <td>COUNTY: Bethel County</td>\n",
       "      <td>NaN</td>\n",
       "      <td>OTHER WITNESSES: Scouting for caribou with hig...</td>\n",
       "      <td>Fall</td>\n",
       "      <td>Tuesday</td>\n",
       "    </tr>\n",
       "    <tr>\n",
       "      <th>3</th>\n",
       "      <td>Submitted  by  witness   on Friday, May 6, 2005.</td>\n",
       "      <td>Fishermen find footprints east of Egegik</td>\n",
       "      <td>OBSERVED: To whom it may concern, I am a comme...</td>\n",
       "      <td>Class B</td>\n",
       "      <td>NEAREST TOWN: Egegik</td>\n",
       "      <td>STATE: Alaska</td>\n",
       "      <td>COUNTY: Bristol Bay County</td>\n",
       "      <td>TIME AND CONDITIONS: Approximately 12:30 pm, p...</td>\n",
       "      <td>OTHER WITNESSES: One other witness, and he was...</td>\n",
       "      <td>Summer</td>\n",
       "      <td>Friday</td>\n",
       "    </tr>\n",
       "    <tr>\n",
       "      <th>4</th>\n",
       "      <td>Submitted  by  witness   on Monday, November 1...</td>\n",
       "      <td>Campers' encounter just after dark in the Wran...</td>\n",
       "      <td>OBSERVED: My hiking partner and I arrived late...</td>\n",
       "      <td>Class A</td>\n",
       "      <td>NEAREST TOWN: Kennikot, Alaska</td>\n",
       "      <td>STATE: Alaska</td>\n",
       "      <td>COUNTY: Cordova-McCarthy County</td>\n",
       "      <td>TIME AND CONDITIONS: About 12:00 Midnight / fu...</td>\n",
       "      <td>OTHER WITNESSES: I was the only witness, there...</td>\n",
       "      <td>Summer</td>\n",
       "      <td>Monday</td>\n",
       "    </tr>\n",
       "  </tbody>\n",
       "</table>\n",
       "</div>"
      ],
      "text/plain": [
       "                                   submission_date_x  \\\n",
       "0  Submitted  by  witness   on Saturday, November...   \n",
       "1  Submitted  by  witness   on Thursday, June 3, ...   \n",
       "2  Submitted  by  witness A. M. on Tuesday, Octob...   \n",
       "3   Submitted  by  witness   on Friday, May 6, 2005.   \n",
       "4  Submitted  by  witness   on Monday, November 1...   \n",
       "\n",
       "                                    submission_title  \\\n",
       "0  Snowmobiler has encounter in deep snow near Po...   \n",
       "1  Four nocturnal hikers get pelted with snow nea...   \n",
       "2  Creature observed walking back and forth by wi...   \n",
       "3           Fishermen find footprints east of Egegik   \n",
       "4  Campers' encounter just after dark in the Wran...   \n",
       "\n",
       "                                        observations classification  \\\n",
       "0  OBSERVED: I and two of my friends were bored o...        Class A   \n",
       "1  OBSERVED: Me and a couple of friends had been ...        Class B   \n",
       "2  OBSERVED: My hunting buddy and I were sitting ...        Class B   \n",
       "3  OBSERVED: To whom it may concern, I am a comme...        Class B   \n",
       "4  OBSERVED: My hiking partner and I arrived late...        Class A   \n",
       "\n",
       "                         nearest_town          state  \\\n",
       "0  NEAREST TOWN: Anchorage / Hillside  STATE: Alaska   \n",
       "1             NEAREST TOWN: Anchorage  STATE: Alaska   \n",
       "2                                 NaN  STATE: Alaska   \n",
       "3               NEAREST TOWN: Egegik   STATE: Alaska   \n",
       "4      NEAREST TOWN: Kennikot, Alaska  STATE: Alaska   \n",
       "\n",
       "                            county  \\\n",
       "0         COUNTY: Anchorage County   \n",
       "1         COUNTY: Anchorage County   \n",
       "2            COUNTY: Bethel County   \n",
       "3       COUNTY: Bristol Bay County   \n",
       "4  COUNTY: Cordova-McCarthy County   \n",
       "\n",
       "                                  time_and_condition  \\\n",
       "0  TIME AND CONDITIONS: Middle of the night. The ...   \n",
       "1  TIME AND CONDITIONS: Started at 11, ended at a...   \n",
       "2                                                NaN   \n",
       "3  TIME AND CONDITIONS: Approximately 12:30 pm, p...   \n",
       "4  TIME AND CONDITIONS: About 12:00 Midnight / fu...   \n",
       "\n",
       "                                       other_witness  season submission_date_y  \n",
       "0  OTHER WITNESSES: My two friends were snowmachi...  Winter          Saturday  \n",
       "1  OTHER WITNESSES: 4. Me, w-man, warren and sean...  Winter          Thursday  \n",
       "2  OTHER WITNESSES: Scouting for caribou with hig...    Fall           Tuesday  \n",
       "3  OTHER WITNESSES: One other witness, and he was...  Summer            Friday  \n",
       "4  OTHER WITNESSES: I was the only witness, there...  Summer            Monday  "
      ]
     },
     "execution_count": 230,
     "metadata": {},
     "output_type": "execute_result"
    }
   ],
   "source": [
    "years = df2.groupby('submission_date_y').count()"
   ]
  },
  {
   "cell_type": "code",
   "execution_count": 103,
   "metadata": {},
   "outputs": [
    {
     "data": {
      "text/html": [
       "<div>\n",
       "<style scoped>\n",
       "    .dataframe tbody tr th:only-of-type {\n",
       "        vertical-align: middle;\n",
       "    }\n",
       "\n",
       "    .dataframe tbody tr th {\n",
       "        vertical-align: top;\n",
       "    }\n",
       "\n",
       "    .dataframe thead th {\n",
       "        text-align: right;\n",
       "    }\n",
       "</style>\n",
       "<table border=\"1\" class=\"dataframe\">\n",
       "  <thead>\n",
       "    <tr style=\"text-align: right;\">\n",
       "      <th></th>\n",
       "      <th>submission_date_x</th>\n",
       "      <th>submission_title</th>\n",
       "      <th>observations</th>\n",
       "      <th>classification</th>\n",
       "      <th>nearest_town</th>\n",
       "      <th>state</th>\n",
       "      <th>county</th>\n",
       "      <th>time_and_condition</th>\n",
       "      <th>other_witness</th>\n",
       "      <th>season</th>\n",
       "    </tr>\n",
       "    <tr>\n",
       "      <th>submission_date_y</th>\n",
       "      <th></th>\n",
       "      <th></th>\n",
       "      <th></th>\n",
       "      <th></th>\n",
       "      <th></th>\n",
       "      <th></th>\n",
       "      <th></th>\n",
       "      <th></th>\n",
       "      <th></th>\n",
       "      <th></th>\n",
       "    </tr>\n",
       "  </thead>\n",
       "  <tbody>\n",
       "    <tr>\n",
       "      <th>1968</th>\n",
       "      <td>1</td>\n",
       "      <td>1</td>\n",
       "      <td>1</td>\n",
       "      <td>1</td>\n",
       "      <td>1</td>\n",
       "      <td>1</td>\n",
       "      <td>1</td>\n",
       "      <td>0</td>\n",
       "      <td>1</td>\n",
       "      <td>1</td>\n",
       "    </tr>\n",
       "    <tr>\n",
       "      <th>1972</th>\n",
       "      <td>1</td>\n",
       "      <td>1</td>\n",
       "      <td>1</td>\n",
       "      <td>1</td>\n",
       "      <td>0</td>\n",
       "      <td>1</td>\n",
       "      <td>1</td>\n",
       "      <td>1</td>\n",
       "      <td>0</td>\n",
       "      <td>1</td>\n",
       "    </tr>\n",
       "    <tr>\n",
       "      <th>1973</th>\n",
       "      <td>1</td>\n",
       "      <td>1</td>\n",
       "      <td>1</td>\n",
       "      <td>1</td>\n",
       "      <td>0</td>\n",
       "      <td>1</td>\n",
       "      <td>1</td>\n",
       "      <td>0</td>\n",
       "      <td>0</td>\n",
       "      <td>1</td>\n",
       "    </tr>\n",
       "    <tr>\n",
       "      <th>1975</th>\n",
       "      <td>1</td>\n",
       "      <td>1</td>\n",
       "      <td>1</td>\n",
       "      <td>1</td>\n",
       "      <td>1</td>\n",
       "      <td>1</td>\n",
       "      <td>1</td>\n",
       "      <td>0</td>\n",
       "      <td>1</td>\n",
       "      <td>1</td>\n",
       "    </tr>\n",
       "    <tr>\n",
       "      <th>1982</th>\n",
       "      <td>1</td>\n",
       "      <td>1</td>\n",
       "      <td>1</td>\n",
       "      <td>1</td>\n",
       "      <td>1</td>\n",
       "      <td>1</td>\n",
       "      <td>1</td>\n",
       "      <td>0</td>\n",
       "      <td>1</td>\n",
       "      <td>1</td>\n",
       "    </tr>\n",
       "    <tr>\n",
       "      <th>1985</th>\n",
       "      <td>1</td>\n",
       "      <td>1</td>\n",
       "      <td>1</td>\n",
       "      <td>1</td>\n",
       "      <td>1</td>\n",
       "      <td>1</td>\n",
       "      <td>1</td>\n",
       "      <td>0</td>\n",
       "      <td>0</td>\n",
       "      <td>1</td>\n",
       "    </tr>\n",
       "    <tr>\n",
       "      <th>1987</th>\n",
       "      <td>1</td>\n",
       "      <td>1</td>\n",
       "      <td>1</td>\n",
       "      <td>1</td>\n",
       "      <td>1</td>\n",
       "      <td>1</td>\n",
       "      <td>1</td>\n",
       "      <td>1</td>\n",
       "      <td>0</td>\n",
       "      <td>1</td>\n",
       "    </tr>\n",
       "    <tr>\n",
       "      <th>1988</th>\n",
       "      <td>1</td>\n",
       "      <td>1</td>\n",
       "      <td>1</td>\n",
       "      <td>1</td>\n",
       "      <td>0</td>\n",
       "      <td>1</td>\n",
       "      <td>1</td>\n",
       "      <td>0</td>\n",
       "      <td>0</td>\n",
       "      <td>1</td>\n",
       "    </tr>\n",
       "    <tr>\n",
       "      <th>1989</th>\n",
       "      <td>4</td>\n",
       "      <td>4</td>\n",
       "      <td>4</td>\n",
       "      <td>4</td>\n",
       "      <td>2</td>\n",
       "      <td>4</td>\n",
       "      <td>4</td>\n",
       "      <td>2</td>\n",
       "      <td>2</td>\n",
       "      <td>4</td>\n",
       "    </tr>\n",
       "    <tr>\n",
       "      <th>1990</th>\n",
       "      <td>1</td>\n",
       "      <td>1</td>\n",
       "      <td>1</td>\n",
       "      <td>1</td>\n",
       "      <td>0</td>\n",
       "      <td>1</td>\n",
       "      <td>1</td>\n",
       "      <td>0</td>\n",
       "      <td>1</td>\n",
       "      <td>1</td>\n",
       "    </tr>\n",
       "    <tr>\n",
       "      <th>1992</th>\n",
       "      <td>1</td>\n",
       "      <td>1</td>\n",
       "      <td>1</td>\n",
       "      <td>1</td>\n",
       "      <td>1</td>\n",
       "      <td>1</td>\n",
       "      <td>1</td>\n",
       "      <td>0</td>\n",
       "      <td>0</td>\n",
       "      <td>1</td>\n",
       "    </tr>\n",
       "    <tr>\n",
       "      <th>1993</th>\n",
       "      <td>1</td>\n",
       "      <td>1</td>\n",
       "      <td>1</td>\n",
       "      <td>1</td>\n",
       "      <td>1</td>\n",
       "      <td>1</td>\n",
       "      <td>1</td>\n",
       "      <td>1</td>\n",
       "      <td>1</td>\n",
       "      <td>1</td>\n",
       "    </tr>\n",
       "    <tr>\n",
       "      <th>1995</th>\n",
       "      <td>9</td>\n",
       "      <td>9</td>\n",
       "      <td>9</td>\n",
       "      <td>9</td>\n",
       "      <td>6</td>\n",
       "      <td>6</td>\n",
       "      <td>6</td>\n",
       "      <td>1</td>\n",
       "      <td>0</td>\n",
       "      <td>9</td>\n",
       "    </tr>\n",
       "    <tr>\n",
       "      <th>1996</th>\n",
       "      <td>45</td>\n",
       "      <td>45</td>\n",
       "      <td>44</td>\n",
       "      <td>45</td>\n",
       "      <td>25</td>\n",
       "      <td>41</td>\n",
       "      <td>41</td>\n",
       "      <td>21</td>\n",
       "      <td>18</td>\n",
       "      <td>45</td>\n",
       "    </tr>\n",
       "    <tr>\n",
       "      <th>1997</th>\n",
       "      <td>138</td>\n",
       "      <td>138</td>\n",
       "      <td>138</td>\n",
       "      <td>138</td>\n",
       "      <td>65</td>\n",
       "      <td>128</td>\n",
       "      <td>128</td>\n",
       "      <td>63</td>\n",
       "      <td>98</td>\n",
       "      <td>138</td>\n",
       "    </tr>\n",
       "    <tr>\n",
       "      <th>1998</th>\n",
       "      <td>215</td>\n",
       "      <td>215</td>\n",
       "      <td>215</td>\n",
       "      <td>215</td>\n",
       "      <td>101</td>\n",
       "      <td>200</td>\n",
       "      <td>200</td>\n",
       "      <td>77</td>\n",
       "      <td>159</td>\n",
       "      <td>215</td>\n",
       "    </tr>\n",
       "    <tr>\n",
       "      <th>1999</th>\n",
       "      <td>166</td>\n",
       "      <td>166</td>\n",
       "      <td>166</td>\n",
       "      <td>166</td>\n",
       "      <td>84</td>\n",
       "      <td>156</td>\n",
       "      <td>156</td>\n",
       "      <td>66</td>\n",
       "      <td>121</td>\n",
       "      <td>166</td>\n",
       "    </tr>\n",
       "    <tr>\n",
       "      <th>2000</th>\n",
       "      <td>280</td>\n",
       "      <td>280</td>\n",
       "      <td>279</td>\n",
       "      <td>280</td>\n",
       "      <td>270</td>\n",
       "      <td>272</td>\n",
       "      <td>272</td>\n",
       "      <td>233</td>\n",
       "      <td>234</td>\n",
       "      <td>280</td>\n",
       "    </tr>\n",
       "    <tr>\n",
       "      <th>2001</th>\n",
       "      <td>378</td>\n",
       "      <td>378</td>\n",
       "      <td>374</td>\n",
       "      <td>378</td>\n",
       "      <td>369</td>\n",
       "      <td>366</td>\n",
       "      <td>366</td>\n",
       "      <td>356</td>\n",
       "      <td>330</td>\n",
       "      <td>378</td>\n",
       "    </tr>\n",
       "    <tr>\n",
       "      <th>2002</th>\n",
       "      <td>260</td>\n",
       "      <td>260</td>\n",
       "      <td>259</td>\n",
       "      <td>260</td>\n",
       "      <td>256</td>\n",
       "      <td>247</td>\n",
       "      <td>247</td>\n",
       "      <td>255</td>\n",
       "      <td>237</td>\n",
       "      <td>260</td>\n",
       "    </tr>\n",
       "    <tr>\n",
       "      <th>2003</th>\n",
       "      <td>288</td>\n",
       "      <td>288</td>\n",
       "      <td>287</td>\n",
       "      <td>288</td>\n",
       "      <td>286</td>\n",
       "      <td>273</td>\n",
       "      <td>273</td>\n",
       "      <td>281</td>\n",
       "      <td>265</td>\n",
       "      <td>288</td>\n",
       "    </tr>\n",
       "    <tr>\n",
       "      <th>2004</th>\n",
       "      <td>354</td>\n",
       "      <td>354</td>\n",
       "      <td>354</td>\n",
       "      <td>354</td>\n",
       "      <td>350</td>\n",
       "      <td>330</td>\n",
       "      <td>330</td>\n",
       "      <td>342</td>\n",
       "      <td>325</td>\n",
       "      <td>354</td>\n",
       "    </tr>\n",
       "    <tr>\n",
       "      <th>2005</th>\n",
       "      <td>343</td>\n",
       "      <td>343</td>\n",
       "      <td>340</td>\n",
       "      <td>343</td>\n",
       "      <td>337</td>\n",
       "      <td>312</td>\n",
       "      <td>312</td>\n",
       "      <td>337</td>\n",
       "      <td>323</td>\n",
       "      <td>343</td>\n",
       "    </tr>\n",
       "    <tr>\n",
       "      <th>2006</th>\n",
       "      <td>305</td>\n",
       "      <td>305</td>\n",
       "      <td>301</td>\n",
       "      <td>305</td>\n",
       "      <td>301</td>\n",
       "      <td>268</td>\n",
       "      <td>268</td>\n",
       "      <td>294</td>\n",
       "      <td>287</td>\n",
       "      <td>305</td>\n",
       "    </tr>\n",
       "    <tr>\n",
       "      <th>2007</th>\n",
       "      <td>243</td>\n",
       "      <td>243</td>\n",
       "      <td>240</td>\n",
       "      <td>243</td>\n",
       "      <td>241</td>\n",
       "      <td>222</td>\n",
       "      <td>222</td>\n",
       "      <td>236</td>\n",
       "      <td>235</td>\n",
       "      <td>243</td>\n",
       "    </tr>\n",
       "    <tr>\n",
       "      <th>2008</th>\n",
       "      <td>299</td>\n",
       "      <td>299</td>\n",
       "      <td>294</td>\n",
       "      <td>299</td>\n",
       "      <td>297</td>\n",
       "      <td>281</td>\n",
       "      <td>281</td>\n",
       "      <td>294</td>\n",
       "      <td>291</td>\n",
       "      <td>299</td>\n",
       "    </tr>\n",
       "    <tr>\n",
       "      <th>2009</th>\n",
       "      <td>221</td>\n",
       "      <td>221</td>\n",
       "      <td>219</td>\n",
       "      <td>221</td>\n",
       "      <td>218</td>\n",
       "      <td>208</td>\n",
       "      <td>208</td>\n",
       "      <td>215</td>\n",
       "      <td>212</td>\n",
       "      <td>221</td>\n",
       "    </tr>\n",
       "    <tr>\n",
       "      <th>2010</th>\n",
       "      <td>157</td>\n",
       "      <td>157</td>\n",
       "      <td>156</td>\n",
       "      <td>157</td>\n",
       "      <td>156</td>\n",
       "      <td>148</td>\n",
       "      <td>148</td>\n",
       "      <td>155</td>\n",
       "      <td>152</td>\n",
       "      <td>157</td>\n",
       "    </tr>\n",
       "    <tr>\n",
       "      <th>2011</th>\n",
       "      <td>196</td>\n",
       "      <td>196</td>\n",
       "      <td>195</td>\n",
       "      <td>196</td>\n",
       "      <td>194</td>\n",
       "      <td>193</td>\n",
       "      <td>193</td>\n",
       "      <td>189</td>\n",
       "      <td>187</td>\n",
       "      <td>196</td>\n",
       "    </tr>\n",
       "    <tr>\n",
       "      <th>2012</th>\n",
       "      <td>296</td>\n",
       "      <td>296</td>\n",
       "      <td>295</td>\n",
       "      <td>296</td>\n",
       "      <td>292</td>\n",
       "      <td>290</td>\n",
       "      <td>290</td>\n",
       "      <td>288</td>\n",
       "      <td>281</td>\n",
       "      <td>296</td>\n",
       "    </tr>\n",
       "    <tr>\n",
       "      <th>2013</th>\n",
       "      <td>241</td>\n",
       "      <td>241</td>\n",
       "      <td>240</td>\n",
       "      <td>241</td>\n",
       "      <td>240</td>\n",
       "      <td>239</td>\n",
       "      <td>239</td>\n",
       "      <td>237</td>\n",
       "      <td>233</td>\n",
       "      <td>241</td>\n",
       "    </tr>\n",
       "    <tr>\n",
       "      <th>2014</th>\n",
       "      <td>171</td>\n",
       "      <td>171</td>\n",
       "      <td>169</td>\n",
       "      <td>171</td>\n",
       "      <td>168</td>\n",
       "      <td>169</td>\n",
       "      <td>169</td>\n",
       "      <td>170</td>\n",
       "      <td>163</td>\n",
       "      <td>171</td>\n",
       "    </tr>\n",
       "    <tr>\n",
       "      <th>2015</th>\n",
       "      <td>102</td>\n",
       "      <td>102</td>\n",
       "      <td>101</td>\n",
       "      <td>102</td>\n",
       "      <td>101</td>\n",
       "      <td>101</td>\n",
       "      <td>101</td>\n",
       "      <td>101</td>\n",
       "      <td>95</td>\n",
       "      <td>102</td>\n",
       "    </tr>\n",
       "    <tr>\n",
       "      <th>2016</th>\n",
       "      <td>65</td>\n",
       "      <td>65</td>\n",
       "      <td>65</td>\n",
       "      <td>65</td>\n",
       "      <td>62</td>\n",
       "      <td>63</td>\n",
       "      <td>63</td>\n",
       "      <td>64</td>\n",
       "      <td>61</td>\n",
       "      <td>65</td>\n",
       "    </tr>\n",
       "    <tr>\n",
       "      <th>2017</th>\n",
       "      <td>12</td>\n",
       "      <td>12</td>\n",
       "      <td>12</td>\n",
       "      <td>12</td>\n",
       "      <td>12</td>\n",
       "      <td>12</td>\n",
       "      <td>12</td>\n",
       "      <td>12</td>\n",
       "      <td>11</td>\n",
       "      <td>12</td>\n",
       "    </tr>\n",
       "  </tbody>\n",
       "</table>\n",
       "</div>"
      ],
      "text/plain": [
       "                   submission_date_x  submission_title  observations  \\\n",
       "submission_date_y                                                      \n",
       "1968                               1                 1             1   \n",
       "1972                               1                 1             1   \n",
       "1973                               1                 1             1   \n",
       "1975                               1                 1             1   \n",
       "1982                               1                 1             1   \n",
       "1985                               1                 1             1   \n",
       "1987                               1                 1             1   \n",
       "1988                               1                 1             1   \n",
       "1989                               4                 4             4   \n",
       "1990                               1                 1             1   \n",
       "1992                               1                 1             1   \n",
       "1993                               1                 1             1   \n",
       "1995                               9                 9             9   \n",
       "1996                              45                45            44   \n",
       "1997                             138               138           138   \n",
       "1998                             215               215           215   \n",
       "1999                             166               166           166   \n",
       "2000                             280               280           279   \n",
       "2001                             378               378           374   \n",
       "2002                             260               260           259   \n",
       "2003                             288               288           287   \n",
       "2004                             354               354           354   \n",
       "2005                             343               343           340   \n",
       "2006                             305               305           301   \n",
       "2007                             243               243           240   \n",
       "2008                             299               299           294   \n",
       "2009                             221               221           219   \n",
       "2010                             157               157           156   \n",
       "2011                             196               196           195   \n",
       "2012                             296               296           295   \n",
       "2013                             241               241           240   \n",
       "2014                             171               171           169   \n",
       "2015                             102               102           101   \n",
       "2016                              65                65            65   \n",
       "2017                              12                12            12   \n",
       "\n",
       "                   classification  nearest_town  state  county  \\\n",
       "submission_date_y                                                \n",
       "1968                            1             1      1       1   \n",
       "1972                            1             0      1       1   \n",
       "1973                            1             0      1       1   \n",
       "1975                            1             1      1       1   \n",
       "1982                            1             1      1       1   \n",
       "1985                            1             1      1       1   \n",
       "1987                            1             1      1       1   \n",
       "1988                            1             0      1       1   \n",
       "1989                            4             2      4       4   \n",
       "1990                            1             0      1       1   \n",
       "1992                            1             1      1       1   \n",
       "1993                            1             1      1       1   \n",
       "1995                            9             6      6       6   \n",
       "1996                           45            25     41      41   \n",
       "1997                          138            65    128     128   \n",
       "1998                          215           101    200     200   \n",
       "1999                          166            84    156     156   \n",
       "2000                          280           270    272     272   \n",
       "2001                          378           369    366     366   \n",
       "2002                          260           256    247     247   \n",
       "2003                          288           286    273     273   \n",
       "2004                          354           350    330     330   \n",
       "2005                          343           337    312     312   \n",
       "2006                          305           301    268     268   \n",
       "2007                          243           241    222     222   \n",
       "2008                          299           297    281     281   \n",
       "2009                          221           218    208     208   \n",
       "2010                          157           156    148     148   \n",
       "2011                          196           194    193     193   \n",
       "2012                          296           292    290     290   \n",
       "2013                          241           240    239     239   \n",
       "2014                          171           168    169     169   \n",
       "2015                          102           101    101     101   \n",
       "2016                           65            62     63      63   \n",
       "2017                           12            12     12      12   \n",
       "\n",
       "                   time_and_condition  other_witness  season  \n",
       "submission_date_y                                             \n",
       "1968                                0              1       1  \n",
       "1972                                1              0       1  \n",
       "1973                                0              0       1  \n",
       "1975                                0              1       1  \n",
       "1982                                0              1       1  \n",
       "1985                                0              0       1  \n",
       "1987                                1              0       1  \n",
       "1988                                0              0       1  \n",
       "1989                                2              2       4  \n",
       "1990                                0              1       1  \n",
       "1992                                0              0       1  \n",
       "1993                                1              1       1  \n",
       "1995                                1              0       9  \n",
       "1996                               21             18      45  \n",
       "1997                               63             98     138  \n",
       "1998                               77            159     215  \n",
       "1999                               66            121     166  \n",
       "2000                              233            234     280  \n",
       "2001                              356            330     378  \n",
       "2002                              255            237     260  \n",
       "2003                              281            265     288  \n",
       "2004                              342            325     354  \n",
       "2005                              337            323     343  \n",
       "2006                              294            287     305  \n",
       "2007                              236            235     243  \n",
       "2008                              294            291     299  \n",
       "2009                              215            212     221  \n",
       "2010                              155            152     157  \n",
       "2011                              189            187     196  \n",
       "2012                              288            281     296  \n",
       "2013                              237            233     241  \n",
       "2014                              170            163     171  \n",
       "2015                              101             95     102  \n",
       "2016                               64             61      65  \n",
       "2017                               12             11      12  "
      ]
     },
     "execution_count": 103,
     "metadata": {},
     "output_type": "execute_result"
    }
   ],
   "source": [
    "years[:-1]"
   ]
  },
  {
   "cell_type": "code",
   "execution_count": 117,
   "metadata": {},
   "outputs": [
    {
     "data": {
      "text/html": [
       "<div>\n",
       "<style scoped>\n",
       "    .dataframe tbody tr th:only-of-type {\n",
       "        vertical-align: middle;\n",
       "    }\n",
       "\n",
       "    .dataframe tbody tr th {\n",
       "        vertical-align: top;\n",
       "    }\n",
       "\n",
       "    .dataframe thead th {\n",
       "        text-align: right;\n",
       "    }\n",
       "</style>\n",
       "<table border=\"1\" class=\"dataframe\">\n",
       "  <thead>\n",
       "    <tr style=\"text-align: right;\">\n",
       "      <th></th>\n",
       "      <th>submission_date_x</th>\n",
       "      <th>submission_title</th>\n",
       "      <th>observations</th>\n",
       "      <th>classification</th>\n",
       "      <th>nearest_town</th>\n",
       "      <th>state</th>\n",
       "      <th>county</th>\n",
       "      <th>time_and_condition</th>\n",
       "      <th>other_witness</th>\n",
       "      <th>season</th>\n",
       "      <th>submission_date_y</th>\n",
       "    </tr>\n",
       "  </thead>\n",
       "  <tbody>\n",
       "    <tr>\n",
       "      <th>0</th>\n",
       "      <td>Submitted  by  witness   on Saturday, November...</td>\n",
       "      <td>Snowmobiler has encounter in deep snow near Po...</td>\n",
       "      <td>OBSERVED: I and two of my friends were bored o...</td>\n",
       "      <td>Class A</td>\n",
       "      <td>NEAREST TOWN: Anchorage / Hillside</td>\n",
       "      <td>STATE: Alaska</td>\n",
       "      <td>COUNTY: Anchorage County</td>\n",
       "      <td>TIME AND CONDITIONS: Middle of the night. The ...</td>\n",
       "      <td>OTHER WITNESSES: My two friends were snowmachi...</td>\n",
       "      <td>Winter</td>\n",
       "      <td>Saturday</td>\n",
       "    </tr>\n",
       "    <tr>\n",
       "      <th>1</th>\n",
       "      <td>Submitted  by  witness   on Thursday, June 3, ...</td>\n",
       "      <td>Four nocturnal hikers get pelted with snow nea...</td>\n",
       "      <td>OBSERVED: Me and a couple of friends had been ...</td>\n",
       "      <td>Class B</td>\n",
       "      <td>NEAREST TOWN: Anchorage</td>\n",
       "      <td>STATE: Alaska</td>\n",
       "      <td>COUNTY: Anchorage County</td>\n",
       "      <td>TIME AND CONDITIONS: Started at 11, ended at a...</td>\n",
       "      <td>OTHER WITNESSES: 4. Me, w-man, warren and sean...</td>\n",
       "      <td>Winter</td>\n",
       "      <td>Thursday</td>\n",
       "    </tr>\n",
       "    <tr>\n",
       "      <th>2</th>\n",
       "      <td>Submitted  by  witness A. M. on Tuesday, Octob...</td>\n",
       "      <td>Creature observed walking back and forth by wi...</td>\n",
       "      <td>OBSERVED: My hunting buddy and I were sitting ...</td>\n",
       "      <td>Class B</td>\n",
       "      <td>NaN</td>\n",
       "      <td>STATE: Alaska</td>\n",
       "      <td>COUNTY: Bethel County</td>\n",
       "      <td>NaN</td>\n",
       "      <td>OTHER WITNESSES: Scouting for caribou with hig...</td>\n",
       "      <td>Fall</td>\n",
       "      <td>Tuesday</td>\n",
       "    </tr>\n",
       "    <tr>\n",
       "      <th>3</th>\n",
       "      <td>Submitted  by  witness   on Friday, May 6, 2005.</td>\n",
       "      <td>Fishermen find footprints east of Egegik</td>\n",
       "      <td>OBSERVED: To whom it may concern, I am a comme...</td>\n",
       "      <td>Class B</td>\n",
       "      <td>NEAREST TOWN: Egegik</td>\n",
       "      <td>STATE: Alaska</td>\n",
       "      <td>COUNTY: Bristol Bay County</td>\n",
       "      <td>TIME AND CONDITIONS: Approximately 12:30 pm, p...</td>\n",
       "      <td>OTHER WITNESSES: One other witness, and he was...</td>\n",
       "      <td>Summer</td>\n",
       "      <td>Friday</td>\n",
       "    </tr>\n",
       "    <tr>\n",
       "      <th>4</th>\n",
       "      <td>Submitted  by  witness   on Monday, November 1...</td>\n",
       "      <td>Campers' encounter just after dark in the Wran...</td>\n",
       "      <td>OBSERVED: My hiking partner and I arrived late...</td>\n",
       "      <td>Class A</td>\n",
       "      <td>NEAREST TOWN: Kennikot, Alaska</td>\n",
       "      <td>STATE: Alaska</td>\n",
       "      <td>COUNTY: Cordova-McCarthy County</td>\n",
       "      <td>TIME AND CONDITIONS: About 12:00 Midnight / fu...</td>\n",
       "      <td>OTHER WITNESSES: I was the only witness, there...</td>\n",
       "      <td>Summer</td>\n",
       "      <td>Monday</td>\n",
       "    </tr>\n",
       "  </tbody>\n",
       "</table>\n",
       "</div>"
      ],
      "text/plain": [
       "                                   submission_date_x  \\\n",
       "0  Submitted  by  witness   on Saturday, November...   \n",
       "1  Submitted  by  witness   on Thursday, June 3, ...   \n",
       "2  Submitted  by  witness A. M. on Tuesday, Octob...   \n",
       "3   Submitted  by  witness   on Friday, May 6, 2005.   \n",
       "4  Submitted  by  witness   on Monday, November 1...   \n",
       "\n",
       "                                    submission_title  \\\n",
       "0  Snowmobiler has encounter in deep snow near Po...   \n",
       "1  Four nocturnal hikers get pelted with snow nea...   \n",
       "2  Creature observed walking back and forth by wi...   \n",
       "3           Fishermen find footprints east of Egegik   \n",
       "4  Campers' encounter just after dark in the Wran...   \n",
       "\n",
       "                                        observations classification  \\\n",
       "0  OBSERVED: I and two of my friends were bored o...        Class A   \n",
       "1  OBSERVED: Me and a couple of friends had been ...        Class B   \n",
       "2  OBSERVED: My hunting buddy and I were sitting ...        Class B   \n",
       "3  OBSERVED: To whom it may concern, I am a comme...        Class B   \n",
       "4  OBSERVED: My hiking partner and I arrived late...        Class A   \n",
       "\n",
       "                         nearest_town          state  \\\n",
       "0  NEAREST TOWN: Anchorage / Hillside  STATE: Alaska   \n",
       "1             NEAREST TOWN: Anchorage  STATE: Alaska   \n",
       "2                                 NaN  STATE: Alaska   \n",
       "3               NEAREST TOWN: Egegik   STATE: Alaska   \n",
       "4      NEAREST TOWN: Kennikot, Alaska  STATE: Alaska   \n",
       "\n",
       "                            county  \\\n",
       "0         COUNTY: Anchorage County   \n",
       "1         COUNTY: Anchorage County   \n",
       "2            COUNTY: Bethel County   \n",
       "3       COUNTY: Bristol Bay County   \n",
       "4  COUNTY: Cordova-McCarthy County   \n",
       "\n",
       "                                  time_and_condition  \\\n",
       "0  TIME AND CONDITIONS: Middle of the night. The ...   \n",
       "1  TIME AND CONDITIONS: Started at 11, ended at a...   \n",
       "2                                                NaN   \n",
       "3  TIME AND CONDITIONS: Approximately 12:30 pm, p...   \n",
       "4  TIME AND CONDITIONS: About 12:00 Midnight / fu...   \n",
       "\n",
       "                                       other_witness  season submission_date_y  \n",
       "0  OTHER WITNESSES: My two friends were snowmachi...  Winter          Saturday  \n",
       "1  OTHER WITNESSES: 4. Me, w-man, warren and sean...  Winter          Thursday  \n",
       "2  OTHER WITNESSES: Scouting for caribou with hig...    Fall           Tuesday  \n",
       "3  OTHER WITNESSES: One other witness, and he was...  Summer            Friday  \n",
       "4  OTHER WITNESSES: I was the only witness, there...  Summer            Monday  "
      ]
     },
     "execution_count": 117,
     "metadata": {},
     "output_type": "execute_result"
    }
   ],
   "source": [
    "df2.head()"
   ]
  },
  {
   "cell_type": "code",
   "execution_count": 224,
   "metadata": {},
   "outputs": [
    {
     "data": {
      "image/png": "[encoded data removed]",
      "text/plain": [
       "<Figure size 1296x360 with 1 Axes>"
      ]
     },
     "metadata": {
      "needs_background": "light"
     },
     "output_type": "display_data"
    }
   ],
   "source": [
    "fig, ax = plt.subplots(figsize=(18,5))\n",
    "ax.plot(years[:-1].index, years[:-1]['state'])\n",
    "ax.set_xticklabels(labels=years[:-1].index, rotation=45)\n",
    "ax.set_title('Submissions by Year')\n",
    "fig.savefig('img/year.png')"
   ]
  },
  {
   "cell_type": "code",
   "execution_count": 129,
   "metadata": {},
   "outputs": [],
   "source": [
    "days_week = df2.groupby('submission_date_y').count()"
   ]
  },
  {
   "cell_type": "code",
   "execution_count": 130,
   "metadata": {},
   "outputs": [],
   "source": [
    "days_week = days_week[:-1]\n",
    "days_week = days_week.reset_index()"
   ]
  },
  {
   "cell_type": "code",
   "execution_count": 136,
   "metadata": {},
   "outputs": [],
   "source": [
    "cats = ['Monday', 'Tuesday', 'Wednesday', 'Thursday', 'Friday', 'Saturday', 'Sunday']\n",
    "days_week['submission_date_y'] = pd.Categorical(days_week['submission_date_y'], categories=cats, ordered=True)\n",
    "days_week = days_week.sort_values('submission_date_y')"
   ]
  },
  {
   "cell_type": "code",
   "execution_count": 137,
   "metadata": {},
   "outputs": [
    {
     "data": {
      "text/html": [
       "<div>\n",
       "<style scoped>\n",
       "    .dataframe tbody tr th:only-of-type {\n",
       "        vertical-align: middle;\n",
       "    }\n",
       "\n",
       "    .dataframe tbody tr th {\n",
       "        vertical-align: top;\n",
       "    }\n",
       "\n",
       "    .dataframe thead th {\n",
       "        text-align: right;\n",
       "    }\n",
       "</style>\n",
       "<table border=\"1\" class=\"dataframe\">\n",
       "  <thead>\n",
       "    <tr style=\"text-align: right;\">\n",
       "      <th></th>\n",
       "      <th>submission_date_y</th>\n",
       "      <th>submission_date_x</th>\n",
       "      <th>submission_title</th>\n",
       "      <th>observations</th>\n",
       "      <th>classification</th>\n",
       "      <th>nearest_town</th>\n",
       "      <th>state</th>\n",
       "      <th>county</th>\n",
       "      <th>time_and_condition</th>\n",
       "      <th>other_witness</th>\n",
       "      <th>season</th>\n",
       "    </tr>\n",
       "  </thead>\n",
       "  <tbody>\n",
       "    <tr>\n",
       "      <th>1</th>\n",
       "      <td>Monday</td>\n",
       "      <td>783</td>\n",
       "      <td>783</td>\n",
       "      <td>779</td>\n",
       "      <td>783</td>\n",
       "      <td>730</td>\n",
       "      <td>731</td>\n",
       "      <td>731</td>\n",
       "      <td>714</td>\n",
       "      <td>704</td>\n",
       "      <td>783</td>\n",
       "    </tr>\n",
       "    <tr>\n",
       "      <th>5</th>\n",
       "      <td>Tuesday</td>\n",
       "      <td>698</td>\n",
       "      <td>698</td>\n",
       "      <td>693</td>\n",
       "      <td>698</td>\n",
       "      <td>645</td>\n",
       "      <td>666</td>\n",
       "      <td>666</td>\n",
       "      <td>628</td>\n",
       "      <td>627</td>\n",
       "      <td>698</td>\n",
       "    </tr>\n",
       "    <tr>\n",
       "      <th>6</th>\n",
       "      <td>Wednesday</td>\n",
       "      <td>681</td>\n",
       "      <td>681</td>\n",
       "      <td>674</td>\n",
       "      <td>681</td>\n",
       "      <td>625</td>\n",
       "      <td>644</td>\n",
       "      <td>644</td>\n",
       "      <td>616</td>\n",
       "      <td>626</td>\n",
       "      <td>681</td>\n",
       "    </tr>\n",
       "    <tr>\n",
       "      <th>4</th>\n",
       "      <td>Thursday</td>\n",
       "      <td>666</td>\n",
       "      <td>666</td>\n",
       "      <td>663</td>\n",
       "      <td>666</td>\n",
       "      <td>616</td>\n",
       "      <td>631</td>\n",
       "      <td>631</td>\n",
       "      <td>591</td>\n",
       "      <td>595</td>\n",
       "      <td>666</td>\n",
       "    </tr>\n",
       "    <tr>\n",
       "      <th>0</th>\n",
       "      <td>Friday</td>\n",
       "      <td>706</td>\n",
       "      <td>706</td>\n",
       "      <td>701</td>\n",
       "      <td>706</td>\n",
       "      <td>650</td>\n",
       "      <td>671</td>\n",
       "      <td>671</td>\n",
       "      <td>627</td>\n",
       "      <td>623</td>\n",
       "      <td>706</td>\n",
       "    </tr>\n",
       "    <tr>\n",
       "      <th>2</th>\n",
       "      <td>Saturday</td>\n",
       "      <td>524</td>\n",
       "      <td>524</td>\n",
       "      <td>522</td>\n",
       "      <td>524</td>\n",
       "      <td>487</td>\n",
       "      <td>492</td>\n",
       "      <td>492</td>\n",
       "      <td>456</td>\n",
       "      <td>473</td>\n",
       "      <td>524</td>\n",
       "    </tr>\n",
       "    <tr>\n",
       "      <th>3</th>\n",
       "      <td>Sunday</td>\n",
       "      <td>741</td>\n",
       "      <td>741</td>\n",
       "      <td>735</td>\n",
       "      <td>741</td>\n",
       "      <td>687</td>\n",
       "      <td>705</td>\n",
       "      <td>705</td>\n",
       "      <td>660</td>\n",
       "      <td>677</td>\n",
       "      <td>741</td>\n",
       "    </tr>\n",
       "  </tbody>\n",
       "</table>\n",
       "</div>"
      ],
      "text/plain": [
       "  submission_date_y  submission_date_x  submission_title  observations  \\\n",
       "1            Monday                783               783           779   \n",
       "5           Tuesday                698               698           693   \n",
       "6         Wednesday                681               681           674   \n",
       "4          Thursday                666               666           663   \n",
       "0            Friday                706               706           701   \n",
       "2          Saturday                524               524           522   \n",
       "3            Sunday                741               741           735   \n",
       "\n",
       "   classification  nearest_town  state  county  time_and_condition  \\\n",
       "1             783           730    731     731                 714   \n",
       "5             698           645    666     666                 628   \n",
       "6             681           625    644     644                 616   \n",
       "4             666           616    631     631                 591   \n",
       "0             706           650    671     671                 627   \n",
       "2             524           487    492     492                 456   \n",
       "3             741           687    705     705                 660   \n",
       "\n",
       "   other_witness  season  \n",
       "1            704     783  \n",
       "5            627     698  \n",
       "6            626     681  \n",
       "4            595     666  \n",
       "0            623     706  \n",
       "2            473     524  \n",
       "3            677     741  "
      ]
     },
     "execution_count": 137,
     "metadata": {},
     "output_type": "execute_result"
    }
   ],
   "source": [
    "days_week"
   ]
  },
  {
   "cell_type": "code",
   "execution_count": 228,
   "metadata": {},
   "outputs": [
    {
     "data": {
      "image/png": "[encoded data removed]",
      "text/plain": [
       "<Figure size 720x360 with 1 Axes>"
      ]
     },
     "metadata": {
      "needs_background": "light"
     },
     "output_type": "display_data"
    }
   ],
   "source": [
    "fig, ax = plt.subplots(figsize=(10,5))\n",
    "ax.bar(days_week['submission_date_y'], days_week['state'])\n",
    "ax.set_title('Submissions by Day-Of-Week')\n",
    "fig.savefig('img/dayofweek.png');"
   ]
  },
  {
   "cell_type": "code",
   "execution_count": 151,
   "metadata": {},
   "outputs": [
    {
     "data": {
      "text/plain": [
       "0    [Saturday, November, 12, 2005]\n",
       "1         [Thursday, June, 3, 2004]\n",
       "2       [Tuesday, October, 5, 1999]\n",
       "3            [Friday, May, 6, 2005]\n",
       "4      [Monday, November, 13, 2000]\n",
       "Name: submission_date, dtype: object"
      ]
     },
     "execution_count": 151,
     "metadata": {},
     "output_type": "execute_result"
    }
   ],
   "source": [
    "submissions.head()"
   ]
  },
  {
   "cell_type": "code",
   "execution_count": 158,
   "metadata": {},
   "outputs": [],
   "source": [
    "date = submissions.apply(lambda x: x[1:])"
   ]
  },
  {
   "cell_type": "code",
   "execution_count": null,
   "metadata": {},
   "outputs": [],
   "source": []
  },
  {
   "cell_type": "code",
   "execution_count": 160,
   "metadata": {},
   "outputs": [],
   "source": [
    "date_df = pd.DataFrame(date)"
   ]
  },
  {
   "cell_type": "code",
   "execution_count": 163,
   "metadata": {},
   "outputs": [],
   "source": [
    "date_df['month'] = date_df['submission_date'].apply(lambda x: x[0:1])"
   ]
  },
  {
   "cell_type": "code",
   "execution_count": 170,
   "metadata": {},
   "outputs": [],
   "source": [
    "date_df['month'] = date_df['month'].astype(str).apply(lambda x: x[1:-1]).replace(\"'\", \"\")"
   ]
  },
  {
   "cell_type": "code",
   "execution_count": 171,
   "metadata": {},
   "outputs": [
    {
     "data": {
      "text/html": [
       "<div>\n",
       "<style scoped>\n",
       "    .dataframe tbody tr th:only-of-type {\n",
       "        vertical-align: middle;\n",
       "    }\n",
       "\n",
       "    .dataframe tbody tr th {\n",
       "        vertical-align: top;\n",
       "    }\n",
       "\n",
       "    .dataframe thead th {\n",
       "        text-align: right;\n",
       "    }\n",
       "</style>\n",
       "<table border=\"1\" class=\"dataframe\">\n",
       "  <thead>\n",
       "    <tr style=\"text-align: right;\">\n",
       "      <th></th>\n",
       "      <th>submission_date</th>\n",
       "      <th>month</th>\n",
       "    </tr>\n",
       "  </thead>\n",
       "  <tbody>\n",
       "    <tr>\n",
       "      <th>0</th>\n",
       "      <td>[November, 12, 2005]</td>\n",
       "      <td>November</td>\n",
       "    </tr>\n",
       "    <tr>\n",
       "      <th>1</th>\n",
       "      <td>[June, 3, 2004]</td>\n",
       "      <td>June</td>\n",
       "    </tr>\n",
       "    <tr>\n",
       "      <th>2</th>\n",
       "      <td>[October, 5, 1999]</td>\n",
       "      <td>October</td>\n",
       "    </tr>\n",
       "    <tr>\n",
       "      <th>3</th>\n",
       "      <td>[May, 6, 2005]</td>\n",
       "      <td>May</td>\n",
       "    </tr>\n",
       "    <tr>\n",
       "      <th>4</th>\n",
       "      <td>[November, 13, 2000]</td>\n",
       "      <td>November</td>\n",
       "    </tr>\n",
       "    <tr>\n",
       "      <th>...</th>\n",
       "      <td>...</td>\n",
       "      <td>...</td>\n",
       "    </tr>\n",
       "    <tr>\n",
       "      <th>4852</th>\n",
       "      <td>[July, 16, 2001]</td>\n",
       "      <td>July</td>\n",
       "    </tr>\n",
       "    <tr>\n",
       "      <th>4853</th>\n",
       "      <td>[August, 30, 2008]</td>\n",
       "      <td>August</td>\n",
       "    </tr>\n",
       "    <tr>\n",
       "      <th>4854</th>\n",
       "      <td>[November, 27, 2006]</td>\n",
       "      <td>November</td>\n",
       "    </tr>\n",
       "    <tr>\n",
       "      <th>4855</th>\n",
       "      <td>[July, 13, 2005]</td>\n",
       "      <td>July</td>\n",
       "    </tr>\n",
       "    <tr>\n",
       "      <th>4856</th>\n",
       "      <td>[November, 16, 2005]</td>\n",
       "      <td>November</td>\n",
       "    </tr>\n",
       "  </tbody>\n",
       "</table>\n",
       "<p>4857 rows × 2 columns</p>\n",
       "</div>"
      ],
      "text/plain": [
       "           submission_date     month\n",
       "0     [November, 12, 2005]  November\n",
       "1          [June, 3, 2004]      June\n",
       "2       [October, 5, 1999]   October\n",
       "3           [May, 6, 2005]       May\n",
       "4     [November, 13, 2000]  November\n",
       "...                    ...       ...\n",
       "4852      [July, 16, 2001]      July\n",
       "4853    [August, 30, 2008]    August\n",
       "4854  [November, 27, 2006]  November\n",
       "4855      [July, 13, 2005]      July\n",
       "4856  [November, 16, 2005]  November\n",
       "\n",
       "[4857 rows x 2 columns]"
      ]
     },
     "execution_count": 171,
     "metadata": {},
     "output_type": "execute_result"
    }
   ],
   "source": [
    "date_df"
   ]
  },
  {
   "cell_type": "code",
   "execution_count": 172,
   "metadata": {},
   "outputs": [],
   "source": [
    "month_no = {\n",
    "    'January': 1,\n",
    "    'February': 2,\n",
    "    'March': 3,\n",
    "    'April': 4,\n",
    "    'May': 5,\n",
    "    'June': 6,\n",
    "    'July': 7,\n",
    "    'August': 8,\n",
    "    'September': 9,\n",
    "    'October': 10,\n",
    "    'November': 11,\n",
    "    'December': 12\n",
    "}\n",
    "\n",
    "date_df['month_no'] = date_df['month'].map(month_no)"
   ]
  },
  {
   "cell_type": "code",
   "execution_count": 180,
   "metadata": {},
   "outputs": [],
   "source": [
    "date_df['month_no'] = date_df['month_no'].fillna(0)\n",
    "\n",
    "date_df = date_df[date_df['month_no'] != 0]"
   ]
  },
  {
   "cell_type": "code",
   "execution_count": 181,
   "metadata": {},
   "outputs": [
    {
     "data": {
      "text/plain": [
       "(4799, 3)"
      ]
     },
     "execution_count": 181,
     "metadata": {},
     "output_type": "execute_result"
    }
   ],
   "source": [
    "date_df.shape"
   ]
  },
  {
   "cell_type": "code",
   "execution_count": 183,
   "metadata": {},
   "outputs": [],
   "source": [
    "date_df['month_no'] = date_df['month_no'].astype(int)"
   ]
  },
  {
   "cell_type": "code",
   "execution_count": 185,
   "metadata": {},
   "outputs": [],
   "source": [
    "date_df['day'] = date_df['submission_date'].apply(lambda x: x[1:2])"
   ]
  },
  {
   "cell_type": "code",
   "execution_count": 189,
   "metadata": {},
   "outputs": [],
   "source": [
    "date_df['day'] = date_df['day'].astype(str).apply(lambda x: x[1:-1]).replace(\"'\", \"\")"
   ]
  },
  {
   "cell_type": "code",
   "execution_count": 191,
   "metadata": {},
   "outputs": [],
   "source": [
    "date_df['year'] = date_df['submission_date'].apply(lambda x: x[2:])\n",
    "date_df['year'] = date_df['year'].astype(str).apply(lambda x: x[1:-1]).replace(\"'\", \"\")"
   ]
  },
  {
   "cell_type": "code",
   "execution_count": 193,
   "metadata": {},
   "outputs": [],
   "source": [
    "date_df['year'] = date_df['year'].astype(str).apply(lambda x: x[1:-1]).replace(\"'\", \"\")"
   ]
  },
  {
   "cell_type": "code",
   "execution_count": 197,
   "metadata": {},
   "outputs": [],
   "source": [
    "date_df['year'] = date_df['year'].astype(str)"
   ]
  },
  {
   "cell_type": "code",
   "execution_count": 199,
   "metadata": {},
   "outputs": [],
   "source": [
    "date_df['day'] = date_df['day'].astype(str)"
   ]
  },
  {
   "cell_type": "code",
   "execution_count": 200,
   "metadata": {},
   "outputs": [],
   "source": [
    "date_df['month_no'] = date_df['month_no'].astype(str)"
   ]
  },
  {
   "cell_type": "code",
   "execution_count": 202,
   "metadata": {},
   "outputs": [],
   "source": [
    "date_df['clean_date'] = pd.to_datetime((date_df.year+date_df.month_no+date_df.day).apply(str),format='%Y%m%d')"
   ]
  },
  {
   "cell_type": "code",
   "execution_count": 203,
   "metadata": {},
   "outputs": [
    {
     "data": {
      "text/html": [
       "<div>\n",
       "<style scoped>\n",
       "    .dataframe tbody tr th:only-of-type {\n",
       "        vertical-align: middle;\n",
       "    }\n",
       "\n",
       "    .dataframe tbody tr th {\n",
       "        vertical-align: top;\n",
       "    }\n",
       "\n",
       "    .dataframe thead th {\n",
       "        text-align: right;\n",
       "    }\n",
       "</style>\n",
       "<table border=\"1\" class=\"dataframe\">\n",
       "  <thead>\n",
       "    <tr style=\"text-align: right;\">\n",
       "      <th></th>\n",
       "      <th>submission_date</th>\n",
       "      <th>month</th>\n",
       "      <th>month_no</th>\n",
       "      <th>day</th>\n",
       "      <th>year</th>\n",
       "      <th>clean_date</th>\n",
       "    </tr>\n",
       "  </thead>\n",
       "  <tbody>\n",
       "    <tr>\n",
       "      <th>0</th>\n",
       "      <td>[November, 12, 2005]</td>\n",
       "      <td>November</td>\n",
       "      <td>11</td>\n",
       "      <td>12</td>\n",
       "      <td>2005</td>\n",
       "      <td>2005-11-12</td>\n",
       "    </tr>\n",
       "    <tr>\n",
       "      <th>1</th>\n",
       "      <td>[June, 3, 2004]</td>\n",
       "      <td>June</td>\n",
       "      <td>6</td>\n",
       "      <td>3</td>\n",
       "      <td>2004</td>\n",
       "      <td>2004-06-03</td>\n",
       "    </tr>\n",
       "    <tr>\n",
       "      <th>2</th>\n",
       "      <td>[October, 5, 1999]</td>\n",
       "      <td>October</td>\n",
       "      <td>10</td>\n",
       "      <td>5</td>\n",
       "      <td>1999</td>\n",
       "      <td>1999-10-05</td>\n",
       "    </tr>\n",
       "    <tr>\n",
       "      <th>3</th>\n",
       "      <td>[May, 6, 2005]</td>\n",
       "      <td>May</td>\n",
       "      <td>5</td>\n",
       "      <td>6</td>\n",
       "      <td>2005</td>\n",
       "      <td>2005-05-06</td>\n",
       "    </tr>\n",
       "    <tr>\n",
       "      <th>4</th>\n",
       "      <td>[November, 13, 2000]</td>\n",
       "      <td>November</td>\n",
       "      <td>11</td>\n",
       "      <td>13</td>\n",
       "      <td>2000</td>\n",
       "      <td>2000-11-13</td>\n",
       "    </tr>\n",
       "    <tr>\n",
       "      <th>...</th>\n",
       "      <td>...</td>\n",
       "      <td>...</td>\n",
       "      <td>...</td>\n",
       "      <td>...</td>\n",
       "      <td>...</td>\n",
       "      <td>...</td>\n",
       "    </tr>\n",
       "    <tr>\n",
       "      <th>4852</th>\n",
       "      <td>[July, 16, 2001]</td>\n",
       "      <td>July</td>\n",
       "      <td>7</td>\n",
       "      <td>16</td>\n",
       "      <td>2001</td>\n",
       "      <td>2001-07-16</td>\n",
       "    </tr>\n",
       "    <tr>\n",
       "      <th>4853</th>\n",
       "      <td>[August, 30, 2008]</td>\n",
       "      <td>August</td>\n",
       "      <td>8</td>\n",
       "      <td>30</td>\n",
       "      <td>2008</td>\n",
       "      <td>2008-08-30</td>\n",
       "    </tr>\n",
       "    <tr>\n",
       "      <th>4854</th>\n",
       "      <td>[November, 27, 2006]</td>\n",
       "      <td>November</td>\n",
       "      <td>11</td>\n",
       "      <td>27</td>\n",
       "      <td>2006</td>\n",
       "      <td>2006-11-27</td>\n",
       "    </tr>\n",
       "    <tr>\n",
       "      <th>4855</th>\n",
       "      <td>[July, 13, 2005]</td>\n",
       "      <td>July</td>\n",
       "      <td>7</td>\n",
       "      <td>13</td>\n",
       "      <td>2005</td>\n",
       "      <td>2005-07-13</td>\n",
       "    </tr>\n",
       "    <tr>\n",
       "      <th>4856</th>\n",
       "      <td>[November, 16, 2005]</td>\n",
       "      <td>November</td>\n",
       "      <td>11</td>\n",
       "      <td>16</td>\n",
       "      <td>2005</td>\n",
       "      <td>2005-11-16</td>\n",
       "    </tr>\n",
       "  </tbody>\n",
       "</table>\n",
       "<p>4799 rows × 6 columns</p>\n",
       "</div>"
      ],
      "text/plain": [
       "           submission_date     month month_no day  year clean_date\n",
       "0     [November, 12, 2005]  November       11  12  2005 2005-11-12\n",
       "1          [June, 3, 2004]      June        6   3  2004 2004-06-03\n",
       "2       [October, 5, 1999]   October       10   5  1999 1999-10-05\n",
       "3           [May, 6, 2005]       May        5   6  2005 2005-05-06\n",
       "4     [November, 13, 2000]  November       11  13  2000 2000-11-13\n",
       "...                    ...       ...      ...  ..   ...        ...\n",
       "4852      [July, 16, 2001]      July        7  16  2001 2001-07-16\n",
       "4853    [August, 30, 2008]    August        8  30  2008 2008-08-30\n",
       "4854  [November, 27, 2006]  November       11  27  2006 2006-11-27\n",
       "4855      [July, 13, 2005]      July        7  13  2005 2005-07-13\n",
       "4856  [November, 16, 2005]  November       11  16  2005 2005-11-16\n",
       "\n",
       "[4799 rows x 6 columns]"
      ]
     },
     "execution_count": 203,
     "metadata": {},
     "output_type": "execute_result"
    }
   ],
   "source": [
    "date_df"
   ]
  },
  {
   "cell_type": "code",
   "execution_count": 204,
   "metadata": {},
   "outputs": [],
   "source": [
    "grouped_dates = date_df.groupby('clean_date').count()"
   ]
  },
  {
   "cell_type": "code",
   "execution_count": 205,
   "metadata": {},
   "outputs": [
    {
     "data": {
      "text/html": [
       "<div>\n",
       "<style scoped>\n",
       "    .dataframe tbody tr th:only-of-type {\n",
       "        vertical-align: middle;\n",
       "    }\n",
       "\n",
       "    .dataframe tbody tr th {\n",
       "        vertical-align: top;\n",
       "    }\n",
       "\n",
       "    .dataframe thead th {\n",
       "        text-align: right;\n",
       "    }\n",
       "</style>\n",
       "<table border=\"1\" class=\"dataframe\">\n",
       "  <thead>\n",
       "    <tr style=\"text-align: right;\">\n",
       "      <th></th>\n",
       "      <th>submission_date</th>\n",
       "      <th>month</th>\n",
       "      <th>month_no</th>\n",
       "      <th>day</th>\n",
       "      <th>year</th>\n",
       "    </tr>\n",
       "    <tr>\n",
       "      <th>clean_date</th>\n",
       "      <th></th>\n",
       "      <th></th>\n",
       "      <th></th>\n",
       "      <th></th>\n",
       "      <th></th>\n",
       "    </tr>\n",
       "  </thead>\n",
       "  <tbody>\n",
       "    <tr>\n",
       "      <th>1968-08-10</th>\n",
       "      <td>1</td>\n",
       "      <td>1</td>\n",
       "      <td>1</td>\n",
       "      <td>1</td>\n",
       "      <td>1</td>\n",
       "    </tr>\n",
       "    <tr>\n",
       "      <th>1972-07-15</th>\n",
       "      <td>1</td>\n",
       "      <td>1</td>\n",
       "      <td>1</td>\n",
       "      <td>1</td>\n",
       "      <td>1</td>\n",
       "    </tr>\n",
       "    <tr>\n",
       "      <th>1973-06-06</th>\n",
       "      <td>1</td>\n",
       "      <td>1</td>\n",
       "      <td>1</td>\n",
       "      <td>1</td>\n",
       "      <td>1</td>\n",
       "    </tr>\n",
       "    <tr>\n",
       "      <th>1975-03-15</th>\n",
       "      <td>1</td>\n",
       "      <td>1</td>\n",
       "      <td>1</td>\n",
       "      <td>1</td>\n",
       "      <td>1</td>\n",
       "    </tr>\n",
       "    <tr>\n",
       "      <th>1982-07-01</th>\n",
       "      <td>1</td>\n",
       "      <td>1</td>\n",
       "      <td>1</td>\n",
       "      <td>1</td>\n",
       "      <td>1</td>\n",
       "    </tr>\n",
       "    <tr>\n",
       "      <th>...</th>\n",
       "      <td>...</td>\n",
       "      <td>...</td>\n",
       "      <td>...</td>\n",
       "      <td>...</td>\n",
       "      <td>...</td>\n",
       "    </tr>\n",
       "    <tr>\n",
       "      <th>2017-02-26</th>\n",
       "      <td>1</td>\n",
       "      <td>1</td>\n",
       "      <td>1</td>\n",
       "      <td>1</td>\n",
       "      <td>1</td>\n",
       "    </tr>\n",
       "    <tr>\n",
       "      <th>2017-03-09</th>\n",
       "      <td>1</td>\n",
       "      <td>1</td>\n",
       "      <td>1</td>\n",
       "      <td>1</td>\n",
       "      <td>1</td>\n",
       "    </tr>\n",
       "    <tr>\n",
       "      <th>2017-11-03</th>\n",
       "      <td>1</td>\n",
       "      <td>1</td>\n",
       "      <td>1</td>\n",
       "      <td>1</td>\n",
       "      <td>1</td>\n",
       "    </tr>\n",
       "    <tr>\n",
       "      <th>2017-11-07</th>\n",
       "      <td>1</td>\n",
       "      <td>1</td>\n",
       "      <td>1</td>\n",
       "      <td>1</td>\n",
       "      <td>1</td>\n",
       "    </tr>\n",
       "    <tr>\n",
       "      <th>2017-12-05</th>\n",
       "      <td>1</td>\n",
       "      <td>1</td>\n",
       "      <td>1</td>\n",
       "      <td>1</td>\n",
       "      <td>1</td>\n",
       "    </tr>\n",
       "  </tbody>\n",
       "</table>\n",
       "<p>3132 rows × 5 columns</p>\n",
       "</div>"
      ],
      "text/plain": [
       "            submission_date  month  month_no  day  year\n",
       "clean_date                                             \n",
       "1968-08-10                1      1         1    1     1\n",
       "1972-07-15                1      1         1    1     1\n",
       "1973-06-06                1      1         1    1     1\n",
       "1975-03-15                1      1         1    1     1\n",
       "1982-07-01                1      1         1    1     1\n",
       "...                     ...    ...       ...  ...   ...\n",
       "2017-02-26                1      1         1    1     1\n",
       "2017-03-09                1      1         1    1     1\n",
       "2017-11-03                1      1         1    1     1\n",
       "2017-11-07                1      1         1    1     1\n",
       "2017-12-05                1      1         1    1     1\n",
       "\n",
       "[3132 rows x 5 columns]"
      ]
     },
     "execution_count": 205,
     "metadata": {},
     "output_type": "execute_result"
    }
   ],
   "source": [
    "grouped_dates"
   ]
  },
  {
   "cell_type": "code",
   "execution_count": 217,
   "metadata": {},
   "outputs": [
    {
     "data": {
      "image/png": "[encoded data removed]",
      "text/plain": [
       "<Figure size 864x360 with 1 Axes>"
      ]
     },
     "metadata": {
      "needs_background": "light"
     },
     "output_type": "display_data"
    }
   ],
   "source": [
    "fig, ax = plt.subplots(figsize=(12,5))\n",
    "ax.plot(grouped_dates.index, grouped_dates.day)\n",
    "ax.set_title('Submissions by Day');"
   ]
  },
  {
   "cell_type": "code",
   "execution_count": 214,
   "metadata": {},
   "outputs": [],
   "source": [
    "grouped_dates_last_10 = grouped_dates[grouped_dates.index > pd.to_datetime('2007-01-01')]"
   ]
  },
  {
   "cell_type": "code",
   "execution_count": 215,
   "metadata": {},
   "outputs": [
    {
     "data": {
      "text/html": [
       "<div>\n",
       "<style scoped>\n",
       "    .dataframe tbody tr th:only-of-type {\n",
       "        vertical-align: middle;\n",
       "    }\n",
       "\n",
       "    .dataframe tbody tr th {\n",
       "        vertical-align: top;\n",
       "    }\n",
       "\n",
       "    .dataframe thead th {\n",
       "        text-align: right;\n",
       "    }\n",
       "</style>\n",
       "<table border=\"1\" class=\"dataframe\">\n",
       "  <thead>\n",
       "    <tr style=\"text-align: right;\">\n",
       "      <th></th>\n",
       "      <th>submission_date</th>\n",
       "      <th>month</th>\n",
       "      <th>month_no</th>\n",
       "      <th>day</th>\n",
       "      <th>year</th>\n",
       "    </tr>\n",
       "    <tr>\n",
       "      <th>clean_date</th>\n",
       "      <th></th>\n",
       "      <th></th>\n",
       "      <th></th>\n",
       "      <th></th>\n",
       "      <th></th>\n",
       "    </tr>\n",
       "  </thead>\n",
       "  <tbody>\n",
       "    <tr>\n",
       "      <th>2007-01-02</th>\n",
       "      <td>2</td>\n",
       "      <td>2</td>\n",
       "      <td>2</td>\n",
       "      <td>2</td>\n",
       "      <td>2</td>\n",
       "    </tr>\n",
       "    <tr>\n",
       "      <th>2007-01-05</th>\n",
       "      <td>1</td>\n",
       "      <td>1</td>\n",
       "      <td>1</td>\n",
       "      <td>1</td>\n",
       "      <td>1</td>\n",
       "    </tr>\n",
       "    <tr>\n",
       "      <th>2007-01-06</th>\n",
       "      <td>2</td>\n",
       "      <td>2</td>\n",
       "      <td>2</td>\n",
       "      <td>2</td>\n",
       "      <td>2</td>\n",
       "    </tr>\n",
       "    <tr>\n",
       "      <th>2007-01-07</th>\n",
       "      <td>1</td>\n",
       "      <td>1</td>\n",
       "      <td>1</td>\n",
       "      <td>1</td>\n",
       "      <td>1</td>\n",
       "    </tr>\n",
       "    <tr>\n",
       "      <th>2007-01-09</th>\n",
       "      <td>1</td>\n",
       "      <td>1</td>\n",
       "      <td>1</td>\n",
       "      <td>1</td>\n",
       "      <td>1</td>\n",
       "    </tr>\n",
       "    <tr>\n",
       "      <th>...</th>\n",
       "      <td>...</td>\n",
       "      <td>...</td>\n",
       "      <td>...</td>\n",
       "      <td>...</td>\n",
       "      <td>...</td>\n",
       "    </tr>\n",
       "    <tr>\n",
       "      <th>2017-02-26</th>\n",
       "      <td>1</td>\n",
       "      <td>1</td>\n",
       "      <td>1</td>\n",
       "      <td>1</td>\n",
       "      <td>1</td>\n",
       "    </tr>\n",
       "    <tr>\n",
       "      <th>2017-03-09</th>\n",
       "      <td>1</td>\n",
       "      <td>1</td>\n",
       "      <td>1</td>\n",
       "      <td>1</td>\n",
       "      <td>1</td>\n",
       "    </tr>\n",
       "    <tr>\n",
       "      <th>2017-11-03</th>\n",
       "      <td>1</td>\n",
       "      <td>1</td>\n",
       "      <td>1</td>\n",
       "      <td>1</td>\n",
       "      <td>1</td>\n",
       "    </tr>\n",
       "    <tr>\n",
       "      <th>2017-11-07</th>\n",
       "      <td>1</td>\n",
       "      <td>1</td>\n",
       "      <td>1</td>\n",
       "      <td>1</td>\n",
       "      <td>1</td>\n",
       "    </tr>\n",
       "    <tr>\n",
       "      <th>2017-12-05</th>\n",
       "      <td>1</td>\n",
       "      <td>1</td>\n",
       "      <td>1</td>\n",
       "      <td>1</td>\n",
       "      <td>1</td>\n",
       "    </tr>\n",
       "  </tbody>\n",
       "</table>\n",
       "<p>1367 rows × 5 columns</p>\n",
       "</div>"
      ],
      "text/plain": [
       "            submission_date  month  month_no  day  year\n",
       "clean_date                                             \n",
       "2007-01-02                2      2         2    2     2\n",
       "2007-01-05                1      1         1    1     1\n",
       "2007-01-06                2      2         2    2     2\n",
       "2007-01-07                1      1         1    1     1\n",
       "2007-01-09                1      1         1    1     1\n",
       "...                     ...    ...       ...  ...   ...\n",
       "2017-02-26                1      1         1    1     1\n",
       "2017-03-09                1      1         1    1     1\n",
       "2017-11-03                1      1         1    1     1\n",
       "2017-11-07                1      1         1    1     1\n",
       "2017-12-05                1      1         1    1     1\n",
       "\n",
       "[1367 rows x 5 columns]"
      ]
     },
     "execution_count": 215,
     "metadata": {},
     "output_type": "execute_result"
    }
   ],
   "source": [
    "grouped_dates_last_10"
   ]
  },
  {
   "cell_type": "code",
   "execution_count": 226,
   "metadata": {},
   "outputs": [
    {
     "data": {
      "image/png": "[encoded data removed]",
      "text/plain": [
       "<Figure size 1296x360 with 1 Axes>"
      ]
     },
     "metadata": {
      "needs_background": "light"
     },
     "output_type": "display_data"
    }
   ],
   "source": [
    "fig, ax = plt.subplots(figsize=(18,5))\n",
    "ax.plot(grouped_dates_last_10.index, grouped_dates_last_10.day)\n",
    "ax.set_title('Submissions by Day Since 1/1/2007')\n",
    "fig.savefig('img/dailysubmissions.png');"
   ]
  },
  {
   "cell_type": "code",
   "execution_count": null,
   "metadata": {},
   "outputs": [],
   "source": []
  }
 ],
 "metadata": {
  "kernelspec": {
   "display_name": "Python 3",
   "language": "python",
   "name": "python3"
  },
  "language_info": {
   "codemirror_mode": {
    "name": "ipython",
    "version": 3
   },
   "file_extension": ".py",
   "mimetype": "text/x-python",
   "name": "python",
   "nbconvert_exporter": "python",
   "pygments_lexer": "ipython3",
   "version": "3.7.3"
  }
 },
 "nbformat": 4,
 "nbformat_minor": 2
}
