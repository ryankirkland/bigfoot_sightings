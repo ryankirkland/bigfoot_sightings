{
 "cells": [
  {
   "cell_type": "code",
   "execution_count": 1,
   "metadata": {},
   "outputs": [],
   "source": [
    "import pandas as pd\n",
    "import numpy as np\n",
    "import matplotlib.pyplot as plt\n",
    "from pandas.plotting import scatter_matrix\n",
    "from sklearn.linear_model import LinearRegression"
   ]
  },
  {
   "cell_type": "code",
   "execution_count": 2,
   "metadata": {},
   "outputs": [],
   "source": [
    "from urllib.request import urlopen\n",
    "import plotly.express as px\n",
    "import json\n",
    "with urlopen('https://raw.githubusercontent.com/plotly/datasets/master/geojson-counties-fips.json') as response:\n",
    "    counties = json.load(response)\n",
    "\n",
    "import pandas as pd\n"
   ]
  },
  {
   "cell_type": "code",
   "execution_count": 25,
   "metadata": {},
   "outputs": [
    {
     "data": {
      "text/html": [
       "<div>\n",
       "<style scoped>\n",
       "    .dataframe tbody tr th:only-of-type {\n",
       "        vertical-align: middle;\n",
       "    }\n",
       "\n",
       "    .dataframe tbody tr th {\n",
       "        vertical-align: top;\n",
       "    }\n",
       "\n",
       "    .dataframe thead th {\n",
       "        text-align: right;\n",
       "    }\n",
       "</style>\n",
       "<table border=\"1\" class=\"dataframe\">\n",
       "  <thead>\n",
       "    <tr style=\"text-align: right;\">\n",
       "      <th></th>\n",
       "      <th>Unnamed: 0</th>\n",
       "      <th>submission_date</th>\n",
       "      <th>submission_title</th>\n",
       "      <th>observations</th>\n",
       "      <th>classification</th>\n",
       "      <th>nearest_town</th>\n",
       "      <th>state</th>\n",
       "      <th>county</th>\n",
       "      <th>time_and_condition</th>\n",
       "      <th>other_witness</th>\n",
       "      <th>season</th>\n",
       "      <th>State</th>\n",
       "      <th>County Name</th>\n",
       "      <th>FIPS State</th>\n",
       "      <th>FIPS County</th>\n",
       "    </tr>\n",
       "  </thead>\n",
       "  <tbody>\n",
       "    <tr>\n",
       "      <th>0</th>\n",
       "      <td>0</td>\n",
       "      <td>Submitted  by  witness   on Saturday, November...</td>\n",
       "      <td>Snowmobiler has encounter in deep snow near Po...</td>\n",
       "      <td>I and two of my friends were bored one night s...</td>\n",
       "      <td>(Class A)</td>\n",
       "      <td>NEAREST TOWN: Anchorage / Hillside</td>\n",
       "      <td>Alaska</td>\n",
       "      <td>Anchorage</td>\n",
       "      <td>TIME AND CONDITIONS: Middle of the night. The ...</td>\n",
       "      <td>OTHER WITNESSES: My two friends were snowmachi...</td>\n",
       "      <td>SEASON: Winter</td>\n",
       "      <td>Alaska</td>\n",
       "      <td>Anchorage</td>\n",
       "      <td>2</td>\n",
       "      <td>00020</td>\n",
       "    </tr>\n",
       "  </tbody>\n",
       "</table>\n",
       "</div>"
      ],
      "text/plain": [
       "   Unnamed: 0                                    submission_date  \\\n",
       "0           0  Submitted  by  witness   on Saturday, November...   \n",
       "\n",
       "                                    submission_title  \\\n",
       "0  Snowmobiler has encounter in deep snow near Po...   \n",
       "\n",
       "                                        observations classification  \\\n",
       "0  I and two of my friends were bored one night s...      (Class A)   \n",
       "\n",
       "                         nearest_town   state     county  \\\n",
       "0  NEAREST TOWN: Anchorage / Hillside  Alaska  Anchorage   \n",
       "\n",
       "                                  time_and_condition  \\\n",
       "0  TIME AND CONDITIONS: Middle of the night. The ...   \n",
       "\n",
       "                                       other_witness          season   State  \\\n",
       "0  OTHER WITNESSES: My two friends were snowmachi...  SEASON: Winter  Alaska   \n",
       "\n",
       "  County Name  FIPS State FIPS County  \n",
       "0   Anchorage           2       00020  "
      ]
     },
     "execution_count": 25,
     "metadata": {},
     "output_type": "execute_result"
    }
   ],
   "source": [
    "bf_geo = pd.read_csv('data/bigfoot_with_county.csv')\n",
    "bf_geo['FIPS County'] = [str(i).zfill(5) for i in bf_geo['FIPS County']]\n",
    "\n",
    "bf_geo.head(1)"
   ]
  },
  {
   "cell_type": "code",
   "execution_count": 30,
   "metadata": {},
   "outputs": [
    {
     "data": {
      "text/html": [
       "<div>\n",
       "<style scoped>\n",
       "    .dataframe tbody tr th:only-of-type {\n",
       "        vertical-align: middle;\n",
       "    }\n",
       "\n",
       "    .dataframe tbody tr th {\n",
       "        vertical-align: top;\n",
       "    }\n",
       "\n",
       "    .dataframe thead th {\n",
       "        text-align: right;\n",
       "    }\n",
       "</style>\n",
       "<table border=\"1\" class=\"dataframe\">\n",
       "  <thead>\n",
       "    <tr style=\"text-align: right;\">\n",
       "      <th></th>\n",
       "      <th>FIPS County</th>\n",
       "      <th>observations</th>\n",
       "    </tr>\n",
       "  </thead>\n",
       "  <tbody>\n",
       "    <tr>\n",
       "      <th>0</th>\n",
       "      <td>00001</td>\n",
       "      <td>56</td>\n",
       "    </tr>\n",
       "    <tr>\n",
       "      <th>1</th>\n",
       "      <td>00003</td>\n",
       "      <td>68</td>\n",
       "    </tr>\n",
       "    <tr>\n",
       "      <th>2</th>\n",
       "      <td>00005</td>\n",
       "      <td>135</td>\n",
       "    </tr>\n",
       "    <tr>\n",
       "      <th>3</th>\n",
       "      <td>00007</td>\n",
       "      <td>100</td>\n",
       "    </tr>\n",
       "    <tr>\n",
       "      <th>4</th>\n",
       "      <td>00009</td>\n",
       "      <td>76</td>\n",
       "    </tr>\n",
       "    <tr>\n",
       "      <th>...</th>\n",
       "      <td>...</td>\n",
       "      <td>...</td>\n",
       "    </tr>\n",
       "    <tr>\n",
       "      <th>177</th>\n",
       "      <td>00481</td>\n",
       "      <td>2</td>\n",
       "    </tr>\n",
       "    <tr>\n",
       "      <th>178</th>\n",
       "      <td>00497</td>\n",
       "      <td>1</td>\n",
       "    </tr>\n",
       "    <tr>\n",
       "      <th>179</th>\n",
       "      <td>00499</td>\n",
       "      <td>3</td>\n",
       "    </tr>\n",
       "    <tr>\n",
       "      <th>180</th>\n",
       "      <td>00550</td>\n",
       "      <td>2</td>\n",
       "    </tr>\n",
       "    <tr>\n",
       "      <th>181</th>\n",
       "      <td>00810</td>\n",
       "      <td>1</td>\n",
       "    </tr>\n",
       "  </tbody>\n",
       "</table>\n",
       "<p>182 rows × 2 columns</p>\n",
       "</div>"
      ],
      "text/plain": [
       "    FIPS County  observations\n",
       "0         00001            56\n",
       "1         00003            68\n",
       "2         00005           135\n",
       "3         00007           100\n",
       "4         00009            76\n",
       "..          ...           ...\n",
       "177       00481             2\n",
       "178       00497             1\n",
       "179       00499             3\n",
       "180       00550             2\n",
       "181       00810             1\n",
       "\n",
       "[182 rows x 2 columns]"
      ]
     },
     "execution_count": 30,
     "metadata": {},
     "output_type": "execute_result"
    }
   ],
   "source": [
    "bf_county_count = bf_geo.groupby(['FIPS County']).count()[['observations']].reset_index()\n",
    "bf_county_count"
   ]
  },
  {
   "cell_type": "markdown",
   "metadata": {},
   "source": [
    "## Create visualizations\n",
    "- Create maps of bigfoot observations by county\n"
   ]
  },
  {
   "cell_type": "code",
   "execution_count": 31,
   "metadata": {},
   "outputs": [],
   "source": [
    "fig = px.choropleth_mapbox(bf_county_count, geojson=counties, locations='FIPS County', color='observations',\n",
    "                           color_continuous_scale=\"Viridis\",\n",
    "#                            range_color=(0, 140),\n",
    "                           mapbox_style=\"carto-positron\",\n",
    "                           zoom=3, center = {\"lat\": 37.0902, \"lon\": -95.7129},\n",
    "                           opacity=0.5,\n",
    "                           labels={'observations':'observations'}\n",
    "                          )\n",
    "fig.update_layout(margin={\"r\":0,\"t\":0,\"l\":0,\"b\":0})\n",
    "fig.write_image(\"img/bigfoot_map.png\")\n",
    "fig.write_html('img/bigfoot.html', auto_open=True)\n"
   ]
  },
  {
   "cell_type": "code",
   "execution_count": null,
   "metadata": {},
   "outputs": [],
   "source": []
  },
  {
   "cell_type": "code",
   "execution_count": null,
   "metadata": {},
   "outputs": [],
   "source": []
  },
  {
   "cell_type": "code",
   "execution_count": null,
   "metadata": {},
   "outputs": [],
   "source": []
  },
  {
   "cell_type": "code",
   "execution_count": null,
   "metadata": {},
   "outputs": [],
   "source": []
  },
  {
   "cell_type": "code",
   "execution_count": null,
   "metadata": {},
   "outputs": [],
   "source": []
  },
  {
   "cell_type": "code",
   "execution_count": null,
   "metadata": {},
   "outputs": [],
   "source": []
  },
  {
   "cell_type": "markdown",
   "metadata": {},
   "source": [
    "### KNN predictions and generate new visualizations"
   ]
  },
  {
   "cell_type": "code",
   "execution_count": 15,
   "metadata": {},
   "outputs": [],
   "source": [
    "from sklearn.neighbors import KNeighborsRegressor\n",
    "X = hiv_cov[['Lat', 'Long_']]\n",
    "\n",
    "y_covid = hiv_cov['COVID_Incidence_Rate']\n",
    "covid_KNN = KNeighborsRegressor(n_neighbors=10)\n",
    "covid_KNN.fit(X, y_covid)\n",
    "covid_yhat = covid_KNN.predict(X)\n",
    "\n",
    "y_hiv = hiv_cov['HIVprevalence']\n",
    "hiv_KNN = KNeighborsRegressor(n_neighbors=10)\n",
    "hiv_KNN.fit(X, y_hiv)\n",
    "hiv_yhat = hiv_KNN.predict(X)\n"
   ]
  },
  {
   "cell_type": "code",
   "execution_count": 37,
   "metadata": {},
   "outputs": [],
   "source": [
    "fig = px.choropleth_mapbox(hiv_cov, geojson=counties, locations='FIPS', color='covid_epidemic_prediction',\n",
    "                           color_continuous_scale=\"Viridis\",\n",
    "                           range_color=(0, 0.022),\n",
    "                           mapbox_style=\"carto-positron\",\n",
    "                           zoom=3, center = {\"lat\": 37.0902, \"lon\": -95.7129},\n",
    "                           opacity=0.5,\n",
    "                           labels={'covid_epidemic_prediction':'COVID Incidence Prediction Based on Neighboring Counties'}\n",
    "                          )\n",
    "fig.update_layout(margin={\"r\":0,\"t\":0,\"l\":0,\"b\":0})\n",
    "fig.write_image(\"img/covid_epidemic_prediction.png\")\n",
    "fig.write_html('img/covid_epidemic_prediction.html', auto_open=True)"
   ]
  },
  {
   "cell_type": "code",
   "execution_count": 38,
   "metadata": {},
   "outputs": [],
   "source": [
    "fig = px.choropleth_mapbox(hiv_cov, geojson=counties, locations='FIPS', color='hiv_epidemic_prediction',\n",
    "                           color_continuous_scale=\"Viridis\",\n",
    "                           range_color=(0, 325),\n",
    "                           mapbox_style=\"carto-positron\",\n",
    "                           zoom=3, center = {\"lat\": 37.0902, \"lon\": -95.7129},\n",
    "                           opacity=0.5,\n",
    "                           labels={'hiv_epidemic_prediction':'HIV Prevalence Prediction Based on Neighboring Counties'}\n",
    "                          )\n",
    "fig.update_layout(margin={\"r\":0,\"t\":0,\"l\":0,\"b\":0})\n",
    "fig.write_image(\"img/hiv_epidemic_prediction.png\")\n",
    "fig.write_html('img/hiv_epidemic_prediction.html', auto_open=True)"
   ]
  },
  {
   "cell_type": "markdown",
   "metadata": {},
   "source": [
    "## Results\n",
    "- Regionalization improved the correlation of the maps. \n",
    "- "
   ]
  }
 ],
 "metadata": {
  "kernelspec": {
   "display_name": "Python 3",
   "language": "python",
   "name": "python3"
  },
  "language_info": {
   "codemirror_mode": {
    "name": "ipython",
    "version": 3
   },
   "file_extension": ".py",
   "mimetype": "text/x-python",
   "name": "python",
   "nbconvert_exporter": "python",
   "pygments_lexer": "ipython3",
   "version": "3.7.7"
  }
 },
 "nbformat": 4,
 "nbformat_minor": 4
}
