{
 "cells": [
  {
   "cell_type": "markdown",
   "metadata": {},
   "source": [
    "# Decrypting cryptid\n",
    "\n",
    "## Tools, technologies, & techniques featured in this notebook\n",
    "- List TBD"
   ]
  },
  {
   "cell_type": "code",
   "execution_count": 13,
   "metadata": {},
   "outputs": [],
   "source": [
    "import numpy as np\n",
    "import pandas as pd\n",
    "from numpy.linalg import svd\n",
    "# import string\n",
    "\n",
    "import matplotlib.pyplot as plt\n",
    "%matplotlib inline\n",
    "\n",
    "import re\n",
    "import nltk\n",
    "from nltk.corpus import stopwords\n",
    "from nltk.tokenize import word_tokenize\n",
    "from nltk.stem.wordnet import WordNetLemmatizer\n",
    "# from nltk.stem.porter import PorterStemmer\n",
    "# from nltk.stem.snowball import SnowballStemmer\n",
    "from sklearn.feature_extraction.text import CountVectorizer, TfidfVectorizer\n",
    "from sklearn.decomposition import NMF\n",
    "from sklearn.cluster import KMeans \n",
    "from sklearn.feature_extraction.text import CountVectorizer, TfidfVectorizer\n",
    "from sklearn.metrics.pairwise import linear_kernel"
   ]
  },
  {
   "cell_type": "code",
   "execution_count": 14,
   "metadata": {},
   "outputs": [],
   "source": [
    "from urllib.request import urlopen\n",
    "import plotly.express as px"
   ]
  },
  {
   "cell_type": "markdown",
   "metadata": {},
   "source": [
    "## Text ingestion\n",
    "**Source selection**\n",
    "- Observation data was imported from the file you provided. We looked for other sources, but found that the publishers of this information took the most care to be most credible. A team of researchers would follow up on each sighting with an interview and collection of 'evidence' and attempt to consistently classify the report. They only publish the top three tiers of credibility--A through C in order of most to least evidence.\n",
    "\n",
    "**Data import and data wrangling**\n",
    "\n",
    "- 'Beautiful Soup' module to get the html data into a usable format\n",
    "- Data was pretty messy--think of looking through a filing cabinet for a document where the person who was in charge of filing didn't reliably put files in the right folders\n",
    "- Straightened out the filing cabinet and then obtained year and month, state and county, \n"
   ]
  },
  {
   "cell_type": "markdown",
   "metadata": {},
   "source": [
    "## Text preprocessing functions and methods\n",
    "- Machine learning models need to have text converted into a format that they can use. \n",
    "- The steps we took to turn the text into machine-readable 'data' included stripping punctuation, tokenizing, lemmatization, and removing stopwords.\n",
    "- We then 'vectorized' each observation so that the models could compare them.\n"
   ]
  },
  {
   "cell_type": "code",
   "execution_count": 15,
   "metadata": {},
   "outputs": [
    {
     "name": "stderr",
     "output_type": "stream",
     "text": [
      "[nltk_data] Downloading package stopwords to\n",
      "[nltk_data]     /Users/ryankirkland/nltk_data...\n",
      "[nltk_data]   Package stopwords is already up-to-date!\n"
     ]
    },
    {
     "data": {
      "text/plain": [
       "True"
      ]
     },
     "execution_count": 15,
     "metadata": {},
     "output_type": "execute_result"
    }
   ],
   "source": [
    "wordnet = WordNetLemmatizer()\n",
    "# porter = PorterStemmer()\n",
    "# snowball = SnowballStemmer('english')\n",
    "nltk.download('stopwords')"
   ]
  },
  {
   "cell_type": "code",
   "execution_count": 16,
   "metadata": {},
   "outputs": [],
   "source": [
    "\n",
    "def remove_punc(string:str) -> str:\n",
    "    '''Given a string, removes all punctuation and returned punctuation-less string'''\n",
    "    return re.sub(r\"(@[A-Za-z0-9]+)|([^0-9A-Za-z \\t])|(\\w+:\\/\\/\\S+)|^rt|http.+?\", \"\", string)"
   ]
  },
  {
   "cell_type": "code",
   "execution_count": 17,
   "metadata": {},
   "outputs": [],
   "source": [
    "def tokenize(str):\n",
    "    '''\n",
    "    Tokenize a str and return a tokenized list.\n",
    "    '''\n",
    "    return [word for word in word_tokenize(str)]"
   ]
  },
  {
   "cell_type": "code",
   "execution_count": 18,
   "metadata": {},
   "outputs": [],
   "source": [
    "def lemmatize(doc):\n",
    "    '''Takes in a doc and lemmatizes tokens in doc\n",
    "    Parameters\n",
    "    ----------\n",
    "    doc: list of tokens\n",
    "    \n",
    "    Returns\n",
    "    -------\n",
    "    lemmatized tokens\n",
    "    '''\n",
    "    return [wordnet.lemmatize(tkn) for tkn in doc]"
   ]
  },
  {
   "cell_type": "code",
   "execution_count": 19,
   "metadata": {},
   "outputs": [],
   "source": [
    "def rm_stop_words(doc, stops=set(stopwords.words('english'))):\n",
    "    '''Takes in a doc and removes stop words\n",
    "    Parameters\n",
    "    ----------\n",
    "    doc: list of tokens\n",
    "    \n",
    "    Returns\n",
    "    -------\n",
    "    Tokens with stop words removed\n",
    "    '''\n",
    "    return([w for w in doc if w not in stops])"
   ]
  },
  {
   "cell_type": "code",
   "execution_count": 20,
   "metadata": {},
   "outputs": [],
   "source": [
    "def preprocess_corpus(content):\n",
    "    '''\n",
    "    Add docstring. Make flexible to allow for doing, or not doing, preprocessing functions. \n",
    "    Parameters\n",
    "    ----------\n",
    "    content (str): a collection of strings\n",
    "    Returns\n",
    "    -------\n",
    "    A list of lists: each list contains a tokenized version of the original string\n",
    "    '''\n",
    "    preprocessed = []\n",
    "    for i in range(len(content)):\n",
    "        step_1 = remove_punc(content[i].lower())\n",
    "        step_2 = tokenize(step_1)\n",
    "        step_3 = lemmatize(step_2)\n",
    "        step_4 = rm_stop_words(step_3)\n",
    "        preprocessed.append(step_4)\n",
    "    return preprocessed"
   ]
  },
  {
   "cell_type": "code",
   "execution_count": 21,
   "metadata": {},
   "outputs": [],
   "source": [
    "# loading bigfoot data\n",
    "sightings_df = pd.read_csv('data/bigfoot_with_county.csv', index_col=0)"
   ]
  },
  {
   "cell_type": "code",
   "execution_count": 22,
   "metadata": {},
   "outputs": [],
   "source": [
    "sightings_df['observations'] = sightings_df['observations'].astype(str)"
   ]
  },
  {
   "cell_type": "markdown",
   "metadata": {},
   "source": [
    "### Preprocessing--data load and function calls"
   ]
  },
  {
   "cell_type": "code",
   "execution_count": 23,
   "metadata": {},
   "outputs": [],
   "source": [
    "cleaned_tokenized = preprocess_corpus(sightings_df['observations']) # cleaned and tokenized\n",
    "\n",
    "str_cleaned_tokenized = [\" \".join(x) for x in cleaned_tokenized] # string version of cleaned and tokenized "
   ]
  },
  {
   "cell_type": "code",
   "execution_count": 24,
   "metadata": {},
   "outputs": [
    {
     "data": {
      "text/plain": [
       "4411"
      ]
     },
     "execution_count": 24,
     "metadata": {},
     "output_type": "execute_result"
    }
   ],
   "source": [
    "len(cleaned_tokenized)"
   ]
  },
  {
   "cell_type": "markdown",
   "metadata": {},
   "source": [
    "## Processing"
   ]
  },
  {
   "cell_type": "code",
   "execution_count": 25,
   "metadata": {},
   "outputs": [],
   "source": [
    "# 'Bag of words function'\n",
    "vect = CountVectorizer(max_features=500)\n",
    "word_counts = vect.fit_transform(str_cleaned_tokenized)"
   ]
  },
  {
   "cell_type": "code",
   "execution_count": 26,
   "metadata": {},
   "outputs": [
    {
     "data": {
      "text/plain": [
       "500"
      ]
     },
     "execution_count": 26,
     "metadata": {},
     "output_type": "execute_result"
    }
   ],
   "source": [
    "len(vect.get_feature_names())"
   ]
  },
  {
   "cell_type": "code",
   "execution_count": 27,
   "metadata": {},
   "outputs": [
    {
     "data": {
      "text/plain": [
       "array([[0.12824608, 0.0759244 , 0.07095224, ..., 0.        , 0.0518886 ,\n",
       "        0.        ],\n",
       "       [0.        , 0.        , 0.        , ..., 0.03951046, 0.        ,\n",
       "        0.        ],\n",
       "       [0.        , 0.        , 0.        , ..., 0.        , 0.06966028,\n",
       "        0.        ],\n",
       "       ...,\n",
       "       [0.        , 0.        , 0.04487746, ..., 0.02769821, 0.        ,\n",
       "        0.03032734],\n",
       "       [0.        , 0.        , 0.        , ..., 0.20376512, 0.03449167,\n",
       "        0.03187238],\n",
       "       [0.        , 0.        , 0.        , ..., 0.15761544, 0.        ,\n",
       "        0.        ]])"
      ]
     },
     "execution_count": 27,
     "metadata": {},
     "output_type": "execute_result"
    }
   ],
   "source": [
    "tfidfvect = TfidfVectorizer(max_features=500)\n",
    "tfidf_vectorized = tfidfvect.fit_transform(str_cleaned_tokenized)\n",
    "tfidf_vectorized.toarray()"
   ]
  },
  {
   "cell_type": "markdown",
   "metadata": {},
   "source": [
    "## Clustering with K Means"
   ]
  },
  {
   "cell_type": "code",
   "execution_count": 123,
   "metadata": {},
   "outputs": [],
   "source": [
    "clusters = 5\n",
    "kmeans = KMeans(n_clusters=clusters, \n",
    "                random_state=0).fit(tfidf_vectorized)"
   ]
  },
  {
   "cell_type": "markdown",
   "metadata": {},
   "source": [
    "- Investigate the clusters  \n",
    "\n",
    "> - Investigate the 'centroids' to find out what \"topics\" Kmeans has discovered by mapping these vectors back into the 'word space'.  Think of each feature/dimension of the centroid vector as representing the \"average\" article or the average occurrences of words for that cluster.\n",
    "   \n",
    "> - Find the features/dimensions with the greatest representation in the centroid.  Print out the top ten words for each centroid.\n"
   ]
  },
  {
   "cell_type": "code",
   "execution_count": 124,
   "metadata": {},
   "outputs": [
    {
     "name": "stdout",
     "output_type": "stream",
     "text": [
      "track print wa inch snow footprint foot found toe area trail picture one long creek large road size human went like would could made \n",
      "\n",
      "wa creature saw tree large back foot area tall river seen looked dog house said wood one like heard ran around walking see two \n",
      "\n",
      "wa heard sound like scream night loud sounded noise time tent wood area howl dog back camp could one animal hear around went never \n",
      "\n",
      "wa road saw car driving side creature foot tall see looked hair back like dark around front seen large right highway home area could \n",
      "\n",
      "wa back saw like tree see could foot time wood would one around looked something area heard got friend thing went didnt never house \n",
      "\n"
     ]
    }
   ],
   "source": [
    "def Sort(sub_li): \n",
    "    return sorted(sub_li, key = lambda x: x[0], reverse=True)\n",
    "\n",
    "def get_word(centroid):\n",
    "    return [x[1] for x in centroid]\n",
    "\n",
    "for k in range(5):\n",
    "    matched = zip(kmeans.cluster_centers_[k], tfidfvect.get_feature_names())\n",
    "    match = Sort(list(matched))\n",
    "    print(' '.join(get_word(match[:24])), '\\n')"
   ]
  },
  {
   "cell_type": "markdown",
   "metadata": {},
   "source": [
    "For heirarchical clustering methods, see 819 am clustering assignment"
   ]
  },
  {
   "cell_type": "markdown",
   "metadata": {},
   "source": [
    "## Cosine similarity\n",
    "- Unsupervised learning\n",
    "\n",
    "- Use the cosine similarity to compare similarity between documents.\n",
    "\n",
    "- sklearn's [linear_kernel](http://scikit-learn.org/stable/modules/generated/sklearn.metrics.pairwise.linear_kernel.html) (computes dot product) can be used on tfidf to compute the cosine similarity since rows are normalized.*\n",
    "\n",
    "- Here's a page on cosine similarity from [sklearn documentation](http://scikit-learn.org/stable/modules/metrics.html#cosine-similarity) and a relevant [stack overflow post](http://stackoverflow.com/questions/12118720/python-tf-idf-cosine-to-find-document-similarity).\n",
    "\n",
    "- *The stack overflow post is helpful. It provides instruction over how to slice the tfidf and then how to apply cosine similarity between one doc and all of the rest.*"
   ]
  },
  {
   "cell_type": "code",
   "execution_count": 128,
   "metadata": {},
   "outputs": [],
   "source": [
    "cosine_similarities = linear_kernel(tfidf_vectorized[1:2], tfidf_vectorized[1:500]).flatten() # This is comparing cs for article #2 and the next 500."
   ]
  },
  {
   "cell_type": "code",
   "execution_count": 126,
   "metadata": {},
   "outputs": [
    {
     "name": "stdout",
     "output_type": "stream",
     "text": [
      "[  0 134 299  51  35]\n"
     ]
    },
    {
     "data": {
      "text/plain": [
       "array([1.        , 0.41648761, 0.40048277, 0.39099911, 0.38874647])"
      ]
     },
     "execution_count": 126,
     "metadata": {},
     "output_type": "execute_result"
    }
   ],
   "source": [
    "related_docs_indices = cosine_similarities.argsort()[:-6:-1] # This identifies the index of the top 5 most similar.\n",
    "print(related_docs_indices)\n",
    "\n",
    "most_similar = cosine_similarities[related_docs_indices] # and their related cs\n",
    "most_similar"
   ]
  },
  {
   "cell_type": "code",
   "execution_count": 127,
   "metadata": {},
   "outputs": [
    {
     "name": "stdout",
     "output_type": "stream",
     "text": [
      "I and two of my friends were bored one night so we decided to do a little snowmachining. Though it was illegal to snowmachine in Anchorage, there were some good trails to ride on a little north of my house.  We took off at probably 11 pm, rode up the road about a quarter mile, and cut off on the trails. It had snowed about 10 inches a few days before so there was fresh snow, with no tracks.  I was leading the way for about a half hour, then we stopped and talked for a little bit.  We took off again and kept cruising on some sort of game trail that led to an opening in the woods.  I rode off into the opening with my friends following about fifty yards behind me.  I came over this little mound and saw strange tracks leading to this spot in the snow where it looked like something had pushed aside some snow and layed down.  I figured it was just a moose or something.  But I followed the tracks over the next small hill and as I came down the far side my headlight pointed right on the back of a bigfoot.  It was only about 10 to 12 feet in front of me.  It was running in the opposite direction.  I slammed on the brakes because I was scared out of my mind.  It continued to run away, jumped over a dead log covered in snow and disappeared into a group of trees and into the darkness.  I was so surprised and scared I quickly turned around and rode back toward my friends. I met them back by the first mound and said \"We need to get out of here,\"  and rode back towards my house.  When I told them about it back near my house, they laughed and told me it was probably a bear or someone in the woods.  But I was 100% positive that is was not a bear or anything else. The way it was running through the deep snow made me sure that it wasn't anything human.  For a long time I was made fun of and everyone told me I was crazy so I didn't like talking about it.  \n",
      "I live in Kansas City Mo the year was 1983 some friends and I went on a backpacking outing in Arkansas just across the border from Missouri close to Fayettville Ark about 20 miles east of town.The area was very wooded with lots of hills and valleys on our second day there about 3 miles from our camp we came across 3 nest they were about 8 foot long oval shaped nest I call them nest because they were made from rocks positioned in a oval pattern and the inside filled with leaves and beside 2 of these nest there were large tree branches cleaned of bark slick we stood around looking at them a few minutes when someone yelled come look at this doody the pile that was there was huge we guessed maybe bear stuff but ive never seen bear stuff but the hair stood up on my neck we left walked about a mile when we came upon a pine tree the bark had been striped off it I mean like something climbed to the top sunk in its fingernails and slid down peeling it off in strips 15 ft long we stayed 2 more days heard many spooky noises but never saw anything \n",
      "Near Cresent City: a television production crew from Los Angeles videotapes what appears to be a bigfoot crossing a forest road in front of their RV. Among the crew was a Playboy model who subsequently appeared on the Jay Leno show and Hardcopy to discuss the incident.Sent to the Internet Virtual Bigfoot Conference (IVBC) mailing list: The \"Redwoods Footage\"\n",
      "One evening my wife and I decided to go to my hunting club property to a place where we used to go sit and talk. We got there just before dark and had been there for several hours when it happened. The place where we were is on a large power transmission line right of way.There is a small stream that crosses the clearing, and a very steep hill on the side where we parked. In fact, so steep that it is difficult to drive a four wheel drive down to the stream. On the other side of the stream there is a low level spot that then becomes another steep hill. I would say that the hills are a good 50 feet higher than the stream.I had parked my truck on the hilltop, and we sat on the tailgate facing the stream. Around 11:00 pm we heard a very loud snorting noise coming from the bottom of the hill, and the sound of brush moving and breaking. I thought that it was a wild hog, because they are plentiful in this area, so I told my wife to get in the truck, because I was afraid it would attack us. She got in the truck while I tried to find my flashlight and my gun.When she slammed the door, I heard a loud, low growl/grunt and it sounded like something large started running up the hill towards us. I was standing in the bed of my truck by now trying to shine my light down the hill, but the batteries were weak and I couldn't see very far.There was a very bright moon out so I turned off my light, and could see a large shadow moving around about halfway up the hill towards us.I was listening to it move around and make the same growl/grunt noise. I could also hear what sounded like breathing noises.I then caught scent of a strange, musky, sour odor and heard more brush breaking and what sounded like stomping noises. I was certain by now that this was not a wild hog, but couldn't figure out what it might be. So I told my wife to start my truck and rev the engine a few times and when she did, I heard what sounded like something crashing through the brush heading down hill and moving fast. We were both a little spooked by now so we left.As I pulled out onto the dirt road off the power line trail, I turned toward the bridge that crosses the small stream (the road roughly parallels the power line) a large number of deer ran at high speed across the road,heading away from the stream.I tried to convince myself that it was just deer that I heard,but couldn't explain the shadow I saw. \n",
      "It was April of 2011. My son, daughter-in-law, wife and I had been over at my in-laws having dinner. My son and his wife and their infant son had recently moved in with us. We were in the process of adding a new laundry room and garage on the back side of our house. When we came in from next door my son and his family were ahead of my wife and me by a minute or two. I noticed the lights to the new addition were on and figured that one of them had gone out to retrieve their laundry. I opened the back door and said is anyone out there. I didnt yell so I thought they might not have heard me. I stepped out on the patio and started walking toward the garage that didnt have a door hung yet. As I did I saw a dark figure at the back of our SUV. It scared me that there was someone in, or had just passed through our garage. Without saying another word I ran back into the house to get my 410 shotgun and let me son know to join me outside. This only took 30 seconds or less. I went back out but this time I was yelling if there is someone out there you better speak up or I am going to shoot you. My son joined me and we ran out into the yard both yelling for the person to identify themselves. We circled our house and saw nothing. It had rained earlier in the afternoon and evening and as we came back to re-enter our house confident that what I had seen ran away we noticed footprints on the concrete patio deck. These footprints at first looked like that of foot gloves people that fit each toe like a glove does the hand. But the thing that was conspicuous was the size. They were enormous. Not only long but wide, huge like that of what an NBA star might leave. (I say that because I have a pair of shoes owned by an NBA star that my nephew gave me who is on an NBA coaching staff.) My point, these were very large feet and very wide strides. It then dawned on me how large the figure I saw in the garage had to be. As stated I own an SUV and at the back part of the garage where I saw the figure the concrete starts to slope down from the garage. This figure I saw was head and shoulders over the top of the SUV and he (it) was already on the slope because he was not inside the garage when I saw him. I joked to my son and later to my family; you know that thing I saw that night was big enough to be a Sasquatch. We all laughed because we had not heard of any other Bigfoot sightings in lower Alabama. Then your show comes to television and I go on your site today and learn that there was indeed a Bigfoot sighting on Ft. Rucker back in the 90s by a solder. I live just five to six miles from the post. Im not convinced that what I saw should be reported to you but I do know that if it was a person I never want to see them again on a dark night in my yard because they are a very big person. Our house is in a rual country setting in Pinckard, AL with limited neighbors.  \n"
     ]
    }
   ],
   "source": [
    "for i in related_docs_indices:\n",
    "    print(sightings_df['observations'].iloc[i]) # Going step by step pulling up the most similar reports by index"
   ]
  },
  {
   "cell_type": "markdown",
   "metadata": {},
   "source": [
    "## Decompositions NMF (and SVD)\n",
    "- Unsupervised learning\n",
    "- Good for situations when there's some potentially valid grouping to both rows and columns, such as putting Joe and Sam in the same group because they like similar movies (as opposed to traditional supervised models where there are features and targets)\n",
    "- See 820pm solution to NMF for good soft classification and test of classification\n"
   ]
  },
  {
   "cell_type": "code",
   "execution_count": 8,
   "metadata": {},
   "outputs": [],
   "source": [
    "from sklearn.decomposition import NMF"
   ]
  },
  {
   "cell_type": "code",
   "execution_count": 28,
   "metadata": {},
   "outputs": [],
   "source": [
    "nmf = NMF(n_components=5, random_state=1)"
   ]
  },
  {
   "cell_type": "code",
   "execution_count": 29,
   "metadata": {},
   "outputs": [],
   "source": [
    "W = nmf.fit_transform(tfidf_vectorized)\n",
    "H = nmf.components_"
   ]
  },
  {
   "cell_type": "code",
   "execution_count": 30,
   "metadata": {},
   "outputs": [
    {
     "data": {
      "text/plain": [
       "array([[0.07913446, 0.        , 0.0943246 , 0.        , 0.04061488],\n",
       "       [0.08150579, 0.02538353, 0.00700339, 0.        , 0.05642254],\n",
       "       [0.03330436, 0.02974379, 0.02128057, 0.01979833, 0.        ],\n",
       "       ...,\n",
       "       [0.0867708 , 0.00722763, 0.00217752, 0.04459817, 0.05050635],\n",
       "       [0.07094695, 0.03922835, 0.02593946, 0.00778871, 0.0382518 ],\n",
       "       [0.04129261, 0.        , 0.        , 0.08748525, 0.        ]])"
      ]
     },
     "execution_count": 30,
     "metadata": {},
     "output_type": "execute_result"
    }
   ],
   "source": [
    "W"
   ]
  },
  {
   "cell_type": "code",
   "execution_count": 31,
   "metadata": {},
   "outputs": [
    {
     "data": {
      "text/plain": [
       "array([[0.10931832, 0.0841657 , 0.09510468, ..., 0.46675824, 0.23753402,\n",
       "        0.29082613],\n",
       "       [0.11385493, 0.07636192, 0.02571999, ..., 0.14082082, 0.16146908,\n",
       "        0.14633041],\n",
       "       [0.07536508, 0.00862649, 0.15892977, ..., 0.14377551, 0.07075344,\n",
       "        0.08158853],\n",
       "       [0.08055423, 0.08431972, 0.05443353, ..., 0.01840445, 0.14454432,\n",
       "        0.02289925],\n",
       "       [0.04083377, 0.        , 0.04191497, ..., 0.21305049, 0.10421994,\n",
       "        0.22408491]])"
      ]
     },
     "execution_count": 31,
     "metadata": {},
     "output_type": "execute_result"
    }
   ],
   "source": [
    "H"
   ]
  },
  {
   "cell_type": "code",
   "execution_count": 37,
   "metadata": {},
   "outputs": [],
   "source": [
    "topics = ['latent_topic_{}'.format(i) for i in range(5)]\n",
    "W = pd.DataFrame(W, index=sightings_df.observations, columns=topics)"
   ]
  },
  {
   "cell_type": "code",
   "execution_count": 39,
   "metadata": {},
   "outputs": [
    {
     "data": {
      "text/html": [
       "<div>\n",
       "<style scoped>\n",
       "    .dataframe tbody tr th:only-of-type {\n",
       "        vertical-align: middle;\n",
       "    }\n",
       "\n",
       "    .dataframe tbody tr th {\n",
       "        vertical-align: top;\n",
       "    }\n",
       "\n",
       "    .dataframe thead th {\n",
       "        text-align: right;\n",
       "    }\n",
       "</style>\n",
       "<table border=\"1\" class=\"dataframe\">\n",
       "  <thead>\n",
       "    <tr style=\"text-align: right;\">\n",
       "      <th></th>\n",
       "      <th>latent_topic_0</th>\n",
       "      <th>latent_topic_1</th>\n",
       "      <th>latent_topic_2</th>\n",
       "      <th>latent_topic_3</th>\n",
       "      <th>latent_topic_4</th>\n",
       "    </tr>\n",
       "    <tr>\n",
       "      <th>observations</th>\n",
       "      <th></th>\n",
       "      <th></th>\n",
       "      <th></th>\n",
       "      <th></th>\n",
       "      <th></th>\n",
       "    </tr>\n",
       "  </thead>\n",
       "  <tbody>\n",
       "    <tr>\n",
       "      <th>I am writing this because i think that i might have had a recent  experience with a bigfoot. I live in Springdale, Ar. Springdale is not very rugged as far as forest goes, but it can get pretty secluded in the right places. On october 10,2002 me and a friend set out on a trip to follow a creek to see how far it goes, because i followed this creek when i was young. This creek goes through springdale, and winds in through Elm springs,wheres theres nothing but dense trees on one side the left, and open fields, to the right-private properity. Well Elm springs is not a big city, and you would never know the surrundings where i was not unless you owend the properity.It was about 5:00 pm when i decided that it was time to try to get out of the creek and up on the bank,we had been walking about 2 hours in and out of the creek,and i decided that we could cover more ground on land before the sun went down. Now im about 5\"9 and i guess the creek bed must have been 7 foot high,so i had my friend C hoist my foot up while i got my knee up high enough to pull myself up.Now the original plan was to yank him up once on top,but looking back on it now i realize how foolish this was because i would had to be extremely strong,because i probably could have just have barely have had touched his fingertips from way up there,but it didnt matter because what i saw when i got on my feet scared the crap out of me. The best way to explain it is just to tell you that my heart sunk,and I was just extremely stunned. When i got to my feet i was facing nothing but dense forests or woods,somthing caught the corner of my eye about lets say 75 to 100 yards off. Just before getting a good enough look at it i could tell it was big and brown,now ive never seen a bear before out in the wild, so imediately i started to panic. I took one quick look down and figured i would break every bone in my legs if i were to jump,for the water was only maybe a foot deep, with all this happening in what i would say just about 2 seconds,and keep in mind i havent even been able to warn my friend yet of what i thought to be a charging bear, i look back to see this thing or whatever it was walking extremely fast! It was then i noticed that this couldnt have been a bear. I got a clear look at it for just a second.Ill never forget what i saw that day.I remember its head, real long head,i guess you could say it was shaped like an egg, i just know it wasnt like a humans, the eyes must have been dark because i couldnt make them out,i didnt reall notice a nose ether, but there was so much hair, it was hard to make anything out except for the head.The biggest thing ill never forget is the height and weight of this thing.It was so big,legs coverd with hair, so massive,that had to have been the biggest part of this thing,so wide,had to have been as wide as a refrigerator.In comparing the legs to my legs i would have to say each leg made two sets of both of my legs.The shouldars were massive,could have been three feet or over from shoulder to shoulder.I also remember how it walked, besides taking extremely wide steps, it kind of walked with its front body slightly hunched over,i dont know, like some one with bad posture.The height of this thing was astronomical.The tip of its head was in the tree tops!!! now dont get me wrong, the trees werent that tall, but they were at least 8 to 9 feet where the limbs started to curl out and i remember the head was up there with them, there is no way i could have jumped and touched the limbs, they were just to high up.So i would put whatever it was that i seen to be 8 to 9 foot tall. And looking back on it now, the frame could have easily held 500- 600 pounds,the arms on it looked long, and they swayed back in forth heavily,i do not recall a odor,or anything like that,for this thing was out of my view in about id say 5 to 7 seconds. Now i realize when i was getting up the creek bed, i had spooked the thing,because it sure didnt waste no time getting gone into the woods.And i was not about to follow it.So with all this said,i asked my friend if he had heard anything,which he said no because of the running water,and i guess because he was down there,and i said man,i just seen a monster go into the woods! ofcourse my facial feachure was very solemn and serious,but he still didnt believe me.I repeated this several times to him,and i guess he could tell by looking at my face i was serious.He later said my face looked white. With his help i got down back into the creek,but it did take a few minutes,and even then i wound up falling back down in the creek,luckly i wasnt hurt,just wet and scared,the sun was setting,and we jogged and trampled our way back,never once daring to go back up on land. We talked and thought better of muterring such foolishness around for fear of people thinking were nuts. Truthfuly,i dont even think he beleives me.But putting myself in his shoes i probably wouldnt either.But it doesnt matter, i know what i saw, so in closing i have ruled out the possbility of a hoax,1. why would somebody be out in the middle of nowhere in this kind of costume? 2. how would they know we were coming?3.how do you account for the height and size, it was easily a foot taller than any human ive ever seen.It was so tall,you cant duplicate that kind of height.Ihope someone reads this and takes it seriously because i dont know if ill ever go into the woods again.</th>\n",
       "      <td>0.134143</td>\n",
       "      <td>0.000000</td>\n",
       "      <td>0.019502</td>\n",
       "      <td>0.000000</td>\n",
       "      <td>0.019846</td>\n",
       "    </tr>\n",
       "    <tr>\n",
       "      <th>The following personal interview was conducted by Stan Courtney. The first name of the witness has been changed.Jennie -We lived out in the country on a farm. Some of it was hunting ground and some of it was left not hunting, like you weren't allowed to hunt on it. I would always walk through the non-hunting area. I would ride my four-wheeler part way and then walk across this area to go to a pond where I feed my fish. I drove my four-wheeler, parked it along the little dirt path, that was all in woods. I then walked out of the woods and onto the field that was like a corn field that had been cut down.Then, something screamed at me, like it was trying to scare me. I got so scared that I ducked down for a half hour and I thought, \"who is messing with me?\" I always wore camo, it wasn't hunting season at that point so I wasn't afraid to go on hunting ground.And the trees started shaking, like in a straight path. The tops of the trees were barely shaking but the middle of the trees were moving like something was slapping them or pushing against them. It just didn't make any sense that an animal would walk through and slap things. Stan - And how old were you?Jennie - I was nine years old and I was freaking out. I stood back up and walked to the fish ponds. Stan - And what time of day was this?Jennie - That was probably right before it got dark out. Because I went twice a day, right before it got light out in the morning and just before dark at night. And I carried a coffee can with me full of fish food. And I would shake it every time. It was like a rattle, and it was like someone knew I did that, but we didn't have neighbors. And nobody went out there unless they told us.I just remember getting yelled at, it was very high pitched, like a bunch of girls or a bunch of guys playing with me, it was like screaming from in the woods at me. And the tops of the trees were barely shaking but I was far enough out into the field to see the path that whatever or whoever it was I could see the trees moving as it passed through the woods.  It was like \"I scared her now I am going to move on.\"Stan - Did you have the impression it was hitting the trees?Jennie - I knew something was going through the trees, I assumed walking because the sound was coming from lower like it was screaming out and I couldn't explain it. It was so fast moving through the trees. All I know is that there were several trees in our woods and they were all moving one right after another. The leaves were moving on the very top of each tree and there was no wind and you could see it was a path. If it were a large animal it had to have its arms wrapped around the tree and shaking it, that is what I imagined.Stan - Anything else unusual happen at that same time?Jennie - Yes, I was at the pond, and I was looking at some fox holes along the embankment above the pond. I was climbing up the bank and was covered in mud. A big rock, larger than a bowling ball, just tumbled on the ground right next to me. And now that I think about it we've had other rocks thrown at us while at that embankment. Both of my sisters were with me, we were always getting rocks thrown at us at that embankment.Stan - And which direction did it come from?Jennie - Beyond the embankment, it landed right next to me, higher ground to lower ground. Stan - How much of the time did you think something else was out there?Jennie - Not every time I was out there but sometimes I thought something was following me or watching me.</th>\n",
       "      <td>0.131671</td>\n",
       "      <td>0.013964</td>\n",
       "      <td>0.000000</td>\n",
       "      <td>0.000000</td>\n",
       "      <td>0.000000</td>\n",
       "    </tr>\n",
       "    <tr>\n",
       "      <th>It's taken me a long time to share this story (about 7 years). My family, friends and I use to ride atv's very often, usually on the weekends. I had the biggest 4 wheeler so I usually stayed in the very back in case someone got into trouble or hung up, there was about 15 atv's. One night we were going through a classified forest called Kramers woods, which is an old growth forest with a tight winding trail and massive trees. As we went around a wet, muddy turn I seen the atv in front of mine, lights reflecting off the water hit something behind a tree that I was approaching. It looked hairy but I wasn't sure. Well, as I approached the tree while turning the atv left the thing (which was on my right) and I locked eyes. I'm 44 now so I would have been 37 at the time. I'm 6' tall 250lbs and rigid, I'm an old country boy and fear no man and could match or best most in strength, but this thing was no man, it was massive and was barely hiding behind this massive tree. It was tight against the tree with both hands flat on it and its chest tight against its hands. what happens next is very strange to me, but I know they are more than just an animal now, when he and I looked at each other we both knew he goofed and got caught in among that chain of atv's, I was instantly terrified but then instantly knew he was as scared as I was and wanted this situation to end. It was like we were in each others head and came to an agreement to just go on. My wife was riding with me so I never reacted because she would have screamed bloody murder if she would have seen it, it was 3 feet from us... I knew it was a male, just knew. He was at least 8 1/2' tall, I was the same height on my 4 wheeler as I was standing, and I looked way up at it. It's funny how small you feel, this thing could have easily have grabbed me, my wife or entire atv and threw us, that's how powerful it looked. I cant put to words how powerful it looked. I have gone online several times to try and see what i saw. Seen the white one on youtube but this one looked more human, people report red triangulated eyes, smelly &amp; long matted coat, this one was none of that. Its coat was brownish orange with 2-3\" straight hair. I could see greyish skin and muscle mass. there is no body builder on the planet with the size muscle mass this thing had. Not much of a neck but its head was huge, its eyes were 2-3 times bigger, but just like ours with whites and pupil. The whites of his eyes I'll never forget because his eyes were what I was stuck on the most, the rest of him was at a glance.  His mouth was very wide (4-5\") with its lips pulled tight from fear (just like us). As I pulled away he took one step and vanished. I was amazed at how he was just gone, that quick.</th>\n",
       "      <td>0.131008</td>\n",
       "      <td>0.000000</td>\n",
       "      <td>0.000000</td>\n",
       "      <td>0.004552</td>\n",
       "      <td>0.013304</td>\n",
       "    </tr>\n",
       "    <tr>\n",
       "      <th>I went to a favorite spot for the weekend to get some peace and quiet and hopefully a monster brown trout. Been going there for years fishing and camping. Not extremely remote but wild and beautiful none the less.Its actually an old home place that has long disappeared, nothing remains except the concrete foundation and a narrow overgrown road that was once the driveway.Was very cold the night before, mid 20s,but the sun was shining bright and it was starting to warm up. I made the relatively short hike down the old road bed to my spot by the river.I dropped my pack against a tree and went down the step embankment to the rivers edge to check out the water and soak up some sunshine to warm up.After a few minutes I heard what I thought was another fisherman or someone up above me where the old foundation was.I thought \"great,so much for peace and quiet, must be hardcore trout fisherman like me to be here in cold weather\". I walked back up the embankment expecting to see people,, what I saw in broad day light, probably 30-40yds directly in front of me was what I can only describe as what appeared to be a fully erect gorilla, except his face didn't protrude out,it was flatter,and the hair was the color of a squirrel, browns, black, silver &amp; a slight tint of red when the sun reflected off him.He was standing there, head slightly tilted back, squinting his eyes,soaking up the sunshine, just as I was.I couldn't comprehend what I was looking at at first. My first thought was \"what am I looking at?\".. Second thought was\" God,look how big he is\". It was incredibly muscular, at least 4ft wide at shoulders, 7-8ft in height,massive animal. The skin was a dark grayish color around the face, head was extremely pointed, like a dunce hat almost, no neck,large pectorals visible under the hair. Eye color was like a shade of amber. It was squinting in the bright sun, soaking up some warmth. He didn't really see me at first I don't think.I did kinda pop up over the embankment, I think he knew I was there but didn't really know where .He could have been trying to smell me. I watched this massive beautiful animal standing there in the bright sun for probably 15-20 seconds.I had a feeling of amazement, wonder &amp; actually privileged .I knew that what I was looking at was truly one of Gods immaculate creations. It was beautiful, big and scary as hell, but beautiful. Hair was clean, looked groomed almost. Very healthy animal. After 15-20 seconds of seeing this I actually stepped up over the embankment all the way in view and I said out loud something like \"hey big boy,ain't you a pretty thing!\" That's when it finally saw me. It dropped its head down &amp; froze. I could tell I surprised it. It wouldn't make eye contact. I could see its whole posture change. It became very shy&amp; acted like it was hoping that as long as it didn't look directly at me I wouldn't see him. It was like a bashful child.I took a few steps toward it and said \"hey big boy\" ,or something to that effect, and that was enough for him. He turned to his left and he was out of there. I could here the limbs &amp; leaves rustling as he made his getaway. He moved like a deer going up the mountain, fast fast. Didn't see him but I could hear him. After probably 5 seconds the rustling stopped and it was totally silent. Then I clearly hear what sounded like someone doing a drum roll with wooden sticks on a wooden table. Three\" brat-tat-tat-tat's,very quick, very clear, definitely not a woodpecker. No doubt in my mind it was him. He had traversed the mountain side and was on the ridgeline above me in no more than 5-10 seconds. Unbelievable. I never felt threatened, never felt afraid. Was a feeling of privilege &amp; respect. I set up camp and stayed at that spot for the night and all the next day but never saw it again. 'spent most of my life in those mountains walking feeder creeks,backpacking, fishing for brook trout.Thought I knew all there was to know.That day changed my life. Made me not only question my sanity &amp; eye sight  (I'm not crazy &amp; have 20/20 vision), but my understanding of the natural world .Ive been back several times but haven't seen him.</th>\n",
       "      <td>0.128392</td>\n",
       "      <td>0.018751</td>\n",
       "      <td>0.000000</td>\n",
       "      <td>0.015389</td>\n",
       "      <td>0.000000</td>\n",
       "    </tr>\n",
       "    <tr>\n",
       "      <th>I'm reporting this approximately 10 years after the fact.  My wife had asked me to re-tell my story to her this morning and that is what prompted us to stumble across this web site.  Late Fall 1997 (or possibly 1996).  I was coming out of my apartment's laundry facility, which is a seperate building not connected to the actual apartment buildings.  I must have heard something because I looked to my right and there it was, about 20 feet away.  The creture was about 5.5 to 6 feet tall. I'd guess it was aroung 200 lbs. There was no odor and it made no sound.  I saw it as it was rooting through a garbage dumpster.  In a matter of seconds my brain went through a kind of checklist to try to rationalize what I was seeing.  But it was not a bear, it was too slim in relation to its height.  It also moved in a way that was very human.  It was nighttime but there was a parking lot light on overhead.  I could see hair that was brown and about 4-7 inches in length. Unfortunately, primative survival instict and adreneline took over.  I bolted toward my apartment, running so fast that I lost my footing as I was going through a dip in the terrain.  I landed arms first and slid across a gravel covered road.  As I got to my feet I looked over my shoulder to see that it too had run and was about 200 feet from where we had met.I'm certain it was not an animal that is commonly known to people.  It was humanoid in appearence and movement.  The way it stopped what it was doing, turned its head and looked at me was freaky. Because of shadows I couldn't get a look at its face.  The incident didn't change my life or anything.  I hardly ever think about it...unless I look at my elbow.  I scraped it really bad when I fell running, and have a scar to this day.  When I first told this story to my wife she was very taken aback because she knows that I am a very rational and analytic person.</th>\n",
       "      <td>0.127687</td>\n",
       "      <td>0.003503</td>\n",
       "      <td>0.000000</td>\n",
       "      <td>0.028534</td>\n",
       "      <td>0.000000</td>\n",
       "    </tr>\n",
       "    <tr>\n",
       "      <th>...</th>\n",
       "      <td>...</td>\n",
       "      <td>...</td>\n",
       "      <td>...</td>\n",
       "      <td>...</td>\n",
       "      <td>...</td>\n",
       "    </tr>\n",
       "    <tr>\n",
       "      <th>We were coming home from our grandson's baseball game on State Route 39 west of Nashville, Ohio.  After passing State Route 179 and driving a short distance, something came out of a wooded area into a bean field and started to cross the road. The three of us saw it on the south side of the road just as it finished crossing the road. It turned and looked at us as we were passing and we could see it proceed up the bank into a wooded area.  There was another car in front of us that slowed down obviously since they saw the same thing.</th>\n",
       "      <td>0.000000</td>\n",
       "      <td>0.010333</td>\n",
       "      <td>0.000000</td>\n",
       "      <td>0.117843</td>\n",
       "      <td>0.000000</td>\n",
       "    </tr>\n",
       "    <tr>\n",
       "      <th>It was a loud piercing sound, that lasted approximately 22 minutes. These sounds were at 5 to 6 second intervals which lasted about 4 to 5 seconds each. At first there was one distinct sound, (screaming) but then there was an additional \"voice\" that was louder and screamed longer.Each time the sounds would be heard, neighboring dogs would bark; then when the sounds stopped so did the barking. At the end of the 22 minutes (this occurred from 10:04 p.m. to 10:26 p.m.) it became extremely quiet and the barking also stopped. I have heard other sounds that weren't near as \"scary\" as these sounds were. These were almost like a Halloween movie sound!Talked to the owners of the dogs, and they said their dogs were petrified after this incident. The dogs refused to come outside after hearing these sounds.</th>\n",
       "      <td>0.000000</td>\n",
       "      <td>0.128469</td>\n",
       "      <td>0.000000</td>\n",
       "      <td>0.000000</td>\n",
       "      <td>0.037481</td>\n",
       "    </tr>\n",
       "    <tr>\n",
       "      <th>This is not a sighting, but I believe I may have heard some of these creatures near my home last night.  My husband and I recently moved to a remote area of Fairfield County, SC near the Blair community.  The house we are renting has been vacant for quite some time and is near a thickly wooded area; our house backs up to the woods.  We finished moving in last Sunday.  There are no other homes in sight, though there are a few down the road from us.  We drive 23 miles to the nearest town for shopping.Last night (Monday, May 8) my husband and I were half watching TV, half dozing when it occurred to me the sounds I was hearing outside the back window were getting strange.  At first in the back of my mind I thought it was an owl; then I thought it must be the noisiest owl on record.  We are both hard of hearing and had the TV turned up pretty loud and the windows closed.  Then I realized it was more than one, and they were calling to one another, and seemed to be getting closer.I became alarmed around 11PM when one of our two dogs started barking in response to the noise.  They are on our enclosed back porch and we keep the door to the outside open so they can go out to a small enclosed yard area when they need to.  I went out to the porch and turned on the light, and they were very nervous and happy to see me.  After I calmed them down I stayed on the porch and listened in earnest.  What I heard sounded like a rhythmic hoo hoo hoo HOOOOOO, but unlike owl or dove sounds, it was very deep and loud, not at all birdlike.  My husband and I could not identify it, we kept saying \"is that coyote?  wolf?\"  and as soon as we would say it we would just shake our heads.  We both grew up and camped, hiked and traveled extensively in the West and know what coyote and wolf sound like.  We discerned there were at least three distinct voices fanned out - to the south of our house, directly behind, and to the north, all to the west (wooded) side.  Upon listening at length and discerning a pattern, which seemed to relate to our presence there somehow, I was concerned enough to lock the dogs up on the porch and turn on all the lights to the outside.  As the calling continued to move closer, the dogs cowered in the far corner of the porch.  We then realized our indoor cats had been missing all evening.  We found them up in our attic underneath boards we leaned against the wall in preparation for adding shelves there.  When we brought them down they ran right back up there and we didn't see them until morning.Also, the usual night sounds were absent.  Nothing else made a sound while this went on, and it lasted for at least two hours.  Towards the end, another call was so close I nearly panicked, and this one was making rapid hoo HOO noises interspersed with almost talking? sounds, while moving very quickly from the south to the north.  The others were answering rapid-fire.  I can't describe it any better than that, other than to say it wasn't yips or croaking or any of the normal animal sounds we hear out here, but very loud, deep and rapid and most certainly they were communicating with each other.  It was scary and intimidating, and if I had been in a camping situation I would have run for my life.My husband is a rural mail carrier out here and knows everyone.  He talked to several people today and they all said they have heard the sounds before but they don't know what they are either, most think they must be wild dogs. They can't be serious, if they have really listened.  But it doesn't surprise me.  I figure it must be this way with most people when confronted with something unknown and unexplainable, to come up with just about any explanation at hand and dismiss it. I decided to get on the Internet and see if I could find recordings of wild dogs and birds and find something similar.  After a day of searching I found the recordings of wolf and coyote here and the whooping and calls we heard most closely resembled the suspected bigfoot whoops on this site.</th>\n",
       "      <td>0.000000</td>\n",
       "      <td>0.106527</td>\n",
       "      <td>0.000183</td>\n",
       "      <td>0.009274</td>\n",
       "      <td>0.110413</td>\n",
       "    </tr>\n",
       "    <tr>\n",
       "      <th>(#1) late July - early August 1968 (#2) 11 August 1968, 8:30 P.M. (#3) 12 - 18 August 1968(#1) Residents in the area reported dogs barking louding and \"carrying on\" at night. (#2) Tim Bullock, 22, of West Frankfort, and his girlfriend, Barbara Smith, 17, of Carterville, sighted a \"creature\" while riding northeast of Chittyville.  Bullock reported the creature threw dirt at them through the window.  Smith saw it and started screaming.  She described it as \"huge\" -  about 10 feet tall, with a head as large as a steering wheel.  It appeared to be black, with a round \"hairy\" face.  They left the area and reported the incident to police.  Bullock returned the next day and found a depression in the grass, as if a large animal had rested or slept there. (#3) Bullock said a carhop at a Herrin drive-in restaurant told him that someone came into the drive-in \"hysterical\" and said they had seen the creature.  One other person reported they saw \"it\" near Rt. 148.</th>\n",
       "      <td>0.000000</td>\n",
       "      <td>0.001616</td>\n",
       "      <td>0.031945</td>\n",
       "      <td>0.060009</td>\n",
       "      <td>0.071783</td>\n",
       "    </tr>\n",
       "    <tr>\n",
       "      <th>On the afternoon of January 5th 2001, I discovered several footprints in the Yellow House Canyon of Lubbock Texas.  I took several photographs of the footprints.</th>\n",
       "      <td>0.000000</td>\n",
       "      <td>0.000000</td>\n",
       "      <td>0.048647</td>\n",
       "      <td>0.000000</td>\n",
       "      <td>0.032395</td>\n",
       "    </tr>\n",
       "  </tbody>\n",
       "</table>\n",
       "<p>4411 rows × 5 columns</p>\n",
       "</div>"
      ],
      "text/plain": [
       "                                                    latent_topic_0  \\\n",
       "observations                                                         \n",
       " I am writing this because i think that i might...        0.134143   \n",
       "The following personal interview was conducted ...        0.131671   \n",
       "It's taken me a long time to share this story (...        0.131008   \n",
       "I went to a favorite spot for the weekend to ge...        0.128392   \n",
       "I'm reporting this approximately 10 years after...        0.127687   \n",
       "...                                                            ...   \n",
       "We were coming home from our grandson's basebal...        0.000000   \n",
       "It was a loud piercing sound, that lasted appro...        0.000000   \n",
       "This is not a sighting, but I believe I may hav...        0.000000   \n",
       "(#1) late July - early August 1968 (#2) 11 Augu...        0.000000   \n",
       "On the afternoon of January 5th 2001, I discove...        0.000000   \n",
       "\n",
       "                                                    latent_topic_1  \\\n",
       "observations                                                         \n",
       " I am writing this because i think that i might...        0.000000   \n",
       "The following personal interview was conducted ...        0.013964   \n",
       "It's taken me a long time to share this story (...        0.000000   \n",
       "I went to a favorite spot for the weekend to ge...        0.018751   \n",
       "I'm reporting this approximately 10 years after...        0.003503   \n",
       "...                                                            ...   \n",
       "We were coming home from our grandson's basebal...        0.010333   \n",
       "It was a loud piercing sound, that lasted appro...        0.128469   \n",
       "This is not a sighting, but I believe I may hav...        0.106527   \n",
       "(#1) late July - early August 1968 (#2) 11 Augu...        0.001616   \n",
       "On the afternoon of January 5th 2001, I discove...        0.000000   \n",
       "\n",
       "                                                    latent_topic_2  \\\n",
       "observations                                                         \n",
       " I am writing this because i think that i might...        0.019502   \n",
       "The following personal interview was conducted ...        0.000000   \n",
       "It's taken me a long time to share this story (...        0.000000   \n",
       "I went to a favorite spot for the weekend to ge...        0.000000   \n",
       "I'm reporting this approximately 10 years after...        0.000000   \n",
       "...                                                            ...   \n",
       "We were coming home from our grandson's basebal...        0.000000   \n",
       "It was a loud piercing sound, that lasted appro...        0.000000   \n",
       "This is not a sighting, but I believe I may hav...        0.000183   \n",
       "(#1) late July - early August 1968 (#2) 11 Augu...        0.031945   \n",
       "On the afternoon of January 5th 2001, I discove...        0.048647   \n",
       "\n",
       "                                                    latent_topic_3  \\\n",
       "observations                                                         \n",
       " I am writing this because i think that i might...        0.000000   \n",
       "The following personal interview was conducted ...        0.000000   \n",
       "It's taken me a long time to share this story (...        0.004552   \n",
       "I went to a favorite spot for the weekend to ge...        0.015389   \n",
       "I'm reporting this approximately 10 years after...        0.028534   \n",
       "...                                                            ...   \n",
       "We were coming home from our grandson's basebal...        0.117843   \n",
       "It was a loud piercing sound, that lasted appro...        0.000000   \n",
       "This is not a sighting, but I believe I may hav...        0.009274   \n",
       "(#1) late July - early August 1968 (#2) 11 Augu...        0.060009   \n",
       "On the afternoon of January 5th 2001, I discove...        0.000000   \n",
       "\n",
       "                                                    latent_topic_4  \n",
       "observations                                                        \n",
       " I am writing this because i think that i might...        0.019846  \n",
       "The following personal interview was conducted ...        0.000000  \n",
       "It's taken me a long time to share this story (...        0.013304  \n",
       "I went to a favorite spot for the weekend to ge...        0.000000  \n",
       "I'm reporting this approximately 10 years after...        0.000000  \n",
       "...                                                            ...  \n",
       "We were coming home from our grandson's basebal...        0.000000  \n",
       "It was a loud piercing sound, that lasted appro...        0.037481  \n",
       "This is not a sighting, but I believe I may hav...        0.110413  \n",
       "(#1) late July - early August 1968 (#2) 11 Augu...        0.071783  \n",
       "On the afternoon of January 5th 2001, I discove...        0.032395  \n",
       "\n",
       "[4411 rows x 5 columns]"
      ]
     },
     "execution_count": 39,
     "metadata": {},
     "output_type": "execute_result"
    }
   ],
   "source": [
    "W.sort_values('latent_topic_0', axis=0, ascending=False)"
   ]
  },
  {
   "cell_type": "code",
   "execution_count": 40,
   "metadata": {},
   "outputs": [],
   "source": [
    "def sort_latent_and_collect_articles(n, articles):\n",
    "    headlines = {}\n",
    "    for i in range(n):\n",
    "        sorted_df = W.sort_values(f'latent_topic_{i}', ascending=False)\n",
    "        headlines[f'latent_topic_{i}'] = list(sorted_df.index[:articles])\n",
    "    return headlines"
   ]
  },
  {
   "cell_type": "code",
   "execution_count": 52,
   "metadata": {},
   "outputs": [],
   "source": [
    "from collections import Counter\n",
    "from nltk.corpus import stopwords\n",
    "\n",
    "def get_popular_words(topics):\n",
    "    latent_topics = {}\n",
    "    for key, value in topics.items():\n",
    "        words = ' '.join(topics[key]).lower().split()\n",
    "        stop_words = set(stopwords.words('english'))\n",
    "        stop_words.add('like')\n",
    "        filtered_words = []\n",
    "        for word in words:\n",
    "            if word not in stop_words:\n",
    "                filtered_words.append(word)\n",
    "        word_count = Counter(filtered_words)\n",
    "        first, second, third, fourth, fifth = word_count.most_common()[0][0], word_count.most_common()[1][0], word_count.most_common()[2][0], word_count.most_common()[3][0], word_count.most_common()[4][0]\n",
    "        latent_topics[key] = [first, second, third, fourth, fifth]\n",
    "    return latent_topics"
   ]
  },
  {
   "cell_type": "code",
   "execution_count": 53,
   "metadata": {},
   "outputs": [],
   "source": [
    "top_obs = sort_latent_and_collect_articles(5, 30)"
   ]
  },
  {
   "cell_type": "code",
   "execution_count": 54,
   "metadata": {},
   "outputs": [],
   "source": [
    "top_words = get_popular_words(top_obs)"
   ]
  },
  {
   "cell_type": "code",
   "execution_count": 55,
   "metadata": {},
   "outputs": [
    {
     "data": {
      "text/plain": [
       "{'latent_topic_0': ['would', 'see', 'could', 'back', 'one'],\n",
       " 'latent_topic_1': ['heard', 'sound', 'sounds', 'sounded', 'could'],\n",
       " 'latent_topic_2': ['tracks', 'area', 'found', 'track', 'inches'],\n",
       " 'latent_topic_3': ['road', 'creature', 'side', 'saw', 'road.'],\n",
       " 'latent_topic_4': ['back', 'house', 'said', 'one', 'went']}"
      ]
     },
     "execution_count": 55,
     "metadata": {},
     "output_type": "execute_result"
    }
   ],
   "source": [
    "top_words"
   ]
  },
  {
   "cell_type": "markdown",
   "metadata": {},
   "source": [
    "## Naive Bayes\n",
    "- Supervised learning method to assign class probabilities to a document\n",
    "- See 818PM NLP-pipeline-programming-net-example for using sklearn Naive Bayes classifier. See also 818PM lecture on text classification. Solutions to assignment contain a number of useful naive Bayes python functions"
   ]
  },
  {
   "cell_type": "code",
   "execution_count": 102,
   "metadata": {},
   "outputs": [],
   "source": [
    "counties = pd.read_csv('data/US_FIPS_Codes.csv', header=1)\n",
    "counties"
   ]
  },
  {
   "cell_type": "code",
   "execution_count": 32,
   "metadata": {},
   "outputs": [
    {
     "data": {
      "text/plain": [
       "0       I and two of my friends were bored one night s...\n",
       "1       Me and a couple of friends had been bored, whe...\n",
       "2       My hunting buddy and I were sitting on a ridge...\n",
       "3       To whom it may concern, I am a commercial fish...\n",
       "4       This is an excerpt from a short story I wrote ...\n",
       "                              ...                        \n",
       "4406    Dear BFRO Persons,     My family and I were st...\n",
       "4407        On 6-94 we visited Yellowstone National Pa...\n",
       "4408    I was delivering newspapers on a lightly snowi...\n",
       "4409    I was 19 years old at that time. I had just go...\n",
       "4410    I am not sure how relevant this report will be...\n",
       "Name: observations, Length: 4411, dtype: object"
      ]
     },
     "execution_count": 32,
     "metadata": {},
     "output_type": "execute_result"
    }
   ],
   "source": [
    "sightings_df.observations"
   ]
  },
  {
   "cell_type": "code",
   "execution_count": null,
   "metadata": {},
   "outputs": [],
   "source": []
  }
 ],
 "metadata": {
  "kernelspec": {
   "display_name": "Python 3",
   "language": "python",
   "name": "python3"
  },
  "language_info": {
   "codemirror_mode": {
    "name": "ipython",
    "version": 3
   },
   "file_extension": ".py",
   "mimetype": "text/x-python",
   "name": "python",
   "nbconvert_exporter": "python",
   "pygments_lexer": "ipython3",
   "version": "3.7.3"
  }
 },
 "nbformat": 4,
 "nbformat_minor": 4
}
