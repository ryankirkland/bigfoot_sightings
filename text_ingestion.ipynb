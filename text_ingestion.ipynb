{
 "cells": [
  {
   "cell_type": "code",
   "execution_count": 4,
   "metadata": {},
   "outputs": [],
   "source": [
    "import json\n",
    "import pandas as pd\n",
    "import numpy as np\n",
    "from bs4 import BeautifulSoup\n",
    "\n",
    "# TODO: this doesn't scale well and doesn't help with looking at the data.\n",
    "#       Possible solutions: load into pandas dataframe or mongodb, maybe both.\n",
    "reports = []\n",
    "with open('bigfoot_data.json') as f:\n",
    "    for i in f:\n",
    "        reports.append(json.loads(i))"
   ]
  },
  {
   "cell_type": "code",
   "execution_count": 52,
   "metadata": {},
   "outputs": [],
   "source": [
    "soup = BeautifulSoup(reports[1]['html'])"
   ]
  },
  {
   "cell_type": "code",
   "execution_count": 53,
   "metadata": {},
   "outputs": [
    {
     "data": {
      "text/plain": [
       "<!DOCTYPE html PUBLIC \"-//w3c//dtd html 4.0 transitional//en\">\n",
       "<html>\n",
       "<head>\n",
       "<meta content=\"IE=EmulateIE7\" http-equiv=\"X-UA-Compatible\"/>\n",
       "<meta content=\"text/html; charset=utf-8\" http-equiv=\"Content-Type\"/>\n",
       "<meta content=\"bigfoot, big foot, BigFoot, BFRO, Bigfoot research, sightings database, organizations, Organization, sightings, lists, locations, areas, reports, report, ape, apes, forest, giant, giants, monster, monsters, swamp, creek, Florida, Skunk Ape Florida Skuk Ape, Abominable Snowman, Agogwe, Almasti, Batutut-Borneo, Didi, Dwendi, Kakundakari, Kung-Lu, Mapinguary, Muhalu, sasquatch, sasquach, Sedapa, Orang Pendek, Shiru, Sisimite, Skunk Ape, Tok- Burma, Yeti, Yowie, cryptozoology, animals, strange, glowing eyes, foot prints, cast, tracks, fottprint cast, hairy, beast, mystery, paranormal, ufo, x-files, xfiles, bionic woman, sightings, sighting, IVBC, Byrne, report, howl, scream, primate, everglades, Florida Everglades, swamp, Gigantopithecus, missing link, missing, link, anthropology, skunk, monkey, foot, big, encounters, eyewitness reports, North America, Submit a report, reports, Submit an Article, Submit Comments, theories, research projects, track, cast, investigation, hair, microscopy analysis, field research journals, the Gigantopithecus Theory, Sasquatching Equipment, Sasquatching Tips for Collecting Evidence, photograph, tracks, physical evidence, Sounds, Photos\" name=\"KEYWORDS\"/>\n",
       "<title>BFRO Report 8792: Four nocturnal hikers get pelted with snow near Anchorage</title>\n",
       "<script language=\"Javascript\" src=\"/fade.js\"></script>\n",
       "<script type=\"text/javascript\">\n",
       "\t\tfunction runLogo() {\n",
       "\t\t\tvar logo = document.getElementById(\"logo\");\n",
       "\t\t\tif(logo != null)\n",
       "\t\t\t{\n",
       "\t\t\t\tlogo.src=logo.src + 'a;'\n",
       "\t\t\t}\n",
       "\t\t}\n",
       "\t\t\n",
       "\t\t</script>\n",
       "<!-- /Flash Browser Detection Script -->\n",
       "<link href=\"/bfro_v2.css\" rel=\"STYLESHEET\" type=\"text/css\"/>\n",
       "<link href=\"http://www.bfro.net/favicon.ico\" rel=\"SHORTCUT ICON\"/>\n",
       "</head>\n",
       "<body bgcolor=\"#000000\" leftmargin=\"0\" onload=\"runLogo()\" topmargin=\"0\">\n",
       "<script>\n",
       "\t\t\t<!--\n",
       "\t\t\t\tif (document.images) \n",
       "\t\t\t\t{\n",
       "\t\t\t\t\tb_Media_Articles = new Image();\n",
       "\t\t\t\t\tb_Media_Articles.src = \"/images/templates/b-Media%20Articles_hl.jpg\";\n",
       "\t\t\t\t\tb_Media_Articles_orig = new Image();\n",
       "\t\t\t\t\tb_Media_Articles_orig.src = \"/images/templates/b-Media%20Articles.jpg\";\n",
       "\t\t\t\t\tb_ReportForm = new Image();\n",
       "\t\t\t\t\tb_ReportForm.src = \"/images/templates/b-Report%20Form_hl.jpg\";\n",
       "\t\t\t\t\tb_ReportForm_orig = new Image();\n",
       "\t\t\t\t\tb_ReportForm_orig.src = \"/images/templates/b-Report%20Form.jpg\";\n",
       "\t\t\t\t\tb_Home = new Image();\n",
       "\t\t\t\t\tb_Home.src = \"/images/templates/b-Home_hl.jpg\";\n",
       "\t\t\t\t\tb_Home_orig = new Image();\n",
       "\t\t\t\t\tb_Home_orig.src = \"/images/templates/b-Home.jpg\";\n",
       "\t\t\t\t}\n",
       "\n",
       "\t\t\t\tfunction turnOn(imageName) \n",
       "\t\t\t\t{\n",
       "\t\t\t\t\tif (document.images) \n",
       "\t\t\t\t\t{\n",
       "\t\t\t\t\t\tdocument[imageName].src = eval(imageName + \".src\");  \n",
       "\t\t\t\t\t}\n",
       "\t\t\t\t}\n",
       "\n",
       "\t\t\t\tfunction turnOff(imageName) \n",
       "\t\t\t\t{  \n",
       "\t\t\t\t\tif (document.images) \n",
       "\t\t\t\t\t{\n",
       "\t\t\t\t\t\t\tdocument[imageName].src = eval(imageName + \"_orig.src\");  \n",
       "\t\t\t\t\t}\n",
       "\t\t\t\t}\n",
       "\t\t\t\t-->\n",
       "\t\t\t</script>\n",
       "<script language=\"JavaScript1.2\" src=\"/images/templates/bfro_data.asp\"></script>\n",
       "<script language=\"JavaScript1.2\" src=\"/images/templates/dqm_script.js\"></script>\n",
       "<table align=\"left\" border=\"0\" cellpadding=\"0\" cellspacing=\"0\" width=\"780\">\n",
       "<tr>\n",
       "<td align=\"middle\" valign=\"top\" width=\"130\">\n",
       "<table align=\"left\" border=\"0\" cellpadding=\"0\" cellspacing=\"0\" width=\"130\">\n",
       "<tr>\n",
       "<td align=\"middle\" height=\"130\" width=\"130\">\n",
       "<a href=\"/\"><img alt=\"Bigfoot Field Researchers Organization Logo\" border=\"0\" height=\"130\" id=\"logo\" onmouseover=\"runLogo();\" src=\"/images/templates/LogoSpin.gif?\" width=\"130\"/></a>\n",
       "<noscript> <a href=\"/\"><img alt=\"Bigfoot Field Researchers Organization Logo\" border=\"0\" height=\"130\" onmouseover=\"runLogo();\" src=\"/images/templates/LogoSpin.gif?\" width=\"130\"/></a>\n",
       "</noscript> </td>\n",
       "</tr>\n",
       "<tr>\n",
       "<td align=\"left\" valign=\"top\">\n",
       "<table border=\"0\" cellpadding=\"0\" cellspacing=\"0\">\n",
       "<tr>\n",
       "<td colspan=\"2\"><img height=\"15\" src=\"/images/templates/Outline_01.gif\" width=\"130\"/></td>\n",
       "</tr>\n",
       "<tr>\n",
       "<td><img height=\"20\" src=\"/images/templates/Outline_02.gif\" width=\"15\"/></td>\n",
       "<td><a href=\"/\" onmouseout=\"turnOff('b_Home');\" onmouseover=\"turnOn('b_Home');\"><img border=\"0\" height=\"20\" name=\"b_Home\" src=\"/images/templates/b-Home.jpg\" width=\"130\"/></a></td>\n",
       "</tr>\n",
       "<tr>\n",
       "<td><img height=\"20\" src=\"/images/templates/Outline_02.gif\" width=\"15\"/></td>\n",
       "<td><a href=\"/\"><img border=\"0\" height=\"20\" id=\"menu0\" name=\"menu0\" onmouseout=\"hideMenu(event)\" onmouseover=\"showMenu(event)\" src=\"/images/templates/b-Features.jpg\" width=\"130\"/></a></td>\n",
       "</tr>\n",
       "<tr>\n",
       "<td><img height=\"20\" src=\"/images/templates/Outline_02.gif\" width=\"15\"/></td>\n",
       "<td><a href=\"/GDB/\"><img border=\"0\" height=\"20\" id=\"menu1\" name=\"menu1\" onmouseout=\"hideMenu(event)\" onmouseover=\"showMenu(event)\" src=\"/images/templates/b-Reports.jpg\" width=\"130\"/></a></td>\n",
       "</tr>\n",
       "<tr>\n",
       "<td><img height=\"20\" src=\"/images/templates/Outline_02.gif\" width=\"15\"/></td>\n",
       "<td><a href=\"/GDB/newart.asp\" onmouseout=\"turnOff('b_Media_Articles');\" onmouseover=\"turnOn('b_Media_Articles');\"><img border=\"0\" height=\"20\" name=\"b_Media_Articles\" src=\"/images/templates/b-Media%20Articles.jpg\" width=\"130\"/></a></td>\n",
       "</tr>\n",
       "<tr>\n",
       "<td><img height=\"20\" src=\"/images/templates/Outline_02.gif\" width=\"15\"/></td>\n",
       "<td><a href=\"/GDB/submitfm.asp\" onmouseout=\"turnOff('b_ReportForm');\" onmouseover=\"turnOn('b_ReportForm');\"><img border=\"0\" height=\"20\" name=\"b_ReportForm\" src=\"/images/templates/b-Report%20Form.jpg\" width=\"130\"/></a></td>\n",
       "</tr>\n",
       "<tr>\n",
       "<td><img height=\"20\" src=\"/images/templates/Outline_02.gif\" width=\"15\"/></td>\n",
       "<td><a href=\"/gdb/show_fAQ.asp?id=405\"><img border=\"0\" height=\"20\" id=\"menu2\" name=\"menu2\" onmouseout=\"hideMenu(event)\" onmouseover=\"showMenu(event)\" src=\"/images/templates/b-FAQs.jpg\" width=\"130\"/></a></td>\n",
       "</tr>\n",
       "<tr>\n",
       "<td><img height=\"20\" src=\"/images/templates/Outline_02.gif\" width=\"15\"/></td>\n",
       "<td><a href=\"/GDB/theories.asp\"><img border=\"0\" height=\"20\" id=\"menu3\" name=\"menu3\" onmouseout=\"hideMenu(event)\" onmouseover=\"showMenu(event)\" src=\"/images/templates/b-Departments.jpg\" width=\"130\"/></a></td>\n",
       "</tr>\n",
       "<tr>\n",
       "<td colspan=\"2\"><img height=\"15\" src=\"/images/templates/Outline_05.gif\" width=\"130\"/></td>\n",
       "</tr>\n",
       "</table>\n",
       "</td>\n",
       "</tr>\n",
       "<tr align=\"left\" bordercolor=\"3\">\n",
       "<td style=\"padding-right: 13px; padding-left: 13px; font-size: 10pt\">\n",
       "<div align=\"left\"> <br/>\n",
       "<br/>\n",
       "</div>\n",
       "</td></tr>\n",
       "<tr>\n",
       "<td><a href=\"http://www.bfro.net/news/townhall.asp\"><img alt=\"townhall\" border=\"3\" height=\"141\" src=\"http://www.bfro.net/gdb/images/townhall_sidebar.gif\" width=\"135\"/></a><br/><br/><br/>\n",
       "<a href=\"http://www.bfro.net/news/roundup/expeds_2017.asp\">\n",
       "<img alt=\"expeds\" border=\"3\" height=\"127\" src=\"http://www.bfro.net/gdb/images/exped_2017_map_sidebar.gif\" width=\"135\"/></a><br/>\n",
       "<!--<br>\n",
       "<br><br>\n",
       "<a href=\"http://www.bfro.net/merchandise/catalog.asp\"><img src=\"http://www.bfro.net/gdb/images/bfro_store_margin_banner.gif\" alt=\"store\" width=\"135\" height=\"81\" border=\"3\"></a>-->\n",
       "<br/>\n",
       "<br/>\n",
       "<a href=\"http://www.bfro.net/merchandise/catalog.asp\"><img alt=\"store\" border=\"3\" height=\"148\" src=\"http://www.bfro.net/gdb/images/margin_icon_store.gif\" width=\"135\"/></a><br/>\n",
       "<br/><br/><br/>\n",
       "<div id=\"google_translate_element\"></div><script>\n",
       "function googleTranslateElementInit() {\n",
       "  new google.translate.TranslateElement({\n",
       "    pageLanguage: 'en'\n",
       "  }, 'google_translate_element');\n",
       "}\n",
       "</script><script src=\"//translate.google.com/translate_a/element.js?cb=googleTranslateElementInit\"></script>\n",
       "<br/><br/>\n",
       "<!-- AddThis Button BEGIN -->\n",
       "<div class=\"addthis_toolbox addthis_default_style\">\n",
       "<a class=\"addthis_button_preferred_1\"></a>\n",
       "<a class=\"addthis_button_preferred_2\"></a>\n",
       "<a class=\"addthis_button_preferred_3\"></a>\n",
       "<a class=\"addthis_button_preferred_4\"></a>\n",
       "<a class=\"addthis_button_compact\"></a>\n",
       "<a class=\"addthis_counter addthis_bubble_style\"></a>\n",
       "</div>\n",
       "<script type=\"text/javascript\">var addthis_config = {\"data_track_clickback\":true};</script>\n",
       "<script src=\"http://s7.addthis.com/js/250/addthis_widget.js#pubid=ra-4e017f48386f7ed9\" type=\"text/javascript\"></script>\n",
       "<!-- AddThis Button END -->\n",
       "</td></tr>\n",
       "</table>\n",
       "<!-- BEGIN CONTENT SECTION -->\n",
       "</td>\n",
       "<td>\n",
       "<img align=\"\" height=\"400\" src=\"/images/templates/spacer.gif\" width=\"1\"/>\n",
       "</td>\n",
       "<td align=\"left\" valign=\"top\">\n",
       "<table bgcolor=\"#003333\" border=\"0\" cellpadding=\"14\" cellspacing=\"5\" id=\"Table1\" width=\"100%\">\n",
       "<tr><td>\n",
       "<span style=\"font-size: 10pt\"><a href=\"/gdb/\">Geographical Index</a> &gt; <a href=\"/gdb/#usa\">United States</a> &gt; <a href=\"/GDB/state_listing.asp?state=AK\">Alaska</a> &gt; <a href=\"/GDB/show_county_reports.asp?state=AK&amp;county=Anchorage\">Anchorage County</a> &gt; Report # 8792<br/> <br/></span>\n",
       "<span class=\"reportheader\">Report # 8792</span>  <span class=\"reportclassification\">(Class B)</span>\n",
       "<br/>\n",
       "<span class=\"field\">Submitted  by  witness   on Thursday, June 3, 2004.</span>\n",
       "<hr color=\"#009900\" noshade=\"\" size=\"5\"/>\n",
       "<span class=\"field\">Four nocturnal hikers get pelted with snow near Anchorage</span>\n",
       "<hr color=\"#009900\" noshade=\"\" size=\"5\"/>\n",
       "<span style=\"font-size:10pt\"><a href=\"/GDB/show_report.asp?ID=8792&amp;PrinterFriendly=True\">(Show Printer-friendly Version)</a></span>\n",
       "<p><span class=\"field\">YEAR:</span> 2003</p>\n",
       "<p><span class=\"field\">SEASON:</span> Winter</p><p><span class=\"field\">MONTH:</span> December</p><p><span class=\"field\">DATE:</span> Friday night</p><p><span class=\"field\">STATE:</span> <a href=\"/GDB/state_listing.asp?state=AK\">Alaska</a></p><p><span class=\"field\">COUNTY:</span> <a href=\"/GDB/show_county_reports.asp?state=AK&amp;county=Anchorage\">Anchorage County</a></p><p><span class=\"field\">LOCATION DETAILS:</span> Few houses on the way, a power relay station. To get to it our way, go down Dowling Road(left off of Lake Otis), where you will walk a trail. Follow it all the way down, but there are multiple entrances and trails.</p><p><span class=\"field\">NEAREST TOWN:</span> Anchorage</p><p><span class=\"field\">NEAREST ROAD:</span> Dowling</p><p><span class=\"field\">OBSERVED:</span> Me and a couple of friends had been bored, when I decided we should take a walk through the woods behind my house. I didn't think much of it, as me and my friend have done it many times before. There were four of us, and we set out at about 11 o'clock at night. It was rather dark, but there was light from the moon. The weather was rather cold, as we did this in the winter. The area we walked on was game trails (trails that moose walk on) as well as trails used for mushers, runners, cross country skiiers, and that sort. We had walked about 2 miles from my house to another entrance where most people enter. On the way we had talked about unexplainable events or things such as bigfoot, and UFOs. When we reached the bridge where most people come in, one friend had smoked a cigarette. We then saw a light and decided to go on. On the way back, we heard wild dogs barking wildly, and decided to pick up the speed. It eventually became a sprint, whereafter we walked. When we walked, we continued talking about it. It was then I had realized, some thing had been following us, as well as testing us, or even harassing us. It was much earlier, I just didnt think about it. I had thought it was my friend Warren, who is sometimes clumsy. I had thought it was him who had made noises such as slipping, but it was really something throwing stuff at us. I had realized this about half way back. I asked if Warren kept slipping, when he told me it wasn't, and he thought I could have been pulling a prank. We stopped for a minute to listen when I told the others something strange was going on. We stopped, and shone a flashlight around, hearing noises such as steps, and branches moving and breaking. The leader had thought I had been playing a joke when I told him seriously, I wasn't. He decided to walk behind with me, when something threw snowballs, and nearly hit us on many occasions. It was then he realized that this was no joke, and we picked up a light jog, for most of the way. When we were almost out of the woods, we had again heard dogs, and maybe 20 ft away, the branches breaking, and again, something throwing stuff at us. By the time we left, it was about 3-3:30 in the morning. I did not go directly to my house because I didn't know if it was still following us. I know this was not a prank because the snow is more then 5 ft deep in the woods, and someone would have a extremely hard time to play a prank like that. </p><p><span class=\"field\">ALSO NOTICED:</span> We smelled of colonge and after shave, and one of them smoked.(Warren)</p><p><span class=\"field\">OTHER WITNESSES:</span> 4. Me, w-man, warren and sean. We were at my house thinking of what we could do because we were so bored.</p><p><span class=\"field\">OTHER STORIES:</span> no</p><p><span class=\"field\">TIME AND CONDITIONS:</span> Started at 11, ended at about 3-3:30. Weather was cold, no clouds, and temp. maybe in the high teens. Visible lighting from moon.</p><p><span class=\"field\">ENVIRONMENT:</span> A pine forest, with a bog or swamp on the right, after you first enter from dowling. on the way their is a creek, and towards the bridge, is Campbell Creek. Some of us had cologne on, and I had shaved earlier that day, and smelled of aftershave.</p>\n",
       "<hr color=\"#009900\" noshade=\"\" size=\"5\"/>\n",
       "<p>Follow-up investigation report by BFRO Investigator Dr. Wolf H. Fahrenbach:</p>\n",
       "<blockquote>\n",
       "<p>The area under consideration is at the eastern edge of Anchorage and is continuous with the substantial mountain ranges in that direction (Chugach Mountains). Apparently, there is no leash law in Anchorage and often dogs form packs. The items thrown at the the four seemed to be clods of hard snow, as some ice crust was present in places. The participants also detected a rank aroma, partly carcass in nature.The moon on that the date and time listed was about 85% full.</p>\n",
       "</blockquote>\n",
       "<hr color=\"#009900\" noshade=\"\" size=\"5\"/>\n",
       "<ul>\n",
       "<li><a href=\"/gdb/classify.asp\">Explanation of the report classification system</a></li>\n",
       "<li><a href=\"/GDB/submitfm.asp\">Submit a report for the sightings database</a></li>\n",
       "<!--<li><a href=\"/GDB/comments.asp?CommentURL=http%3A%2F%2Fwww%2Ebfro%2Enet%2FGDB%2Fshow%5Freport%2Easp%3Fid%3D8792\">Submit a comment or article</a></li>-->\n",
       "<li>Please send any comments or inquiries to Contact@BFRO.net</li>\n",
       "</ul>\n",
       "</td></tr></table><br/> \n",
       "\n",
       "\t\t\t\t\t<!-- END CONTENT SECTION -->\n",
       "</td>\n",
       "</tr>\n",
       "<tr>\n",
       "<td colspan=\"2\" width=\"131\"><img height=\"1\" src=\"/images/templates/spacer.gif\" width=\"131\"/></td>\n",
       "<td align=\"left\">  <span class=\"smallprint\">Copyright © 2017<!--2017--> BFRO.net</span>\n",
       "<br/> \n",
       "\t\t\t\t<br/><img height=\"1\" src=\"/images/templates/spacer.gif\" wwidth=\"649\"/></td></tr>\n",
       "</table>\n",
       "<script type=\"text/javascript\">runLogo();</script>\n",
       "</body>\n",
       "</html>"
      ]
     },
     "execution_count": 53,
     "metadata": {},
     "output_type": "execute_result"
    }
   ],
   "source": [
    "soup"
   ]
  },
  {
   "cell_type": "markdown",
   "metadata": {},
   "source": [
    "#### Report Header\n",
    "\n",
    "<span class=\"reportheader\">Report # 13038</span>  <span class=\"reportclassification\">(Class A)</span>\n",
    "\n",
    "#### Report Date\n",
    "\n",
    "<span class=\"field\">Submitted  by  witness   on Saturday, November 12, 2005.</span>\n",
    "\n",
    "\n",
    "#### Report Title\n",
    "\n",
    "<span class=\"field\">Snowmobiler has encounter in deep snow near Potter, AK</span>\n",
    "\n",
    "#### Sighting Year\n",
    "<p><span class=\"field\">YEAR:</span> 2004</p>\n",
    "\n",
    "#### Season\n",
    "<p><span class=\"field\">SEASON:</span> Winter</p>\n",
    "\n",
    "#### Month\n",
    "<p><span class=\"field\">MONTH:</span> February</p>\n",
    "\n",
    "#### State\n",
    "<span class=\"field\">STATE:</span> <a href=\"/GDB/state_listing.asp?state=AK\">Alaska</a></p>"
   ]
  },
  {
   "cell_type": "code",
   "execution_count": 54,
   "metadata": {},
   "outputs": [
    {
     "data": {
      "text/plain": [
       "'(Class B)'"
      ]
     },
     "execution_count": 54,
     "metadata": {},
     "output_type": "execute_result"
    }
   ],
   "source": [
    "classification = soup.find('span', attrs={'class': 'reportclassification'})\n",
    "classification.text"
   ]
  },
  {
   "cell_type": "code",
   "execution_count": 55,
   "metadata": {},
   "outputs": [],
   "source": [
    "fields = soup.findAll('span', attrs={'class': 'field'})"
   ]
  },
  {
   "cell_type": "code",
   "execution_count": 56,
   "metadata": {},
   "outputs": [],
   "source": [
    "fields[0:2]\n",
    "submission_date = fields[0].text\n",
    "submission_title = fields[1].text"
   ]
  },
  {
   "cell_type": "code",
   "execution_count": 57,
   "metadata": {},
   "outputs": [],
   "source": [
    "paragraphs = soup.findAll('p')"
   ]
  },
  {
   "cell_type": "code",
   "execution_count": 58,
   "metadata": {},
   "outputs": [
    {
     "data": {
      "text/plain": [
       "[<p><span class=\"field\">YEAR:</span> 2003</p>,\n",
       " <p><span class=\"field\">SEASON:</span> Winter</p>,\n",
       " <p><span class=\"field\">MONTH:</span> December</p>,\n",
       " <p><span class=\"field\">DATE:</span> Friday night</p>,\n",
       " <p><span class=\"field\">STATE:</span> <a href=\"/GDB/state_listing.asp?state=AK\">Alaska</a></p>,\n",
       " <p><span class=\"field\">COUNTY:</span> <a href=\"/GDB/show_county_reports.asp?state=AK&amp;county=Anchorage\">Anchorage County</a></p>,\n",
       " <p><span class=\"field\">LOCATION DETAILS:</span> Few houses on the way, a power relay station. To get to it our way, go down Dowling Road(left off of Lake Otis), where you will walk a trail. Follow it all the way down, but there are multiple entrances and trails.</p>,\n",
       " <p><span class=\"field\">NEAREST TOWN:</span> Anchorage</p>,\n",
       " <p><span class=\"field\">NEAREST ROAD:</span> Dowling</p>,\n",
       " <p><span class=\"field\">OBSERVED:</span> Me and a couple of friends had been bored, when I decided we should take a walk through the woods behind my house. I didn't think much of it, as me and my friend have done it many times before. There were four of us, and we set out at about 11 o'clock at night. It was rather dark, but there was light from the moon. The weather was rather cold, as we did this in the winter. The area we walked on was game trails (trails that moose walk on) as well as trails used for mushers, runners, cross country skiiers, and that sort. We had walked about 2 miles from my house to another entrance where most people enter. On the way we had talked about unexplainable events or things such as bigfoot, and UFOs. When we reached the bridge where most people come in, one friend had smoked a cigarette. We then saw a light and decided to go on. On the way back, we heard wild dogs barking wildly, and decided to pick up the speed. It eventually became a sprint, whereafter we walked. When we walked, we continued talking about it. It was then I had realized, some thing had been following us, as well as testing us, or even harassing us. It was much earlier, I just didnt think about it. I had thought it was my friend Warren, who is sometimes clumsy. I had thought it was him who had made noises such as slipping, but it was really something throwing stuff at us. I had realized this about half way back. I asked if Warren kept slipping, when he told me it wasn't, and he thought I could have been pulling a prank. We stopped for a minute to listen when I told the others something strange was going on. We stopped, and shone a flashlight around, hearing noises such as steps, and branches moving and breaking. The leader had thought I had been playing a joke when I told him seriously, I wasn't. He decided to walk behind with me, when something threw snowballs, and nearly hit us on many occasions. It was then he realized that this was no joke, and we picked up a light jog, for most of the way. When we were almost out of the woods, we had again heard dogs, and maybe 20 ft away, the branches breaking, and again, something throwing stuff at us. By the time we left, it was about 3-3:30 in the morning. I did not go directly to my house because I didn't know if it was still following us. I know this was not a prank because the snow is more then 5 ft deep in the woods, and someone would have a extremely hard time to play a prank like that. </p>,\n",
       " <p><span class=\"field\">ALSO NOTICED:</span> We smelled of colonge and after shave, and one of them smoked.(Warren)</p>,\n",
       " <p><span class=\"field\">OTHER WITNESSES:</span> 4. Me, w-man, warren and sean. We were at my house thinking of what we could do because we were so bored.</p>,\n",
       " <p><span class=\"field\">OTHER STORIES:</span> no</p>,\n",
       " <p><span class=\"field\">TIME AND CONDITIONS:</span> Started at 11, ended at about 3-3:30. Weather was cold, no clouds, and temp. maybe in the high teens. Visible lighting from moon.</p>,\n",
       " <p><span class=\"field\">ENVIRONMENT:</span> A pine forest, with a bog or swamp on the right, after you first enter from dowling. on the way their is a creek, and towards the bridge, is Campbell Creek. Some of us had cologne on, and I had shaved earlier that day, and smelled of aftershave.</p>,\n",
       " <p>Follow-up investigation report by BFRO Investigator Dr. Wolf H. Fahrenbach:</p>,\n",
       " <p>The area under consideration is at the eastern edge of Anchorage and is continuous with the substantial mountain ranges in that direction (Chugach Mountains). Apparently, there is no leash law in Anchorage and often dogs form packs. The items thrown at the the four seemed to be clods of hard snow, as some ice crust was present in places. The participants also detected a rank aroma, partly carcass in nature.The moon on that the date and time listed was about 85% full.</p>]"
      ]
     },
     "execution_count": 58,
     "metadata": {},
     "output_type": "execute_result"
    }
   ],
   "source": [
    "paragraphs"
   ]
  },
  {
   "cell_type": "code",
   "execution_count": 60,
   "metadata": {},
   "outputs": [
    {
     "data": {
      "text/plain": [
       "'DATE: Friday night'"
      ]
     },
     "execution_count": 60,
     "metadata": {},
     "output_type": "execute_result"
    }
   ],
   "source": [
    "state = paragraphs[3].text\n",
    "state"
   ]
  },
  {
   "cell_type": "code",
   "execution_count": 61,
   "metadata": {},
   "outputs": [
    {
     "data": {
      "text/plain": [
       "'MONTH: December'"
      ]
     },
     "execution_count": 61,
     "metadata": {},
     "output_type": "execute_result"
    }
   ],
   "source": [
    "date = paragraphs[2].text\n",
    "date"
   ]
  },
  {
   "cell_type": "code",
   "execution_count": 63,
   "metadata": {},
   "outputs": [
    {
     "data": {
      "text/plain": [
       "'STATE: Alaska'"
      ]
     },
     "execution_count": 63,
     "metadata": {},
     "output_type": "execute_result"
    }
   ],
   "source": [
    "county = paragraphs[4].text\n",
    "county"
   ]
  },
  {
   "cell_type": "code",
   "execution_count": 32,
   "metadata": {},
   "outputs": [],
   "source": [
    "location_deets = paragraphs[5].text"
   ]
  },
  {
   "cell_type": "code",
   "execution_count": 34,
   "metadata": {},
   "outputs": [],
   "source": [
    "nearest_town = paragraphs[6].text"
   ]
  },
  {
   "cell_type": "code",
   "execution_count": 35,
   "metadata": {},
   "outputs": [],
   "source": [
    "nearest_road = paragraphs[7].text"
   ]
  },
  {
   "cell_type": "code",
   "execution_count": 38,
   "metadata": {},
   "outputs": [],
   "source": [
    "observation = paragraphs[8].text"
   ]
  },
  {
   "cell_type": "code",
   "execution_count": 39,
   "metadata": {},
   "outputs": [
    {
     "data": {
      "text/plain": [
       "'OBSERVED: I and two of my friends were bored one night so we decided to do a little snowmachining. Though it was illegal to snowmachine in Anchorage, there were some good trails to ride on a little north of my house.  We took off at probably 11 pm, rode up the road about a quarter mile, and cut off on the trails. It had snowed about 10 inches a few days before so there was fresh snow, with no tracks.  I was leading the way for about a half hour, then we stopped and talked for a little bit.  We took off again and kept cruising on some sort of game trail that led to an opening in the woods.  I rode off into the opening with my friends following about fifty yards behind me.  I came over this little mound and saw strange tracks leading to this spot in the snow where it looked like something had pushed aside some snow and layed down.  I figured it was just a moose or something.  But I followed the tracks over the next small hill and as I came down the far side my headlight pointed right on the back of a bigfoot.  It was only about 10 to 12 feet in front of me.  It was running in the opposite direction.  I slammed on the brakes because I was scared out of my mind.  It continued to run away, jumped over a dead log covered in snow and disappeared into a group of trees and into the darkness.  I was so surprised and scared I quickly turned around and rode back toward my friends. I met them back by the first mound and said \"We need to get out of here,\"  and rode back towards my house.  When I told them about it back near my house, they laughed and told me it was probably a bear or someone in the woods.  But I was 100% positive that is was not a bear or anything else. The way it was running through the deep snow made me sure that it wasn\\'t anything human.  For a long time I was made fun of and everyone told me I was crazy so I didn\\'t like talking about it.  '"
      ]
     },
     "execution_count": 39,
     "metadata": {},
     "output_type": "execute_result"
    }
   ],
   "source": [
    "observation"
   ]
  },
  {
   "cell_type": "code",
   "execution_count": 40,
   "metadata": {},
   "outputs": [],
   "source": [
    "noticed = paragraphs[9].text"
   ]
  },
  {
   "cell_type": "code",
   "execution_count": 43,
   "metadata": {},
   "outputs": [],
   "source": [
    "other_witnesses = paragraphs[10].text"
   ]
  },
  {
   "cell_type": "code",
   "execution_count": 45,
   "metadata": {},
   "outputs": [],
   "source": [
    "other_stories = paragraphs[11].text"
   ]
  },
  {
   "cell_type": "code",
   "execution_count": 46,
   "metadata": {},
   "outputs": [],
   "source": [
    "time_conditions = paragraphs[12].text"
   ]
  },
  {
   "cell_type": "code",
   "execution_count": 47,
   "metadata": {},
   "outputs": [],
   "source": [
    "environment = paragraphs[13].text"
   ]
  },
  {
   "cell_type": "code",
   "execution_count": 48,
   "metadata": {},
   "outputs": [],
   "source": [
    "investigator = paragraphs[14].text"
   ]
  },
  {
   "cell_type": "code",
   "execution_count": 49,
   "metadata": {},
   "outputs": [],
   "source": [
    "investigation = paragraphs[15].text"
   ]
  },
  {
   "cell_type": "code",
   "execution_count": 50,
   "metadata": {},
   "outputs": [],
   "source": [
    "about_investigator = paragraphs[17].text"
   ]
  },
  {
   "cell_type": "code",
   "execution_count": 82,
   "metadata": {},
   "outputs": [],
   "source": [
    "observ = []\n",
    "\n",
    "for i in range(0, 400):\n",
    "    soup = BeautifulSoup(reports[i]['html'])\n",
    "    paragraphs = soup.findAll('p')\n",
    "    try:\n",
    "        observ.append(paragraphs[8].text)\n",
    "    except:\n",
    "        pass"
   ]
  },
  {
   "cell_type": "code",
   "execution_count": 93,
   "metadata": {},
   "outputs": [],
   "source": [
    "actual_obv = []\n",
    "\n",
    "for x in range(0, len(observ)):\n",
    "    obv_set = set(observ[x].split(':'))\n",
    "    if 'OBSERVED' in obv_set:\n",
    "        actual_obv.append(observ[x])\n",
    "    else:\n",
    "        pass"
   ]
  },
  {
   "cell_type": "code",
   "execution_count": 94,
   "metadata": {},
   "outputs": [],
   "source": [
    "test_obv_df = pd.DataFrame({\n",
    "    'observations': actual_obv\n",
    "})"
   ]
  },
  {
   "cell_type": "code",
   "execution_count": 95,
   "metadata": {},
   "outputs": [
    {
     "data": {
      "text/html": [
       "<div>\n",
       "<style scoped>\n",
       "    .dataframe tbody tr th:only-of-type {\n",
       "        vertical-align: middle;\n",
       "    }\n",
       "\n",
       "    .dataframe tbody tr th {\n",
       "        vertical-align: top;\n",
       "    }\n",
       "\n",
       "    .dataframe thead th {\n",
       "        text-align: right;\n",
       "    }\n",
       "</style>\n",
       "<table border=\"1\" class=\"dataframe\">\n",
       "  <thead>\n",
       "    <tr style=\"text-align: right;\">\n",
       "      <th></th>\n",
       "      <th>observations</th>\n",
       "    </tr>\n",
       "  </thead>\n",
       "  <tbody>\n",
       "    <tr>\n",
       "      <th>0</th>\n",
       "      <td>OBSERVED: I and two of my friends were bored o...</td>\n",
       "    </tr>\n",
       "    <tr>\n",
       "      <th>1</th>\n",
       "      <td>OBSERVED: To whom it may concern, I am a comme...</td>\n",
       "    </tr>\n",
       "    <tr>\n",
       "      <th>2</th>\n",
       "      <td>OBSERVED: It was the month of July, 2009 in Fa...</td>\n",
       "    </tr>\n",
       "    <tr>\n",
       "      <th>3</th>\n",
       "      <td>OBSERVED: From the top of this hill the river ...</td>\n",
       "    </tr>\n",
       "    <tr>\n",
       "      <th>4</th>\n",
       "      <td>OBSERVED: It was a hot afternoon in august. I ...</td>\n",
       "    </tr>\n",
       "  </tbody>\n",
       "</table>\n",
       "</div>"
      ],
      "text/plain": [
       "                                        observations\n",
       "0  OBSERVED: I and two of my friends were bored o...\n",
       "1  OBSERVED: To whom it may concern, I am a comme...\n",
       "2  OBSERVED: It was the month of July, 2009 in Fa...\n",
       "3  OBSERVED: From the top of this hill the river ...\n",
       "4  OBSERVED: It was a hot afternoon in august. I ..."
      ]
     },
     "execution_count": 95,
     "metadata": {},
     "output_type": "execute_result"
    }
   ],
   "source": [
    "test_obv_df.head()"
   ]
  },
  {
   "cell_type": "code",
   "execution_count": 96,
   "metadata": {},
   "outputs": [],
   "source": [
    "test_obv_df.to_csv('test_observations.csv')"
   ]
  },
  {
   "cell_type": "code",
   "execution_count": null,
   "metadata": {},
   "outputs": [],
   "source": []
  }
 ],
 "metadata": {
  "kernelspec": {
   "display_name": "Python 3",
   "language": "python",
   "name": "python3"
  },
  "language_info": {
   "codemirror_mode": {
    "name": "ipython",
    "version": 3
   },
   "file_extension": ".py",
   "mimetype": "text/x-python",
   "name": "python",
   "nbconvert_exporter": "python",
   "pygments_lexer": "ipython3",
   "version": "3.7.3"
  }
 },
 "nbformat": 4,
 "nbformat_minor": 2
}
