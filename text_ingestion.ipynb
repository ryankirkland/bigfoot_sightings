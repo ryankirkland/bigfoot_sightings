{
 "cells": [
  {
   "cell_type": "code",
   "execution_count": 4,
   "metadata": {},
   "outputs": [],
   "source": [
    "import json\n",
    "import pandas as pd\n",
    "import numpy as np\n",
    "from bs4 import BeautifulSoup\n",
    "\n",
    "# TODO: this doesn't scale well and doesn't help with looking at the data.\n",
    "#       Possible solutions: load into pandas dataframe or mongodb, maybe both.\n",
    "reports = []\n",
    "with open('bigfoot_data.json') as f:\n",
    "    for i in f:\n",
    "        reports.append(json.loads(i))"
   ]
  },
  {
   "cell_type": "code",
   "execution_count": 52,
   "metadata": {},
   "outputs": [],
   "source": [
    "soup = BeautifulSoup(reports[1]['html'])"
   ]
  },
  {
   "cell_type": "code",
   "execution_count": 192,
   "metadata": {},
   "outputs": [
    {
     "data": {
      "text/plain": [
       "'\\r\\n<!doctype html public \"-//w3c//dtd html 4.0 transitional//en\">\\r\\n<HTML>\\r\\n\\t<HEAD>\\r\\n        <meta http-equiv=\"X-UA-Compatible\" content=\"IE=EmulateIE7\" />\\r\\n        <meta http-equiv=\"Content-Type\" content=\"text/html; charset=iso-8859-1\">\\r\\n    <meta name=\"KEYWORDS\" content=\"bigfoot, big foot, BigFoot, BFRO, Bigfoot research, sightings database, organizations, Organization, sightings, lists, locations, areas, reports, report, ape, apes, forest, giant, giants, monster, monsters, swamp, creek, Florida, Skunk Ape Florida Skuk Ape, Abominable Snowman, Agogwe, Almasti, Batutut-Borneo, Didi, Dwendi, Kakundakari, Kung-Lu, Mapinguary, Muhalu, sasquatch, sasquach, Sedapa, Orang Pendek, Shiru, Sisimite, Skunk Ape, Tok- Burma, Yeti, Yowie, cryptozoology, animals, strange, glowing eyes, foot prints, cast, tracks, fottprint cast, hairy, beast, mystery, paranormal, ufo, x-files, xfiles, bionic woman, sightings, sighting, IVBC, Byrne, report, howl, scream, primate, everglades, Florida Everglades, swamp, Gigantopithecus, missing link, missing, link, anthropology, skunk, monkey, foot, big, encounters, eyewitness reports, North America, Submit a report, reports, Submit an Article, Submit Comments, theories, research projects, track, cast, investigation, hair, microscopy analysis, field research journals, the Gigantopithecus Theory, Sasquatching Equipment, Sasquatching Tips for Collecting Evidence, photograph, tracks, physical evidence, Sounds, Photos\">\\r\\n\\t\\t<TITLE>BFRO Report 13038: Snowmobiler has encounter in deep snow near Potter, AK</TITLE> \\r\\n\\r\\n\\t\\t<script src=\"/fade.js\" language=\"Javascript\"></script>\\r\\n\\t\\t<script type=\"text/javascript\">\\r\\n\\t\\tfunction runLogo() {\\r\\n\\t\\t\\tvar logo = document.getElementById(\"logo\");\\r\\n\\t\\t\\tif(logo != null)\\r\\n\\t\\t\\t{\\r\\n\\t\\t\\t\\tlogo.src=logo.src + \\'a;\\'\\r\\n\\t\\t\\t}\\r\\n\\t\\t}\\r\\n\\t\\t\\r\\n\\t\\t</script>\\r\\n\\r\\n\\r\\n\\t\\t<!-- /Flash Browser Detection Script -->\\r\\n    <LINK rel=\"STYLESHEET\" href=\"/bfro_v2.css\" type=\"text/css\">\\r\\n    <LINK REL=\"SHORTCUT ICON\" HREF=\"http://www.bfro.net/favicon.ico\">\\r\\n\\t</HEAD>\\r\\n\\t<BODY onLoad=\"runLogo()\"  bgcolor=\"#000000\" topmargin=\"0\" leftmargin=\"0\">\\r\\n\\r\\n\\t\\t\\t<SCRIPT>\\r\\n\\t\\t\\t<!--\\r\\n\\t\\t\\t\\tif (document.images) \\r\\n\\t\\t\\t\\t{\\r\\n\\t\\t\\t\\t\\tb_Media_Articles = new Image();\\r\\n\\t\\t\\t\\t\\tb_Media_Articles.src = \"/images/templates/b-Media%20Articles_hl.jpg\";\\r\\n\\t\\t\\t\\t\\tb_Media_Articles_orig = new Image();\\r\\n\\t\\t\\t\\t\\tb_Media_Articles_orig.src = \"/images/templates/b-Media%20Articles.jpg\";\\r\\n\\t\\t\\t\\t\\tb_ReportForm = new Image();\\r\\n\\t\\t\\t\\t\\tb_ReportForm.src = \"/images/templates/b-Report%20Form_hl.jpg\";\\r\\n\\t\\t\\t\\t\\tb_ReportForm_orig = new Image();\\r\\n\\t\\t\\t\\t\\tb_ReportForm_orig.src = \"/images/templates/b-Report%20Form.jpg\";\\r\\n\\t\\t\\t\\t\\tb_Home = new Image();\\r\\n\\t\\t\\t\\t\\tb_Home.src = \"/images/templates/b-Home_hl.jpg\";\\r\\n\\t\\t\\t\\t\\tb_Home_orig = new Image();\\r\\n\\t\\t\\t\\t\\tb_Home_orig.src = \"/images/templates/b-Home.jpg\";\\r\\n\\t\\t\\t\\t}\\r\\n\\r\\n\\t\\t\\t\\tfunction turnOn(imageName) \\r\\n\\t\\t\\t\\t{\\r\\n\\t\\t\\t\\t\\tif (document.images) \\r\\n\\t\\t\\t\\t\\t{\\r\\n\\t\\t\\t\\t\\t\\tdocument[imageName].src = eval(imageName + \".src\");  \\r\\n\\t\\t\\t\\t\\t}\\r\\n\\t\\t\\t\\t}\\r\\n\\r\\n\\t\\t\\t\\tfunction turnOff(imageName) \\r\\n\\t\\t\\t\\t{  \\r\\n\\t\\t\\t\\t\\tif (document.images) \\r\\n\\t\\t\\t\\t\\t{\\r\\n\\t\\t\\t\\t\\t\\t\\tdocument[imageName].src = eval(imageName + \"_orig.src\");  \\r\\n\\t\\t\\t\\t\\t}\\r\\n\\t\\t\\t\\t}\\r\\n\\t\\t\\t\\t-->\\r\\n\\t\\t\\t</SCRIPT>\\r\\n\\t\\t\\t<SCRIPT language=\"JavaScript1.2\" src=\"/images/templates/bfro_data.asp\"></SCRIPT>\\r\\n\\t\\t\\t<SCRIPT language=\"JavaScript1.2\" src=\"/images/templates/dqm_script.js\"></SCRIPT>\\r\\n\\t\\t\\t<table border=\"0\" align=\"left\" cellpadding=\"0\" cellspacing=\"0\" width=\"780\">\\r\\n\\t\\t\\t\\t<tr>\\r\\n\\t\\t\\t\\t\\t<td width=\"130\" valign=\"top\" align=\"middle\">\\r\\n\\t\\t\\t\\t\\t\\t\\r\\n    <table border=\"0\" align=\"left\" cellpadding=\"0\" cellspacing=\"0\" width=\"130\">\\r\\n      <tr> \\r\\n        <td height=\"130\" width=\"130\" align=\"middle\">  \\r\\n          <a href=\"/\"><img id=\"logo\" alt=\"Bigfoot Field Researchers Organization Logo\" src=\"/images/templates/LogoSpin.gif?\" onMouseOver=\"runLogo();\" height=\"130\" width=\"130\" border=\"0\"></a>\\r\\n          <NOSCRIPT>  <a href=\"/\"><img alt=\"Bigfoot Field Researchers Organization Logo\" src=\"/images/templates/LogoSpin.gif?\" onMouseOver=\"runLogo();\" height=\"130\" width=\"130\" border=\"0\"></a> \\r\\n           </NOSCRIPT>  </td>\\r\\n      </tr>\\r\\n      <tr> \\r\\n        <td align=\"left\" valign=\"top\"> \\r\\n          <table border=\"0\" cellpadding=\"0\" cellspacing=\"0\">\\r\\n            <tr> \\r\\n              <td colspan=\"2\"><IMG SRC=\"/images/templates/Outline_01.gif\" WIDTH=\"130\" HEIGHT=\"15\"></td>\\r\\n            </tr>\\r\\n            <tr> \\r\\n              <td><IMG SRC=\"/images/templates/Outline_02.gif\" WIDTH=\"15\" HEIGHT=\"20\"></td>\\r\\n              <td><A HREF=\"/\" onMouseOver=\"turnOn(\\'b_Home\\');\" onMouseOut=\"turnOff(\\'b_Home\\');\"><IMG NAME=\"b_Home\" SRC=\"/images/templates/b-Home.jpg\" WIDTH=\"130\" HEIGHT=\"20\" BORDER=\"0\"></A></td>\\r\\n            </tr>\\r\\n            <tr> \\r\\n              <td><IMG SRC=\"/images/templates/Outline_02.gif\" WIDTH=\"15\" HEIGHT=\"20\"></td>\\r\\n              <td><A HREF=\"/\"><img border=\"0\" src=\"/images/templates/b-Features.jpg\" width=\"130\" height=\"20\" name=\"menu0\" id=\"menu0\" onMouseOver=\"showMenu(event)\" onMouseOut=\"hideMenu(event)\"></A></td>\\r\\n            </tr>\\r\\n            <tr> \\r\\n              <td><IMG SRC=\"/images/templates/Outline_02.gif\" WIDTH=\"15\" HEIGHT=\"20\"></td>\\r\\n              <td><A HREF=\"/GDB/\"><img border=\"0\" src=\"/images/templates/b-Reports.jpg\" width=\"130\" height=\"20\" name=\"menu1\" id=\"menu1\" onMouseOver=\"showMenu(event)\" onMouseOut=\"hideMenu(event)\"></A></td>\\r\\n            </tr>\\r\\n            <tr> \\r\\n              <td><IMG SRC=\"/images/templates/Outline_02.gif\" WIDTH=\"15\" HEIGHT=\"20\"></td>\\r\\n              <td><A HREF=\"/GDB/newart.asp\" onMouseOver=\"turnOn(\\'b_Media_Articles\\');\" onMouseOut=\"turnOff(\\'b_Media_Articles\\');\"><IMG NAME=\"b_Media_Articles\" SRC=\"/images/templates/b-Media%20Articles.jpg\" WIDTH=\"130\" HEIGHT=\"20\" BORDER=\"0\"></A></td>\\r\\n            </tr>\\r\\n            <tr> \\r\\n              <td><IMG SRC=\"/images/templates/Outline_02.gif\" WIDTH=\"15\" HEIGHT=\"20\"></td>\\r\\n              <td><A HREF=\"/GDB/submitfm.asp\" onMouseOver=\"turnOn(\\'b_ReportForm\\');\" onMouseOut=\"turnOff(\\'b_ReportForm\\');\"><IMG NAME=\"b_ReportForm\" SRC=\"/images/templates/b-Report%20Form.jpg\" WIDTH=\"130\" HEIGHT=\"20\" BORDER=\"0\"></A></td>\\r\\n            </tr>\\r\\n            <tr> \\r\\n              <td><IMG SRC=\"/images/templates/Outline_02.gif\" WIDTH=\"15\" HEIGHT=\"20\"></td>\\r\\n              <td><a href=\"/gdb/show_fAQ.asp?id=405\"><img border=\"0\" src=\"/images/templates/b-FAQs.jpg\" width=\"130\" height=\"20\" name=\"menu2\" id=\"menu2\" onMouseOver=\"showMenu(event)\" onMouseOut=\"hideMenu(event)\"></a></td>\\r\\n            </tr>\\r\\n            <tr> \\r\\n              <td><IMG SRC=\"/images/templates/Outline_02.gif\" WIDTH=\"15\" HEIGHT=\"20\"></td>\\r\\n              <td><a href=\"/GDB/theories.asp\"><img border=\"0\" src=\"/images/templates/b-Departments.jpg\" width=\"130\" height=\"20\" name=\"menu3\" id=\"menu3\" onMouseOver=\"showMenu(event)\" onMouseOut=\"hideMenu(event)\"></a></td>\\r\\n            </tr>\\r\\n            <tr> \\r\\n              <td colspan=\"2\"><IMG SRC=\"/images/templates/Outline_05.gif\" WIDTH=\"130\" HEIGHT=\"15\"></td>\\r\\n            </tr>\\r\\n          </table>\\r\\n        </td>\\r\\n      </tr>\\r\\n      <tr align=\"left\" bordercolor=\"3\"> \\r\\n        <td style=\"padding-right: 13px; padding-left: 13px; font-size: 10pt\"> \\r\\n          <div align=\"left\">&nbsp;<br>\\r\\n            <br>\\r\\n            \\r\\n             </div>\\r\\n        </td></tr>\\r\\n<tr>\\r\\n  <td><a href=\"http://www.bfro.net/news/townhall.asp\"><img src=\"http://www.bfro.net/gdb/images/townhall_sidebar.gif\" alt=\"townhall\" width=\"135\" height=\"141\" border=\"3\"></a><br><br><br>\\r\\n    <a href=\"http://www.bfro.net/news/roundup/expeds_2017.asp\">\\r\\n<img src=\"http://www.bfro.net/gdb/images/exped_2017_map_sidebar.gif\" alt=\"expeds\" width=\"135\" height=\"127\" border=\"3\"></a><br>\\r\\n<!--<br>\\r\\n<br><br>\\r\\n<a href=\"http://www.bfro.net/merchandise/catalog.asp\"><img src=\"http://www.bfro.net/gdb/images/bfro_store_margin_banner.gif\" alt=\"store\" width=\"135\" height=\"81\" border=\"3\"></a>-->\\r\\n<br>\\r\\n<br>\\r\\n<a href=\"http://www.bfro.net/merchandise/catalog.asp\"><img src=\"http://www.bfro.net/gdb/images/margin_icon_store.gif\" alt=\"store\" width=\"135\" height=\"148\" border=\"3\"></a><br>\\r\\n<br><br><br>\\r\\n\\r\\n    <div id=\"google_translate_element\"></div><script>\\r\\nfunction googleTranslateElementInit() {\\r\\n  new google.translate.TranslateElement({\\r\\n    pageLanguage: \\'en\\'\\r\\n  }, \\'google_translate_element\\');\\r\\n}\\r\\n</script><script src=\"//translate.google.com/translate_a/element.js?cb=googleTranslateElementInit\"></script>\\r\\n<br><br>\\r\\n\\r\\n<!-- AddThis Button BEGIN -->\\r\\n<div class=\"addthis_toolbox addthis_default_style \">\\r\\n<a class=\"addthis_button_preferred_1\"></a>\\r\\n<a class=\"addthis_button_preferred_2\"></a>\\r\\n<a class=\"addthis_button_preferred_3\"></a>\\r\\n<a class=\"addthis_button_preferred_4\"></a>\\r\\n<a class=\"addthis_button_compact\"></a>\\r\\n<a class=\"addthis_counter addthis_bubble_style\"></a>\\r\\n</div>\\r\\n<script type=\"text/javascript\">var addthis_config = {\"data_track_clickback\":true};</script>\\r\\n<script type=\"text/javascript\" src=\"http://s7.addthis.com/js/250/addthis_widget.js#pubid=ra-4e017f48386f7ed9\"></script>\\r\\n<!-- AddThis Button END -->\\r\\n\\r\\n\\r\\n\\r\\n</td></tr>\\r\\n\\r\\n\\r\\n    </table>\\r\\n    \\r\\n    \\r\\n\\t\\t\\t\\t\\t\\t<!-- BEGIN CONTENT SECTION -->\\r\\n\\r\\n\\r\\n\\t\\t\\t\\t\\t</td>\\r\\n\\t\\t\\t\\t\\t<td>\\r\\n\\t\\t\\t\\t\\t\\t<img src=\"/images/templates/spacer.gif\" width=\"1\" height=\"400\" align=>\\r\\n\\t\\t\\t\\t\\t</td>\\r\\n\\t\\t\\t\\t\\t<td valign=\"top\" align=\"left\">\\r\\n\\t<table border=0 cellpadding=14 cellspacing=5 width=\"100%\" bgcolor=\"#003333\" ID=\"Table1\">\\r\\n\\t<tr><td>\\r\\n\\r\\n\\t\\t<span style=\"font-size: 10pt\"><a href=\"/gdb/\">Geographical Index</a> &gt; <a href=\"/gdb/#usa\">United States</a> &gt; <a href=\"/GDB/state_listing.asp?state=AK\">Alaska</a> &gt; <a href=\"/GDB/show_county_reports.asp?state=AK&county=Anchorage\">Anchorage County</a> &gt; Report # 13038<br>&nbsp;<br></span>\\r\\n    <span class=reportheader>Report # 13038</span>&nbsp;&nbsp;<span class=reportclassification>(Class A)</span>\\r\\n      <BR>\\r\\n      <span class=field>Submitted  by  witness   on Saturday,&nbsp;November&nbsp;12,&nbsp;2005.</span>\\r\\n    <hr size=\"5\" noshade color=\"#009900\">\\r\\n\\r\\n    <span class=field>Snowmobiler has encounter in deep snow near Potter, AK</span>\\r\\n    <hr size=\"5\" noshade color=\"#009900\">\\r\\n\\r\\n    <span style=\"font-size:10pt\"><a href=\"/GDB/show_report.asp?ID=13038&PrinterFriendly=True\">(Show Printer-friendly Version)</a></span>\\r\\n    \\r\\n    <p><span class=field>YEAR:</span> 2004</p>\\r\\n<p><span class=field>SEASON:</span> Winter</p><p><span class=field>MONTH:</span> February</p><p><span class=field>STATE:</span> <a href=\"/GDB/state_listing.asp?state=AK\">Alaska</a></p><p><span class=field>COUNTY:</span> <a href=\"/GDB/show_county_reports.asp?state=AK&county=Anchorage\">Anchorage County</a></p><p><span class=field>LOCATION DETAILS:</span> Up near powerline clearings east of Potter Marsh in Anchorage.</p><p><span class=field>NEAREST TOWN:</span> Anchorage / Hillside</p><p><span class=field>NEAREST ROAD:</span> No real roads in the area</p><p><span class=field>OBSERVED:</span> I and two of my friends were bored one night so we decided to do a little snowmachining. Though it was illegal to snowmachine in Anchorage, there were some good trails to ride on a little north of my house.  <BR><BR>We took off at probably 11 pm, rode up the road about a quarter mile, and cut off on the trails. It had snowed about 10 inches a few days before so there was fresh snow, with no tracks.  <BR><BR>I was leading the way for about a half hour, then we stopped and talked for a little bit.  We took off again and kept cruising on some sort of game trail that led to an opening in the woods.  I rode off into the opening with my friends following about fifty yards behind me.  <BR><BR>I came over this little mound and saw strange tracks leading to this spot in the snow where it looked like something had pushed aside some snow and layed down.  I figured it was just a moose or something.  But I followed the tracks over the next small hill and as I came down the far side my headlight pointed right on the back of a bigfoot. <BR><BR> It was only about 10 to 12 feet in front of me.  It was running in the opposite direction.  I slammed on the brakes because I was scared out of my mind.  It continued to run away, jumped over a dead log covered in snow and disappeared into a group of trees and into the darkness.  <BR><BR>I was so surprised and scared I quickly turned around and rode back toward my friends. I met them back by the first mound and said \"We need to get out of here,\"  and rode back towards my house.  When I told them about it back near my house, they laughed and told me it was probably a bear or someone in the woods.  But I was 100% positive that is was not a bear or anything else. <BR><BR>The way it was running through the deep snow made me sure that it wasn\\'t anything human.  For a long time I was made fun of and everyone told me I was crazy so I didn\\'t like talking about it.  </p><p><span class=field>ALSO NOTICED:</span> Some tracks in the snow, and a clearing in the fresh snow where it looked like a large animal had pushed snow aside and layed down.</p><p><span class=field>OTHER WITNESSES:</span> My two friends were snowmachining behind me but did not see it. If it had been light outside they might have seen it, but it was pitch black outside. My only light was from my snowmachine.</p><p><span class=field>OTHER STORIES:</span> I have not heard of any other incidents in Anchorage.</p><p><span class=field>TIME AND CONDITIONS:</span> Middle of the night. The only light was the headlight from my snowmachine.</p><p><span class=field>ENVIRONMENT:</span> In the middle of the woods, in a clearing covered in snow, with only small shrubs and bushes sticking out of the snow.  In the middle of the night.</p>\\r\\n    <hr size=\"5\" noshade color=\"#009900\">\\r\\n    <p>Follow-up investigation report by BFRO Investigator Dr. Wolf H. Fahrenbach:</p>\\r\\n    <blockquote>\\r\\n      <p>The animal was running from the approaching snowmobiles. <BR><BR>It was running smoothly with angled elbows, totally unimpeded by the fresh snow, which was about a foot deep and still falling on top of a deeper base. <BR><BR>It was dark brown in color, with a messy, matted coat and no perceptible neck.<BR><BR>The area of the encounter lies near a clear-cut lane for a pipeline and is within about a mile of the Anchorage Coastal Wildlife Refuge and Potter\\'s Marsh in wooded terrain.<BR></p>\\r\\n    </blockquote>\\r\\n\\r\\n    <hr size=\"5\" noshade color=\"#009900\">\\r\\n    <p>About BFRO Investigator Dr. Wolf H. Fahrenbach:</p>\\r\\n    <blockquote>\\r\\n      <p>Hair analysis since 1965.  Field work since 1989. Sasquatch courses given in Oregon and Arizona (3-10 weeks duration); Published in Cryptozoology.</p>\\r\\n    </blockquote>\\r\\n\\r\\n    <hr size=\"5\" noshade color=\"#009900\">\\r\\n\\r\\n    <ul>\\r\\n\\t\\t\\t<li><a href=\"/gdb/classify.asp\">Explanation of the report classification system</a></li>\\r\\n\\t\\t\\t\\r\\n        <li><a href=\"/GDB/submitfm.asp\">Submit a report for the sightings database</a></li>\\r\\n\\t\\t\\t<!--<li><a href=\"/GDB/comments.asp?CommentURL=http%3A%2F%2Fwww%2Ebfro%2Enet%2FGDB%2Fshow%5Freport%2Easp%3Fid%3D13038\">Submit a comment or article</a></li>-->\\r\\n\\t\\t\\t<li>Please send any comments or inquiries to Contact@BFRO.net</li>\\r\\n\\t\\t</ul>\\r\\n\\t\\t</td></tr></table><BR>&nbsp;\\r\\n\\r\\n\\t\\t\\t\\t\\t<!-- END CONTENT SECTION -->\\r\\n\\t\\t\\t\\t</td>\\r\\n\\t\\t\\t</tr>\\r\\n\\t\\t\\t<tr>\\r\\n\\t\\t\\t\\t<td colspan=\"2\" width=\"131\"><img src=\"/images/templates/spacer.gif\" width=\"131\" height=\"1\"></td>\\r\\n\\t\\t\\t\\t<td align=\"left\">&nbsp;&nbsp;<span class=\"smallprint\">Copyright &copy; 2017<!--2017--> BFRO.net</span>\\r\\n\\t\\t\\t\\t<br>&nbsp;\\r\\n\\t\\t\\t\\t<br><img src=\"/images/templates/spacer.gif\" wwidth=\"649\" height=\"1\"></td></tr>\\r\\n\\t\\t</table>\\r\\n\\r\\n<script type=\"text/javascript\">runLogo();</script>\\r\\n\\t</BODY>\\r\\n</HTML>\\r\\n\\r\\n'"
      ]
     },
     "execution_count": 192,
     "metadata": {},
     "output_type": "execute_result"
    }
   ],
   "source": [
    "reports[0]['html']"
   ]
  },
  {
   "cell_type": "markdown",
   "metadata": {},
   "source": [
    "#### Report Header\n",
    "\n",
    "<span class=\"reportheader\">Report # 13038</span>  <span class=\"reportclassification\">(Class A)</span>\n",
    "\n",
    "#### Report Date\n",
    "\n",
    "<span class=\"field\">Submitted  by  witness   on Saturday, November 12, 2005.</span>\n",
    "\n",
    "\n",
    "#### Report Title\n",
    "\n",
    "<span class=\"field\">Snowmobiler has encounter in deep snow near Potter, AK</span>\n",
    "\n",
    "#### Sighting Year\n",
    "<p><span class=\"field\">YEAR:</span> 2004</p>\n",
    "\n",
    "#### Season\n",
    "<p><span class=\"field\">SEASON:</span> Winter</p>\n",
    "\n",
    "#### Month\n",
    "<p><span class=\"field\">MONTH:</span> February</p>\n",
    "\n",
    "#### State\n",
    "<span class=\"field\">STATE:</span> <a href=\"/GDB/state_listing.asp?state=AK\">Alaska</a></p>"
   ]
  },
  {
   "cell_type": "code",
   "execution_count": 54,
   "metadata": {},
   "outputs": [
    {
     "data": {
      "text/plain": [
       "'(Class B)'"
      ]
     },
     "execution_count": 54,
     "metadata": {},
     "output_type": "execute_result"
    }
   ],
   "source": [
    "\n",
    "classification.text"
   ]
  },
  {
   "cell_type": "code",
   "execution_count": 100,
   "metadata": {},
   "outputs": [
    {
     "data": {
      "text/plain": [
       "[<span class=\"field\">Submitted  by  witness   on Monday, September 6, 2004.</span>,\n",
       " <span class=\"field\">Early morning sighting by motorist along the Eel River</span>,\n",
       " <span class=\"field\">YEAR:</span>,\n",
       " <span class=\"field\">SEASON:</span>,\n",
       " <span class=\"field\">MONTH:</span>,\n",
       " <span class=\"field\">STATE:</span>,\n",
       " <span class=\"field\">COUNTY:</span>,\n",
       " <span class=\"field\">NEAREST TOWN:</span>,\n",
       " <span class=\"field\">NEAREST ROAD:</span>,\n",
       " <span class=\"field\">OBSERVED:</span>,\n",
       " <span class=\"field\">ALSO NOTICED:</span>,\n",
       " <span class=\"field\">OTHER WITNESSES:</span>,\n",
       " <span class=\"field\">OTHER STORIES:</span>,\n",
       " <span class=\"field\">TIME AND CONDITIONS:</span>,\n",
       " <span class=\"field\">ENVIRONMENT:</span>]"
      ]
     },
     "execution_count": 100,
     "metadata": {},
     "output_type": "execute_result"
    }
   ],
   "source": [
    "fields = soup.findAll('span', attrs={'class': 'field'})\n",
    "fields"
   ]
  },
  {
   "cell_type": "code",
   "execution_count": 56,
   "metadata": {},
   "outputs": [],
   "source": [
    "fields[0:2]\n",
    "submission_date = fields[0].text\n",
    "submission_title = fields[1].text"
   ]
  },
  {
   "cell_type": "code",
   "execution_count": 57,
   "metadata": {},
   "outputs": [],
   "source": [
    "paragraphs = soup.findAll('p')"
   ]
  },
  {
   "cell_type": "code",
   "execution_count": 58,
   "metadata": {},
   "outputs": [
    {
     "data": {
      "text/plain": [
       "[<p><span class=\"field\">YEAR:</span> 2003</p>,\n",
       " <p><span class=\"field\">SEASON:</span> Winter</p>,\n",
       " <p><span class=\"field\">MONTH:</span> December</p>,\n",
       " <p><span class=\"field\">DATE:</span> Friday night</p>,\n",
       " <p><span class=\"field\">STATE:</span> <a href=\"/GDB/state_listing.asp?state=AK\">Alaska</a></p>,\n",
       " <p><span class=\"field\">COUNTY:</span> <a href=\"/GDB/show_county_reports.asp?state=AK&amp;county=Anchorage\">Anchorage County</a></p>,\n",
       " <p><span class=\"field\">LOCATION DETAILS:</span> Few houses on the way, a power relay station. To get to it our way, go down Dowling Road(left off of Lake Otis), where you will walk a trail. Follow it all the way down, but there are multiple entrances and trails.</p>,\n",
       " <p><span class=\"field\">NEAREST TOWN:</span> Anchorage</p>,\n",
       " <p><span class=\"field\">NEAREST ROAD:</span> Dowling</p>,\n",
       " <p><span class=\"field\">OBSERVED:</span> Me and a couple of friends had been bored, when I decided we should take a walk through the woods behind my house. I didn't think much of it, as me and my friend have done it many times before. There were four of us, and we set out at about 11 o'clock at night. It was rather dark, but there was light from the moon. The weather was rather cold, as we did this in the winter. The area we walked on was game trails (trails that moose walk on) as well as trails used for mushers, runners, cross country skiiers, and that sort. We had walked about 2 miles from my house to another entrance where most people enter. On the way we had talked about unexplainable events or things such as bigfoot, and UFOs. When we reached the bridge where most people come in, one friend had smoked a cigarette. We then saw a light and decided to go on. On the way back, we heard wild dogs barking wildly, and decided to pick up the speed. It eventually became a sprint, whereafter we walked. When we walked, we continued talking about it. It was then I had realized, some thing had been following us, as well as testing us, or even harassing us. It was much earlier, I just didnt think about it. I had thought it was my friend Warren, who is sometimes clumsy. I had thought it was him who had made noises such as slipping, but it was really something throwing stuff at us. I had realized this about half way back. I asked if Warren kept slipping, when he told me it wasn't, and he thought I could have been pulling a prank. We stopped for a minute to listen when I told the others something strange was going on. We stopped, and shone a flashlight around, hearing noises such as steps, and branches moving and breaking. The leader had thought I had been playing a joke when I told him seriously, I wasn't. He decided to walk behind with me, when something threw snowballs, and nearly hit us on many occasions. It was then he realized that this was no joke, and we picked up a light jog, for most of the way. When we were almost out of the woods, we had again heard dogs, and maybe 20 ft away, the branches breaking, and again, something throwing stuff at us. By the time we left, it was about 3-3:30 in the morning. I did not go directly to my house because I didn't know if it was still following us. I know this was not a prank because the snow is more then 5 ft deep in the woods, and someone would have a extremely hard time to play a prank like that. </p>,\n",
       " <p><span class=\"field\">ALSO NOTICED:</span> We smelled of colonge and after shave, and one of them smoked.(Warren)</p>,\n",
       " <p><span class=\"field\">OTHER WITNESSES:</span> 4. Me, w-man, warren and sean. We were at my house thinking of what we could do because we were so bored.</p>,\n",
       " <p><span class=\"field\">OTHER STORIES:</span> no</p>,\n",
       " <p><span class=\"field\">TIME AND CONDITIONS:</span> Started at 11, ended at about 3-3:30. Weather was cold, no clouds, and temp. maybe in the high teens. Visible lighting from moon.</p>,\n",
       " <p><span class=\"field\">ENVIRONMENT:</span> A pine forest, with a bog or swamp on the right, after you first enter from dowling. on the way their is a creek, and towards the bridge, is Campbell Creek. Some of us had cologne on, and I had shaved earlier that day, and smelled of aftershave.</p>,\n",
       " <p>Follow-up investigation report by BFRO Investigator Dr. Wolf H. Fahrenbach:</p>,\n",
       " <p>The area under consideration is at the eastern edge of Anchorage and is continuous with the substantial mountain ranges in that direction (Chugach Mountains). Apparently, there is no leash law in Anchorage and often dogs form packs. The items thrown at the the four seemed to be clods of hard snow, as some ice crust was present in places. The participants also detected a rank aroma, partly carcass in nature.The moon on that the date and time listed was about 85% full.</p>]"
      ]
     },
     "execution_count": 58,
     "metadata": {},
     "output_type": "execute_result"
    }
   ],
   "source": [
    "paragraphs"
   ]
  },
  {
   "cell_type": "code",
   "execution_count": 60,
   "metadata": {},
   "outputs": [
    {
     "data": {
      "text/plain": [
       "'DATE: Friday night'"
      ]
     },
     "execution_count": 60,
     "metadata": {},
     "output_type": "execute_result"
    }
   ],
   "source": [
    "state = paragraphs[3].text\n",
    "state"
   ]
  },
  {
   "cell_type": "code",
   "execution_count": 61,
   "metadata": {},
   "outputs": [
    {
     "data": {
      "text/plain": [
       "'MONTH: December'"
      ]
     },
     "execution_count": 61,
     "metadata": {},
     "output_type": "execute_result"
    }
   ],
   "source": [
    "date = paragraphs[2].text\n",
    "date"
   ]
  },
  {
   "cell_type": "code",
   "execution_count": 63,
   "metadata": {},
   "outputs": [
    {
     "data": {
      "text/plain": [
       "'STATE: Alaska'"
      ]
     },
     "execution_count": 63,
     "metadata": {},
     "output_type": "execute_result"
    }
   ],
   "source": [
    "county = paragraphs[4].text\n",
    "county"
   ]
  },
  {
   "cell_type": "code",
   "execution_count": 32,
   "metadata": {},
   "outputs": [],
   "source": [
    "location_deets = paragraphs[5].text"
   ]
  },
  {
   "cell_type": "code",
   "execution_count": 34,
   "metadata": {},
   "outputs": [],
   "source": [
    "nearest_town = paragraphs[6].text"
   ]
  },
  {
   "cell_type": "code",
   "execution_count": 35,
   "metadata": {},
   "outputs": [],
   "source": [
    "nearest_road = paragraphs[7].text"
   ]
  },
  {
   "cell_type": "code",
   "execution_count": 38,
   "metadata": {},
   "outputs": [],
   "source": [
    "observation = paragraphs[8].text"
   ]
  },
  {
   "cell_type": "code",
   "execution_count": 39,
   "metadata": {},
   "outputs": [
    {
     "data": {
      "text/plain": [
       "'OBSERVED: I and two of my friends were bored one night so we decided to do a little snowmachining. Though it was illegal to snowmachine in Anchorage, there were some good trails to ride on a little north of my house.  We took off at probably 11 pm, rode up the road about a quarter mile, and cut off on the trails. It had snowed about 10 inches a few days before so there was fresh snow, with no tracks.  I was leading the way for about a half hour, then we stopped and talked for a little bit.  We took off again and kept cruising on some sort of game trail that led to an opening in the woods.  I rode off into the opening with my friends following about fifty yards behind me.  I came over this little mound and saw strange tracks leading to this spot in the snow where it looked like something had pushed aside some snow and layed down.  I figured it was just a moose or something.  But I followed the tracks over the next small hill and as I came down the far side my headlight pointed right on the back of a bigfoot.  It was only about 10 to 12 feet in front of me.  It was running in the opposite direction.  I slammed on the brakes because I was scared out of my mind.  It continued to run away, jumped over a dead log covered in snow and disappeared into a group of trees and into the darkness.  I was so surprised and scared I quickly turned around and rode back toward my friends. I met them back by the first mound and said \"We need to get out of here,\"  and rode back towards my house.  When I told them about it back near my house, they laughed and told me it was probably a bear or someone in the woods.  But I was 100% positive that is was not a bear or anything else. The way it was running through the deep snow made me sure that it wasn\\'t anything human.  For a long time I was made fun of and everyone told me I was crazy so I didn\\'t like talking about it.  '"
      ]
     },
     "execution_count": 39,
     "metadata": {},
     "output_type": "execute_result"
    }
   ],
   "source": [
    "observation"
   ]
  },
  {
   "cell_type": "code",
   "execution_count": 40,
   "metadata": {},
   "outputs": [],
   "source": [
    "noticed = paragraphs[9].text"
   ]
  },
  {
   "cell_type": "code",
   "execution_count": 43,
   "metadata": {},
   "outputs": [],
   "source": [
    "other_witnesses = paragraphs[10].text"
   ]
  },
  {
   "cell_type": "code",
   "execution_count": 45,
   "metadata": {},
   "outputs": [],
   "source": [
    "other_stories = paragraphs[11].text"
   ]
  },
  {
   "cell_type": "code",
   "execution_count": 46,
   "metadata": {},
   "outputs": [],
   "source": [
    "time_conditions = paragraphs[12].text"
   ]
  },
  {
   "cell_type": "code",
   "execution_count": 47,
   "metadata": {},
   "outputs": [],
   "source": [
    "environment = paragraphs[13].text"
   ]
  },
  {
   "cell_type": "code",
   "execution_count": 48,
   "metadata": {},
   "outputs": [],
   "source": [
    "investigator = paragraphs[14].text"
   ]
  },
  {
   "cell_type": "code",
   "execution_count": 49,
   "metadata": {},
   "outputs": [],
   "source": [
    "investigation = paragraphs[15].text"
   ]
  },
  {
   "cell_type": "code",
   "execution_count": 50,
   "metadata": {},
   "outputs": [],
   "source": [
    "about_investigator = paragraphs[17].text"
   ]
  },
  {
   "cell_type": "code",
   "execution_count": 82,
   "metadata": {},
   "outputs": [],
   "source": [
    "observ = []\n",
    "\n",
    "for i in range(0, 400):\n",
    "    soup = BeautifulSoup(reports[i]['html'])\n",
    "    paragraphs = soup.findAll('p')\n",
    "    try:\n",
    "        observ.append(paragraphs[8].text)\n",
    "    except:\n",
    "        pass"
   ]
  },
  {
   "cell_type": "code",
   "execution_count": 93,
   "metadata": {},
   "outputs": [],
   "source": [
    "actual_obv = []\n",
    "\n",
    "for x in range(0, len(observ)):\n",
    "    obv_set = set(observ[x].split(':'))\n",
    "    if 'OBSERVED' in obv_set:\n",
    "        actual_obv.append(observ[x])\n",
    "    else:\n",
    "        pass"
   ]
  },
  {
   "cell_type": "code",
   "execution_count": 94,
   "metadata": {},
   "outputs": [],
   "source": [
    "test_obv_df = pd.DataFrame({\n",
    "    'observations': actual_obv\n",
    "})"
   ]
  },
  {
   "cell_type": "code",
   "execution_count": 95,
   "metadata": {},
   "outputs": [
    {
     "data": {
      "text/html": [
       "<div>\n",
       "<style scoped>\n",
       "    .dataframe tbody tr th:only-of-type {\n",
       "        vertical-align: middle;\n",
       "    }\n",
       "\n",
       "    .dataframe tbody tr th {\n",
       "        vertical-align: top;\n",
       "    }\n",
       "\n",
       "    .dataframe thead th {\n",
       "        text-align: right;\n",
       "    }\n",
       "</style>\n",
       "<table border=\"1\" class=\"dataframe\">\n",
       "  <thead>\n",
       "    <tr style=\"text-align: right;\">\n",
       "      <th></th>\n",
       "      <th>observations</th>\n",
       "    </tr>\n",
       "  </thead>\n",
       "  <tbody>\n",
       "    <tr>\n",
       "      <th>0</th>\n",
       "      <td>OBSERVED: I and two of my friends were bored o...</td>\n",
       "    </tr>\n",
       "    <tr>\n",
       "      <th>1</th>\n",
       "      <td>OBSERVED: To whom it may concern, I am a comme...</td>\n",
       "    </tr>\n",
       "    <tr>\n",
       "      <th>2</th>\n",
       "      <td>OBSERVED: It was the month of July, 2009 in Fa...</td>\n",
       "    </tr>\n",
       "    <tr>\n",
       "      <th>3</th>\n",
       "      <td>OBSERVED: From the top of this hill the river ...</td>\n",
       "    </tr>\n",
       "    <tr>\n",
       "      <th>4</th>\n",
       "      <td>OBSERVED: It was a hot afternoon in august. I ...</td>\n",
       "    </tr>\n",
       "  </tbody>\n",
       "</table>\n",
       "</div>"
      ],
      "text/plain": [
       "                                        observations\n",
       "0  OBSERVED: I and two of my friends were bored o...\n",
       "1  OBSERVED: To whom it may concern, I am a comme...\n",
       "2  OBSERVED: It was the month of July, 2009 in Fa...\n",
       "3  OBSERVED: From the top of this hill the river ...\n",
       "4  OBSERVED: It was a hot afternoon in august. I ..."
      ]
     },
     "execution_count": 95,
     "metadata": {},
     "output_type": "execute_result"
    }
   ],
   "source": [
    "test_obv_df.head()"
   ]
  },
  {
   "cell_type": "code",
   "execution_count": 96,
   "metadata": {},
   "outputs": [],
   "source": [
    "test_obv_df.to_csv('test_observations.csv')"
   ]
  },
  {
   "cell_type": "code",
   "execution_count": 97,
   "metadata": {},
   "outputs": [],
   "source": [
    "t = {\n",
    "    'a': ['a']\n",
    "}"
   ]
  },
  {
   "cell_type": "code",
   "execution_count": 99,
   "metadata": {},
   "outputs": [
    {
     "data": {
      "text/plain": [
       "['a']"
      ]
     },
     "execution_count": 99,
     "metadata": {},
     "output_type": "execute_result"
    }
   ],
   "source": [
    "t['a']"
   ]
  },
  {
   "cell_type": "code",
   "execution_count": 172,
   "metadata": {},
   "outputs": [],
   "source": [
    "counter = 0\n",
    "\n",
    "submission_date = []\n",
    "submission_title = []\n",
    "classification = []\n",
    "observations = []\n",
    "nearest_town = []\n",
    "year = []\n",
    "season = []\n",
    "month = []\n",
    "other_witness = []\n",
    "time_cond = []\n",
    "county = []\n",
    "state = []\n",
    "\n",
    "for report in range(0, len(reports)):\n",
    "    soup = BeautifulSoup(reports[report]['html'])\n",
    "                         \n",
    "    paragraphs = soup.findAll('p')\n",
    "\n",
    "    try:\n",
    "        fields = soup.findAll('span', attrs={'class': 'field'})\n",
    "        date = fields[0].text\n",
    "        title = fields[1].text\n",
    "    except:\n",
    "        date = 'null'\n",
    "        title = 'null'\n",
    "\n",
    "    submission_date.append(date)\n",
    "    submission_title.append(title)\n",
    "\n",
    "    try:\n",
    "        c = soup.find('span', attrs={'class': 'reportclassification'}).text\n",
    "    except:\n",
    "        c = 'null'\n",
    "\n",
    "    classification.append(c)\n",
    "\n",
    "    paragraphs = soup.findAll('p')\n",
    "\n",
    "    for par in paragraphs:\n",
    "        p = par.text\n",
    "        p_set = set(p.split(':'))\n",
    "        if 'OBSERVED' in p_set:\n",
    "            observations.append(p)\n",
    "        elif 'SEASON' in p_set:\n",
    "            season.append(p)\n",
    "        elif 'MONTH' in p_set:\n",
    "            month.append(p)\n",
    "        elif 'YEAR' in p_set:\n",
    "            year.append(p)\n",
    "        elif 'NEAREST TOWN' in p_set:\n",
    "            nearest_town.append(p)\n",
    "        elif 'TIME AND CONDITIONS' in p_set:\n",
    "            time_cond.append(p)\n",
    "        elif 'OTHER WITNESSES' in p_set:\n",
    "            other_witness.append(p)\n",
    "        elif 'COUNTY' in p_set:\n",
    "            county.append(p)\n",
    "        elif 'STATE' in p_set:\n",
    "            state.append(p)\n",
    "        else:\n",
    "            pass\n",
    "\n",
    "    counter += 1\n",
    "\n",
    "    if len(observations) != counter:\n",
    "        observations.append('null')\n",
    "        \n",
    "    if len(submission_date) != counter:\n",
    "        submission_date.append('null')\n",
    "    \n",
    "    if len(submission_title) != counter:\n",
    "        submission_title.append('null')\n",
    "        \n",
    "    if len(classification) != counter:\n",
    "        classification.append('null')\n",
    "    \n",
    "    if len(nearest_town) != counter:\n",
    "        nearest_town.append('null')\n",
    "    \n",
    "    if len(year) != counter:\n",
    "        year.append('null')\n",
    "        \n",
    "    if len(season) != counter:\n",
    "        season.append('null')\n",
    "    \n",
    "    if len(month) != counter:\n",
    "        month.append('null')\n",
    "        \n",
    "    if len(other_witness) != counter:\n",
    "        other_witness.append('null')\n",
    "        \n",
    "    if len(time_cond) != counter:\n",
    "        time_cond.append('null')\n",
    "        \n",
    "    if len(county) != counter:\n",
    "        county.append('null')\n",
    "        \n",
    "    if len(state) != counter:\n",
    "        state.append('null')"
   ]
  },
  {
   "cell_type": "code",
   "execution_count": 189,
   "metadata": {},
   "outputs": [],
   "source": [
    "df = pd.DataFrame({\n",
    "    'submission_date': submission_date,\n",
    "    'submission_title': submission_title,\n",
    "    'observations': observations,\n",
    "    'classification': classification,\n",
    "    'nearest_town': nearest_town,\n",
    "    'state': state,\n",
    "    'county': county,\n",
    "    'time_and_condition': time_cond,\n",
    "    'other_witness': other_witness,\n",
    "    'season': season\n",
    "})"
   ]
  },
  {
   "cell_type": "code",
   "execution_count": 190,
   "metadata": {},
   "outputs": [
    {
     "data": {
      "text/html": [
       "<div>\n",
       "<style scoped>\n",
       "    .dataframe tbody tr th:only-of-type {\n",
       "        vertical-align: middle;\n",
       "    }\n",
       "\n",
       "    .dataframe tbody tr th {\n",
       "        vertical-align: top;\n",
       "    }\n",
       "\n",
       "    .dataframe thead th {\n",
       "        text-align: right;\n",
       "    }\n",
       "</style>\n",
       "<table border=\"1\" class=\"dataframe\">\n",
       "  <thead>\n",
       "    <tr style=\"text-align: right;\">\n",
       "      <th></th>\n",
       "      <th>submission_date</th>\n",
       "      <th>submission_title</th>\n",
       "      <th>observations</th>\n",
       "      <th>classification</th>\n",
       "      <th>nearest_town</th>\n",
       "      <th>state</th>\n",
       "      <th>county</th>\n",
       "      <th>time_and_condition</th>\n",
       "      <th>other_witness</th>\n",
       "      <th>season</th>\n",
       "    </tr>\n",
       "  </thead>\n",
       "  <tbody>\n",
       "    <tr>\n",
       "      <th>0</th>\n",
       "      <td>Submitted  by  witness   on Saturday, November...</td>\n",
       "      <td>Snowmobiler has encounter in deep snow near Po...</td>\n",
       "      <td>OBSERVED: I and two of my friends were bored o...</td>\n",
       "      <td>(Class A)</td>\n",
       "      <td>NEAREST TOWN: Anchorage / Hillside</td>\n",
       "      <td>STATE: Alaska</td>\n",
       "      <td>COUNTY: Anchorage County</td>\n",
       "      <td>TIME AND CONDITIONS: Middle of the night. The ...</td>\n",
       "      <td>OTHER WITNESSES: My two friends were snowmachi...</td>\n",
       "      <td>SEASON: Winter</td>\n",
       "    </tr>\n",
       "    <tr>\n",
       "      <th>1</th>\n",
       "      <td>Submitted  by  witness   on Thursday, June 3, ...</td>\n",
       "      <td>Four nocturnal hikers get pelted with snow nea...</td>\n",
       "      <td>OBSERVED: Me and a couple of friends had been ...</td>\n",
       "      <td>(Class B)</td>\n",
       "      <td>NEAREST TOWN: Anchorage</td>\n",
       "      <td>STATE: Alaska</td>\n",
       "      <td>COUNTY: Anchorage County</td>\n",
       "      <td>TIME AND CONDITIONS: Started at 11, ended at a...</td>\n",
       "      <td>OTHER WITNESSES: 4. Me, w-man, warren and sean...</td>\n",
       "      <td>SEASON: Winter</td>\n",
       "    </tr>\n",
       "    <tr>\n",
       "      <th>2</th>\n",
       "      <td>Submitted  by  witness A. M. on Tuesday, Octob...</td>\n",
       "      <td>Creature observed walking back and forth by wi...</td>\n",
       "      <td>OBSERVED: My hunting buddy and I were sitting ...</td>\n",
       "      <td>(Class B)</td>\n",
       "      <td>null</td>\n",
       "      <td>STATE: Alaska</td>\n",
       "      <td>COUNTY: Bethel County</td>\n",
       "      <td>null</td>\n",
       "      <td>OTHER WITNESSES: Scouting for caribou with hig...</td>\n",
       "      <td>SEASON: Fall</td>\n",
       "    </tr>\n",
       "    <tr>\n",
       "      <th>3</th>\n",
       "      <td>Submitted  by  witness   on Friday, May 6, 2005.</td>\n",
       "      <td>Fishermen find footprints east of Egegik</td>\n",
       "      <td>OBSERVED: To whom it may concern, I am a comme...</td>\n",
       "      <td>(Class B)</td>\n",
       "      <td>NEAREST TOWN: Egegik</td>\n",
       "      <td>STATE: Alaska</td>\n",
       "      <td>COUNTY: Bristol Bay County</td>\n",
       "      <td>TIME AND CONDITIONS: Approximately 12:30 pm, p...</td>\n",
       "      <td>OTHER WITNESSES: One other witness, and he was...</td>\n",
       "      <td>SEASON: Summer</td>\n",
       "    </tr>\n",
       "    <tr>\n",
       "      <th>4</th>\n",
       "      <td>Submitted  by  witness   on Monday, November 1...</td>\n",
       "      <td>Campers' encounter just after dark in the Wran...</td>\n",
       "      <td>OBSERVED: My hiking partner and I arrived late...</td>\n",
       "      <td>(Class A)</td>\n",
       "      <td>NEAREST TOWN: Kennikot, Alaska</td>\n",
       "      <td>STATE: Alaska</td>\n",
       "      <td>COUNTY: Cordova-McCarthy County</td>\n",
       "      <td>TIME AND CONDITIONS: About 12:00 Midnight / fu...</td>\n",
       "      <td>OTHER WITNESSES: I was the only witness, there...</td>\n",
       "      <td>SEASON: Summer</td>\n",
       "    </tr>\n",
       "    <tr>\n",
       "      <th>...</th>\n",
       "      <td>...</td>\n",
       "      <td>...</td>\n",
       "      <td>...</td>\n",
       "      <td>...</td>\n",
       "      <td>...</td>\n",
       "      <td>...</td>\n",
       "      <td>...</td>\n",
       "      <td>...</td>\n",
       "      <td>...</td>\n",
       "      <td>...</td>\n",
       "    </tr>\n",
       "    <tr>\n",
       "      <th>4852</th>\n",
       "      <td>Submitted  by  witness   on Monday, July 16, 2...</td>\n",
       "      <td>Hikers find footprint in Cypress Hills Interpr...</td>\n",
       "      <td>OBSERVED: Well I had camped in Cypress Hills I...</td>\n",
       "      <td>(Class B)</td>\n",
       "      <td>NEAREST TOWN: Maple Creek</td>\n",
       "      <td>null</td>\n",
       "      <td>null</td>\n",
       "      <td>TIME AND CONDITIONS: It was about 9:20 p.m. or...</td>\n",
       "      <td>OTHER WITNESSES: Only my girlfriend and I, we ...</td>\n",
       "      <td>SEASON: Summer</td>\n",
       "    </tr>\n",
       "    <tr>\n",
       "      <th>4853</th>\n",
       "      <td>Submitted  by  witness   on Saturday, August 3...</td>\n",
       "      <td>Manlike form seen crossing road at night in a ...</td>\n",
       "      <td>OBSERVED: I came across your website from foll...</td>\n",
       "      <td>(Class B)</td>\n",
       "      <td>NEAREST TOWN: Sylvania/Tisdale</td>\n",
       "      <td>null</td>\n",
       "      <td>null</td>\n",
       "      <td>TIME AND CONDITIONS: Dark,Night,rain,thunder,l...</td>\n",
       "      <td>OTHER WITNESSES: 5 people, two witnesses.</td>\n",
       "      <td>SEASON: Summer</td>\n",
       "    </tr>\n",
       "    <tr>\n",
       "      <th>4854</th>\n",
       "      <td>Submitted  by  witness   on Monday, November 2...</td>\n",
       "      <td>Man recalls close encounter while on afternoon...</td>\n",
       "      <td>OBSERVED: This incident happened in the summer...</td>\n",
       "      <td>(Class A)</td>\n",
       "      <td>NEAREST TOWN: Whitehorse</td>\n",
       "      <td>null</td>\n",
       "      <td>null</td>\n",
       "      <td>TIME AND CONDITIONS: 2 P.M. Like I said sunny,...</td>\n",
       "      <td>OTHER WITNESSES: Mother was present but did't ...</td>\n",
       "      <td>SEASON: Summer</td>\n",
       "    </tr>\n",
       "    <tr>\n",
       "      <th>4855</th>\n",
       "      <td>Submitted  by  witness   on Wednesday, July 13...</td>\n",
       "      <td>Daytime sighting by teenagers on the edge of C...</td>\n",
       "      <td>OBSERVED: I was about 14 years old, when me an...</td>\n",
       "      <td>(Class B)</td>\n",
       "      <td>NEAREST TOWN: Carmacks, YT</td>\n",
       "      <td>null</td>\n",
       "      <td>null</td>\n",
       "      <td>TIME AND CONDITIONS: daytime</td>\n",
       "      <td>OTHER WITNESSES: Yes my friend Amanda</td>\n",
       "      <td>SEASON: Summer</td>\n",
       "    </tr>\n",
       "    <tr>\n",
       "      <th>4856</th>\n",
       "      <td>Submitted  by  witness   on Wednesday, Novembe...</td>\n",
       "      <td>Man recalls his daylight sighting as a young f...</td>\n",
       "      <td>OBSERVED: The sighting occurred along the Yuko...</td>\n",
       "      <td>(Class A)</td>\n",
       "      <td>NEAREST TOWN: Whitehorse</td>\n",
       "      <td>null</td>\n",
       "      <td>null</td>\n",
       "      <td>TIME AND CONDITIONS: Early morning around 8am</td>\n",
       "      <td>OTHER WITNESSES: Just myself.</td>\n",
       "      <td>SEASON: Summer</td>\n",
       "    </tr>\n",
       "  </tbody>\n",
       "</table>\n",
       "<p>4857 rows × 10 columns</p>\n",
       "</div>"
      ],
      "text/plain": [
       "                                        submission_date  \\\n",
       "0     Submitted  by  witness   on Saturday, November...   \n",
       "1     Submitted  by  witness   on Thursday, June 3, ...   \n",
       "2     Submitted  by  witness A. M. on Tuesday, Octob...   \n",
       "3      Submitted  by  witness   on Friday, May 6, 2005.   \n",
       "4     Submitted  by  witness   on Monday, November 1...   \n",
       "...                                                 ...   \n",
       "4852  Submitted  by  witness   on Monday, July 16, 2...   \n",
       "4853  Submitted  by  witness   on Saturday, August 3...   \n",
       "4854  Submitted  by  witness   on Monday, November 2...   \n",
       "4855  Submitted  by  witness   on Wednesday, July 13...   \n",
       "4856  Submitted  by  witness   on Wednesday, Novembe...   \n",
       "\n",
       "                                       submission_title  \\\n",
       "0     Snowmobiler has encounter in deep snow near Po...   \n",
       "1     Four nocturnal hikers get pelted with snow nea...   \n",
       "2     Creature observed walking back and forth by wi...   \n",
       "3              Fishermen find footprints east of Egegik   \n",
       "4     Campers' encounter just after dark in the Wran...   \n",
       "...                                                 ...   \n",
       "4852  Hikers find footprint in Cypress Hills Interpr...   \n",
       "4853  Manlike form seen crossing road at night in a ...   \n",
       "4854  Man recalls close encounter while on afternoon...   \n",
       "4855  Daytime sighting by teenagers on the edge of C...   \n",
       "4856  Man recalls his daylight sighting as a young f...   \n",
       "\n",
       "                                           observations classification  \\\n",
       "0     OBSERVED: I and two of my friends were bored o...      (Class A)   \n",
       "1     OBSERVED: Me and a couple of friends had been ...      (Class B)   \n",
       "2     OBSERVED: My hunting buddy and I were sitting ...      (Class B)   \n",
       "3     OBSERVED: To whom it may concern, I am a comme...      (Class B)   \n",
       "4     OBSERVED: My hiking partner and I arrived late...      (Class A)   \n",
       "...                                                 ...            ...   \n",
       "4852  OBSERVED: Well I had camped in Cypress Hills I...      (Class B)   \n",
       "4853  OBSERVED: I came across your website from foll...      (Class B)   \n",
       "4854  OBSERVED: This incident happened in the summer...      (Class A)   \n",
       "4855  OBSERVED: I was about 14 years old, when me an...      (Class B)   \n",
       "4856  OBSERVED: The sighting occurred along the Yuko...      (Class A)   \n",
       "\n",
       "                            nearest_town          state  \\\n",
       "0     NEAREST TOWN: Anchorage / Hillside  STATE: Alaska   \n",
       "1                NEAREST TOWN: Anchorage  STATE: Alaska   \n",
       "2                                   null  STATE: Alaska   \n",
       "3                  NEAREST TOWN: Egegik   STATE: Alaska   \n",
       "4         NEAREST TOWN: Kennikot, Alaska  STATE: Alaska   \n",
       "...                                  ...            ...   \n",
       "4852           NEAREST TOWN: Maple Creek           null   \n",
       "4853      NEAREST TOWN: Sylvania/Tisdale           null   \n",
       "4854            NEAREST TOWN: Whitehorse           null   \n",
       "4855          NEAREST TOWN: Carmacks, YT           null   \n",
       "4856            NEAREST TOWN: Whitehorse           null   \n",
       "\n",
       "                               county  \\\n",
       "0            COUNTY: Anchorage County   \n",
       "1            COUNTY: Anchorage County   \n",
       "2               COUNTY: Bethel County   \n",
       "3          COUNTY: Bristol Bay County   \n",
       "4     COUNTY: Cordova-McCarthy County   \n",
       "...                               ...   \n",
       "4852                             null   \n",
       "4853                             null   \n",
       "4854                             null   \n",
       "4855                             null   \n",
       "4856                             null   \n",
       "\n",
       "                                     time_and_condition  \\\n",
       "0     TIME AND CONDITIONS: Middle of the night. The ...   \n",
       "1     TIME AND CONDITIONS: Started at 11, ended at a...   \n",
       "2                                                  null   \n",
       "3     TIME AND CONDITIONS: Approximately 12:30 pm, p...   \n",
       "4     TIME AND CONDITIONS: About 12:00 Midnight / fu...   \n",
       "...                                                 ...   \n",
       "4852  TIME AND CONDITIONS: It was about 9:20 p.m. or...   \n",
       "4853  TIME AND CONDITIONS: Dark,Night,rain,thunder,l...   \n",
       "4854  TIME AND CONDITIONS: 2 P.M. Like I said sunny,...   \n",
       "4855                       TIME AND CONDITIONS: daytime   \n",
       "4856      TIME AND CONDITIONS: Early morning around 8am   \n",
       "\n",
       "                                          other_witness          season  \n",
       "0     OTHER WITNESSES: My two friends were snowmachi...  SEASON: Winter  \n",
       "1     OTHER WITNESSES: 4. Me, w-man, warren and sean...  SEASON: Winter  \n",
       "2     OTHER WITNESSES: Scouting for caribou with hig...    SEASON: Fall  \n",
       "3     OTHER WITNESSES: One other witness, and he was...  SEASON: Summer  \n",
       "4     OTHER WITNESSES: I was the only witness, there...  SEASON: Summer  \n",
       "...                                                 ...             ...  \n",
       "4852  OTHER WITNESSES: Only my girlfriend and I, we ...  SEASON: Summer  \n",
       "4853          OTHER WITNESSES: 5 people, two witnesses.  SEASON: Summer  \n",
       "4854  OTHER WITNESSES: Mother was present but did't ...  SEASON: Summer  \n",
       "4855              OTHER WITNESSES: Yes my friend Amanda  SEASON: Summer  \n",
       "4856                      OTHER WITNESSES: Just myself.  SEASON: Summer  \n",
       "\n",
       "[4857 rows x 10 columns]"
      ]
     },
     "execution_count": 190,
     "metadata": {},
     "output_type": "execute_result"
    }
   ],
   "source": [
    "df"
   ]
  },
  {
   "cell_type": "code",
   "execution_count": 191,
   "metadata": {},
   "outputs": [],
   "source": [
    "df.to_csv('df.csv')"
   ]
  },
  {
   "cell_type": "code",
   "execution_count": 184,
   "metadata": {},
   "outputs": [],
   "source": []
  },
  {
   "cell_type": "code",
   "execution_count": 185,
   "metadata": {},
   "outputs": [],
   "source": []
  },
  {
   "cell_type": "code",
   "execution_count": 186,
   "metadata": {},
   "outputs": [
    {
     "data": {
      "text/html": [
       "<div>\n",
       "<style scoped>\n",
       "    .dataframe tbody tr th:only-of-type {\n",
       "        vertical-align: middle;\n",
       "    }\n",
       "\n",
       "    .dataframe tbody tr th {\n",
       "        vertical-align: top;\n",
       "    }\n",
       "\n",
       "    .dataframe thead th {\n",
       "        text-align: right;\n",
       "    }\n",
       "</style>\n",
       "<table border=\"1\" class=\"dataframe\">\n",
       "  <thead>\n",
       "    <tr style=\"text-align: right;\">\n",
       "      <th></th>\n",
       "      <th>submission_date</th>\n",
       "      <th>submission_title</th>\n",
       "      <th>observations</th>\n",
       "      <th>classification</th>\n",
       "      <th>nearest_town</th>\n",
       "      <th>state</th>\n",
       "      <th>county</th>\n",
       "      <th>time_and_condition</th>\n",
       "      <th>other_witness</th>\n",
       "      <th>season</th>\n",
       "    </tr>\n",
       "  </thead>\n",
       "  <tbody>\n",
       "    <tr>\n",
       "      <th>0</th>\n",
       "      <td>Submitted  by  witness   on Saturday, November...</td>\n",
       "      <td>Snowmobiler has encounter in deep snow near Po...</td>\n",
       "      <td>OBSERVED: I and two of my friends were bored o...</td>\n",
       "      <td>lass A</td>\n",
       "      <td>NEAREST TOWN: Anchorage / Hillside</td>\n",
       "      <td>STATE: Alaska</td>\n",
       "      <td>COUNTY: Anchorage County</td>\n",
       "      <td>TIME AND CONDITIONS: Middle of the night. The ...</td>\n",
       "      <td>OTHER WITNESSES: My two friends were snowmachi...</td>\n",
       "      <td>inter</td>\n",
       "    </tr>\n",
       "    <tr>\n",
       "      <th>1</th>\n",
       "      <td>Submitted  by  witness   on Thursday, June 3, ...</td>\n",
       "      <td>Four nocturnal hikers get pelted with snow nea...</td>\n",
       "      <td>OBSERVED: Me and a couple of friends had been ...</td>\n",
       "      <td>lass B</td>\n",
       "      <td>NEAREST TOWN: Anchorage</td>\n",
       "      <td>STATE: Alaska</td>\n",
       "      <td>COUNTY: Anchorage County</td>\n",
       "      <td>TIME AND CONDITIONS: Started at 11, ended at a...</td>\n",
       "      <td>OTHER WITNESSES: 4. Me, w-man, warren and sean...</td>\n",
       "      <td>inter</td>\n",
       "    </tr>\n",
       "    <tr>\n",
       "      <th>2</th>\n",
       "      <td>Submitted  by  witness A. M. on Tuesday, Octob...</td>\n",
       "      <td>Creature observed walking back and forth by wi...</td>\n",
       "      <td>OBSERVED: My hunting buddy and I were sitting ...</td>\n",
       "      <td>lass B</td>\n",
       "      <td>null</td>\n",
       "      <td>STATE: Alaska</td>\n",
       "      <td>COUNTY: Bethel County</td>\n",
       "      <td>null</td>\n",
       "      <td>OTHER WITNESSES: Scouting for caribou with hig...</td>\n",
       "      <td>all</td>\n",
       "    </tr>\n",
       "    <tr>\n",
       "      <th>3</th>\n",
       "      <td>Submitted  by  witness   on Friday, May 6, 2005.</td>\n",
       "      <td>Fishermen find footprints east of Egegik</td>\n",
       "      <td>OBSERVED: To whom it may concern, I am a comme...</td>\n",
       "      <td>lass B</td>\n",
       "      <td>NEAREST TOWN: Egegik</td>\n",
       "      <td>STATE: Alaska</td>\n",
       "      <td>COUNTY: Bristol Bay County</td>\n",
       "      <td>TIME AND CONDITIONS: Approximately 12:30 pm, p...</td>\n",
       "      <td>OTHER WITNESSES: One other witness, and he was...</td>\n",
       "      <td>ummer</td>\n",
       "    </tr>\n",
       "    <tr>\n",
       "      <th>4</th>\n",
       "      <td>Submitted  by  witness   on Monday, November 1...</td>\n",
       "      <td>Campers' encounter just after dark in the Wran...</td>\n",
       "      <td>OBSERVED: My hiking partner and I arrived late...</td>\n",
       "      <td>lass A</td>\n",
       "      <td>NEAREST TOWN: Kennikot, Alaska</td>\n",
       "      <td>STATE: Alaska</td>\n",
       "      <td>COUNTY: Cordova-McCarthy County</td>\n",
       "      <td>TIME AND CONDITIONS: About 12:00 Midnight / fu...</td>\n",
       "      <td>OTHER WITNESSES: I was the only witness, there...</td>\n",
       "      <td>ummer</td>\n",
       "    </tr>\n",
       "  </tbody>\n",
       "</table>\n",
       "</div>"
      ],
      "text/plain": [
       "                                     submission_date  \\\n",
       "0  Submitted  by  witness   on Saturday, November...   \n",
       "1  Submitted  by  witness   on Thursday, June 3, ...   \n",
       "2  Submitted  by  witness A. M. on Tuesday, Octob...   \n",
       "3   Submitted  by  witness   on Friday, May 6, 2005.   \n",
       "4  Submitted  by  witness   on Monday, November 1...   \n",
       "\n",
       "                                    submission_title  \\\n",
       "0  Snowmobiler has encounter in deep snow near Po...   \n",
       "1  Four nocturnal hikers get pelted with snow nea...   \n",
       "2  Creature observed walking back and forth by wi...   \n",
       "3           Fishermen find footprints east of Egegik   \n",
       "4  Campers' encounter just after dark in the Wran...   \n",
       "\n",
       "                                        observations classification  \\\n",
       "0  OBSERVED: I and two of my friends were bored o...         lass A   \n",
       "1  OBSERVED: Me and a couple of friends had been ...         lass B   \n",
       "2  OBSERVED: My hunting buddy and I were sitting ...         lass B   \n",
       "3  OBSERVED: To whom it may concern, I am a comme...         lass B   \n",
       "4  OBSERVED: My hiking partner and I arrived late...         lass A   \n",
       "\n",
       "                         nearest_town          state  \\\n",
       "0  NEAREST TOWN: Anchorage / Hillside  STATE: Alaska   \n",
       "1             NEAREST TOWN: Anchorage  STATE: Alaska   \n",
       "2                                null  STATE: Alaska   \n",
       "3               NEAREST TOWN: Egegik   STATE: Alaska   \n",
       "4      NEAREST TOWN: Kennikot, Alaska  STATE: Alaska   \n",
       "\n",
       "                            county  \\\n",
       "0         COUNTY: Anchorage County   \n",
       "1         COUNTY: Anchorage County   \n",
       "2            COUNTY: Bethel County   \n",
       "3       COUNTY: Bristol Bay County   \n",
       "4  COUNTY: Cordova-McCarthy County   \n",
       "\n",
       "                                  time_and_condition  \\\n",
       "0  TIME AND CONDITIONS: Middle of the night. The ...   \n",
       "1  TIME AND CONDITIONS: Started at 11, ended at a...   \n",
       "2                                               null   \n",
       "3  TIME AND CONDITIONS: Approximately 12:30 pm, p...   \n",
       "4  TIME AND CONDITIONS: About 12:00 Midnight / fu...   \n",
       "\n",
       "                                       other_witness season  \n",
       "0  OTHER WITNESSES: My two friends were snowmachi...  inter  \n",
       "1  OTHER WITNESSES: 4. Me, w-man, warren and sean...  inter  \n",
       "2  OTHER WITNESSES: Scouting for caribou with hig...    all  \n",
       "3  OTHER WITNESSES: One other witness, and he was...  ummer  \n",
       "4  OTHER WITNESSES: I was the only witness, there...  ummer  "
      ]
     },
     "execution_count": 186,
     "metadata": {},
     "output_type": "execute_result"
    }
   ],
   "source": [
    "df.head()"
   ]
  },
  {
   "cell_type": "code",
   "execution_count": 187,
   "metadata": {},
   "outputs": [],
   "source": []
  },
  {
   "cell_type": "code",
   "execution_count": 188,
   "metadata": {},
   "outputs": [
    {
     "data": {
      "text/html": [
       "<div>\n",
       "<style scoped>\n",
       "    .dataframe tbody tr th:only-of-type {\n",
       "        vertical-align: middle;\n",
       "    }\n",
       "\n",
       "    .dataframe tbody tr th {\n",
       "        vertical-align: top;\n",
       "    }\n",
       "\n",
       "    .dataframe thead th {\n",
       "        text-align: right;\n",
       "    }\n",
       "</style>\n",
       "<table border=\"1\" class=\"dataframe\">\n",
       "  <thead>\n",
       "    <tr style=\"text-align: right;\">\n",
       "      <th></th>\n",
       "      <th>submission_date</th>\n",
       "      <th>submission_title</th>\n",
       "      <th>observations</th>\n",
       "      <th>classification</th>\n",
       "      <th>nearest_town</th>\n",
       "      <th>state</th>\n",
       "      <th>county</th>\n",
       "      <th>time_and_condition</th>\n",
       "      <th>other_witness</th>\n",
       "      <th>season</th>\n",
       "    </tr>\n",
       "  </thead>\n",
       "  <tbody>\n",
       "    <tr>\n",
       "      <th>0</th>\n",
       "      <td>Submitted  by  witness   on Saturday, November...</td>\n",
       "      <td>Snowmobiler has encounter in deep snow near Po...</td>\n",
       "      <td>OBSERVED: I and two of my friends were bored o...</td>\n",
       "      <td>lass A</td>\n",
       "      <td>NEAREST TOWN: Anchorage / Hillside</td>\n",
       "      <td>STATE: Alaska</td>\n",
       "      <td>COUNTY: Anchorage County</td>\n",
       "      <td>TIME AND CONDITIONS: Middle of the night. The ...</td>\n",
       "      <td>OTHER WITNESSES: My two friends were snowmachi...</td>\n",
       "      <td></td>\n",
       "    </tr>\n",
       "    <tr>\n",
       "      <th>1</th>\n",
       "      <td>Submitted  by  witness   on Thursday, June 3, ...</td>\n",
       "      <td>Four nocturnal hikers get pelted with snow nea...</td>\n",
       "      <td>OBSERVED: Me and a couple of friends had been ...</td>\n",
       "      <td>lass B</td>\n",
       "      <td>NEAREST TOWN: Anchorage</td>\n",
       "      <td>STATE: Alaska</td>\n",
       "      <td>COUNTY: Anchorage County</td>\n",
       "      <td>TIME AND CONDITIONS: Started at 11, ended at a...</td>\n",
       "      <td>OTHER WITNESSES: 4. Me, w-man, warren and sean...</td>\n",
       "      <td></td>\n",
       "    </tr>\n",
       "    <tr>\n",
       "      <th>2</th>\n",
       "      <td>Submitted  by  witness A. M. on Tuesday, Octob...</td>\n",
       "      <td>Creature observed walking back and forth by wi...</td>\n",
       "      <td>OBSERVED: My hunting buddy and I were sitting ...</td>\n",
       "      <td>lass B</td>\n",
       "      <td>null</td>\n",
       "      <td>STATE: Alaska</td>\n",
       "      <td>COUNTY: Bethel County</td>\n",
       "      <td>null</td>\n",
       "      <td>OTHER WITNESSES: Scouting for caribou with hig...</td>\n",
       "      <td></td>\n",
       "    </tr>\n",
       "    <tr>\n",
       "      <th>3</th>\n",
       "      <td>Submitted  by  witness   on Friday, May 6, 2005.</td>\n",
       "      <td>Fishermen find footprints east of Egegik</td>\n",
       "      <td>OBSERVED: To whom it may concern, I am a comme...</td>\n",
       "      <td>lass B</td>\n",
       "      <td>NEAREST TOWN: Egegik</td>\n",
       "      <td>STATE: Alaska</td>\n",
       "      <td>COUNTY: Bristol Bay County</td>\n",
       "      <td>TIME AND CONDITIONS: Approximately 12:30 pm, p...</td>\n",
       "      <td>OTHER WITNESSES: One other witness, and he was...</td>\n",
       "      <td></td>\n",
       "    </tr>\n",
       "    <tr>\n",
       "      <th>4</th>\n",
       "      <td>Submitted  by  witness   on Monday, November 1...</td>\n",
       "      <td>Campers' encounter just after dark in the Wran...</td>\n",
       "      <td>OBSERVED: My hiking partner and I arrived late...</td>\n",
       "      <td>lass A</td>\n",
       "      <td>NEAREST TOWN: Kennikot, Alaska</td>\n",
       "      <td>STATE: Alaska</td>\n",
       "      <td>COUNTY: Cordova-McCarthy County</td>\n",
       "      <td>TIME AND CONDITIONS: About 12:00 Midnight / fu...</td>\n",
       "      <td>OTHER WITNESSES: I was the only witness, there...</td>\n",
       "      <td></td>\n",
       "    </tr>\n",
       "  </tbody>\n",
       "</table>\n",
       "</div>"
      ],
      "text/plain": [
       "                                     submission_date  \\\n",
       "0  Submitted  by  witness   on Saturday, November...   \n",
       "1  Submitted  by  witness   on Thursday, June 3, ...   \n",
       "2  Submitted  by  witness A. M. on Tuesday, Octob...   \n",
       "3   Submitted  by  witness   on Friday, May 6, 2005.   \n",
       "4  Submitted  by  witness   on Monday, November 1...   \n",
       "\n",
       "                                    submission_title  \\\n",
       "0  Snowmobiler has encounter in deep snow near Po...   \n",
       "1  Four nocturnal hikers get pelted with snow nea...   \n",
       "2  Creature observed walking back and forth by wi...   \n",
       "3           Fishermen find footprints east of Egegik   \n",
       "4  Campers' encounter just after dark in the Wran...   \n",
       "\n",
       "                                        observations classification  \\\n",
       "0  OBSERVED: I and two of my friends were bored o...         lass A   \n",
       "1  OBSERVED: Me and a couple of friends had been ...         lass B   \n",
       "2  OBSERVED: My hunting buddy and I were sitting ...         lass B   \n",
       "3  OBSERVED: To whom it may concern, I am a comme...         lass B   \n",
       "4  OBSERVED: My hiking partner and I arrived late...         lass A   \n",
       "\n",
       "                         nearest_town          state  \\\n",
       "0  NEAREST TOWN: Anchorage / Hillside  STATE: Alaska   \n",
       "1             NEAREST TOWN: Anchorage  STATE: Alaska   \n",
       "2                                null  STATE: Alaska   \n",
       "3               NEAREST TOWN: Egegik   STATE: Alaska   \n",
       "4      NEAREST TOWN: Kennikot, Alaska  STATE: Alaska   \n",
       "\n",
       "                            county  \\\n",
       "0         COUNTY: Anchorage County   \n",
       "1         COUNTY: Anchorage County   \n",
       "2            COUNTY: Bethel County   \n",
       "3       COUNTY: Bristol Bay County   \n",
       "4  COUNTY: Cordova-McCarthy County   \n",
       "\n",
       "                                  time_and_condition  \\\n",
       "0  TIME AND CONDITIONS: Middle of the night. The ...   \n",
       "1  TIME AND CONDITIONS: Started at 11, ended at a...   \n",
       "2                                               null   \n",
       "3  TIME AND CONDITIONS: Approximately 12:30 pm, p...   \n",
       "4  TIME AND CONDITIONS: About 12:00 Midnight / fu...   \n",
       "\n",
       "                                       other_witness season  \n",
       "0  OTHER WITNESSES: My two friends were snowmachi...         \n",
       "1  OTHER WITNESSES: 4. Me, w-man, warren and sean...         \n",
       "2  OTHER WITNESSES: Scouting for caribou with hig...         \n",
       "3  OTHER WITNESSES: One other witness, and he was...         \n",
       "4  OTHER WITNESSES: I was the only witness, there...         "
      ]
     },
     "execution_count": 188,
     "metadata": {},
     "output_type": "execute_result"
    }
   ],
   "source": [
    "df.head()"
   ]
  },
  {
   "cell_type": "code",
   "execution_count": null,
   "metadata": {},
   "outputs": [],
   "source": []
  }
 ],
 "metadata": {
  "kernelspec": {
   "display_name": "Python 3",
   "language": "python",
   "name": "python3"
  },
  "language_info": {
   "codemirror_mode": {
    "name": "ipython",
    "version": 3
   },
   "file_extension": ".py",
   "mimetype": "text/x-python",
   "name": "python",
   "nbconvert_exporter": "python",
   "pygments_lexer": "ipython3",
   "version": "3.7.3"
  }
 },
 "nbformat": 4,
 "nbformat_minor": 2
}
